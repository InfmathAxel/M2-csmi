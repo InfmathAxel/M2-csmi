{
 "cells": [
  {
   "cell_type": "markdown",
   "metadata": {},
   "source": [
    "# SciML M2, TP1: interpolation, incertitude et EDP"
   ]
  },
  {
   "cell_type": "markdown",
   "metadata": {},
   "source": [
    "On se propose ici d'utiliser les approches introduites dans ce cours pour \n",
    "interpoler des solutions obtenues par différence finis et étudier un problème d'incertitude."
   ]
  },
  {
   "cell_type": "markdown",
   "metadata": {},
   "source": [
    "### Exercice 1: Interpolation"
   ]
  },
  {
   "cell_type": "markdown",
   "metadata": {},
   "source": [
    "On considère le problème EDP suivant:\n",
    "\n",
    "$$\n",
    "\\left\\{\\begin{array}{l}\n",
    "-\\partial_{xx} u =f, \\quad x\\in ]0,1[\\\\\n",
    "u(0)=u(1)=0\\end{array}\\right.\n",
    "$$\n",
    "\n",
    "avec $f(x)$ un membre de droite donné.\n",
    "\n",
    "Pour résoudre cette équation on se donne un maillage $M=\\left\\{x_0,....,x_{n+1}\\right\\}$ de pas $\\Delta x$ et on utilise la méthode \n",
    "des différences finis. On note $u_i \\approx u(x_i)$. Cela donne le schéma suivant\n",
    "\n",
    "$$\n",
    "\\frac{-u_{i+1}+2u_i-u_{i-1}}{\\Delta x^2} =f(x_i), \\quad u_0=u_{n+1}=0\n",
    "$$\n",
    "\n",
    "Cela revient a résoudre un système $A u=F$ que l'on détaillera dans le code suivant."
   ]
  },
  {
   "cell_type": "code",
   "execution_count": null,
   "metadata": {},
   "outputs": [
    {
     "data": {
      "text/plain": [
       "<matplotlib.collections.PathCollection at 0x12d509bd0>"
      ]
     },
     "execution_count": 41,
     "metadata": {},
     "output_type": "execute_result"
    },
    {
     "data": {
      "image/png": "[encoded data removed]",
      "text/plain": [
       "<Figure size 640x480 with 1 Axes>"
      ]
     },
     "metadata": {},
     "output_type": "display_data"
    }
   ],
   "source": [
    "import numpy as np\n",
    "import matplotlib.pyplot as plt\n",
    "\n",
    "def solve(N,Mh,vector_f=np.ones(100)):\n",
    "    dx= 1./N\n",
    "    A= (2.0/dx)*np.eye(N+1,k=0)-(1.0/dx)*np.eye(N+1,k=-1)-(1.0/dx)*np.eye(N+1,k=1)\n",
    "    A[0,:]=0.0; A[0,0]=1.0\n",
    "    A[-1,:]=0.0; A[-1,-1]=1.0\n",
    "    vector_f[0]=0.0; vector_f[-1]=0.0\n",
    "    x= np.linalg.solve(A,vector_f)\n",
    "    return x\n",
    "\n",
    "N=20\n",
    "Mh = np.linspace(0,1,N+1)\n",
    "f=4.0*np.pi**2.0*np.sin(2.0*np.pi*Mh)\n",
    "x=solve(N,Mh,vector_f=f)\n",
    "\n",
    "plt.plot(Mh,x)\n",
    "plt.scatter(Mh,x)\n"
   ]
  },
  {
   "cell_type": "markdown",
   "metadata": {},
   "source": [
    "### Exercice 1"
   ]
  },
  {
   "cell_type": "markdown",
   "metadata": {},
   "source": [
    "- Installez scikit-learn.\n",
    "- Utilisez les régression polynomiales ou à noyaux (avec plusieurs noyaux) pour interpoler le résultat\n",
    "sur un maillage de 84 points.\n",
    "- Validez les résultats obtenus en comparant avec la solution exacte."
   ]
  },
  {
   "cell_type": "markdown",
   "metadata": {},
   "source": [
    "### Exercice 2"
   ]
  },
  {
   "cell_type": "markdown",
   "metadata": {},
   "source": [
    "Installer pytorch et effectuer la même chose avec un MLP."
   ]
  },
  {
   "cell_type": "markdown",
   "metadata": {},
   "source": [
    "\n",
    "\n",
    "Exemple de code perceptron:\n",
    "\n",
    "'''   \n",
    "    ## class mlp\n",
    "    \n",
    "    class mlp(nn.Module):\n",
    "        def __init__(self, layer_sizes=list):\n",
    "            super().__init__()\n",
    "\n",
    "            self.layer_sizes = layer_sizes\n",
    "            self.hidden_layers = []\n",
    "\n",
    "            for i in range(0,len(layer_sizes)-1):\n",
    "                self.hidden_layers.append(nn.Linear(self.layer_sizes[i], self.layer_sizes[i+1]))\n",
    "\n",
    "            self.hidden_layers = nn.ModuleList(self.hidden_layers)\n",
    "            self.activation=nn.Tanh()\n",
    "\n",
    "        def forward(self, inputs):\n",
    "            for i in range(0,len(self.layer_sizes)-1):\n",
    "                inputs = self.activation(self.hidden_layers[i].forward(inputs))\n",
    "            return inputs\n",
    "'''"
   ]
  },
  {
   "cell_type": "markdown",
   "metadata": {},
   "source": [
    "Exemple d'apprentissage\n",
    "\n",
    "'''\n",
    "    ## training\n",
    "    \n",
    "    from torch.utils.data import TensorDataset, DataLoader\n",
    "    train_set = TensorDataset(X, Y)\n",
    "    train_loader = DataLoader(train_set, batch_size=10, shuffle=True)\n",
    "\n",
    "    criterion = nn.MSELoss()\n",
    "    optimizer = optim.Adam(model.parameters())\n",
    "    for epoch in range(epochs):\n",
    "        total_loss = 0\n",
    "        num = 0\n",
    "        for x, y in data:\n",
    "            optimizer.zero_grad()\n",
    "            y_pred = model(x)\n",
    "            loss = criterion(y_pred, y)\n",
    "            loss.backward()\n",
    "            optimizer.step()\n",
    "            total_loss += loss.item()\n",
    "            print(epoch, total_loss )\n",
    "'''"
   ]
  },
  {
   "cell_type": "markdown",
   "metadata": {},
   "source": [
    "### Exercice 3"
   ]
  },
  {
   "cell_type": "markdown",
   "metadata": {},
   "source": [
    "On se propose d'étudier la propagation d'incertitude.\n",
    "\n",
    "On suppose qu'on ne connait pas exactement f mais qu'on connait deux choses:\n",
    "- des valeurs ponctuelles de $f$\n",
    "- la régularité de $f$\n",
    "\n",
    "On voudrait propager l'incertitude qu'on a sur $f$ (qui suit une loi $P$) et connaitre celle qu'on a sur $u$"
   ]
  },
  {
   "cell_type": "markdown",
   "metadata": {},
   "source": [
    "Pour cela, on suppose qu'on peut échantillonner des fonctions $f$ aux points de mesures.\n",
    "On pose $\\mathbf{f}=(f^1,...,f^m)$ un membre de droite qui évalue une fonction $f$ aux $m$ points de mesures.\n",
    "\n",
    "On note $\\mathbf{f}_i$ un échantillon aléatoire de $P$.\n",
    "Si on résout avec notre schéma aux différence finis le problème associé à $\\mathbf{f}_i$ on\n",
    "obtient $\\mathbf{u}_i$.\n",
    "\n",
    "A l'aide d'estimateur empirique on peut construire la moyenne et la variance de la loi sur les solutions $u$\n",
    "avec\n",
    "\n",
    "$$\n",
    "E[u]=\\frac{1}{n}\\sum_{i=1}^n\\mathbf{u}_i, \\quad Var(u)=\\frac{1}{n}\\sum_{i=1}^n(\\mathbf{u}_i-E[u])^2\n",
    "$$"
   ]
  },
  {
   "cell_type": "markdown",
   "metadata": {},
   "source": [
    "On veut donc tracer l'incertitude sur $u$. Pour cela on va tracer\n",
    "$E[u]$ et l'ecart type $\\sigma=\\sqrt{Var(U)}$ avec\n",
    "\n",
    "'''\n",
    "    ## code pour afficher moyenne et ecart type\n",
    "    \n",
    "    plt.plot(X, mean_prediction, label=\"Mean prediction\")\n",
    "    plt.fill_between(\n",
    "        X.ravel(),\n",
    "        mean_prediction - 1.96 * std_prediction,\n",
    "        mean_prediction + 1.96 * std_prediction,\n",
    "        alpha=0.5,\n",
    "        label=r\"95% confidence interval\",\n",
    "    )\n",
    "'''"
   ]
  },
  {
   "cell_type": "markdown",
   "metadata": {},
   "source": [
    "Maintenant il reste a construire la loi de $f$ nommé $P$\n",
    "\n",
    "Pour cela on va choisir un processus Gaussien qui va échantillonner des fonctions de régularité donnée.\n",
    "Puis on va le contraindre par des données.\n",
    "\n",
    "Pour cela:\n",
    "- on choisira $m$ points $(x_1,sin(x_1)+\\epsilon_1,...,x_m,sin(x_m)+\\epsilon_m)$,\n",
    "- on \"fitera\" le processus Gaussien,\n",
    "- on échantillonnera $n$ sources,\n",
    "- on calcul les $n$ solutions,\n",
    "- on calcul la loi de $u$,\n",
    "- on affiche le résultat."
   ]
  },
  {
   "cell_type": "markdown",
   "metadata": {},
   "source": []
  }
 ],
 "metadata": {
  "kernelspec": {
   "display_name": "Python 3",
   "language": "python",
   "name": "python3"
  },
  "language_info": {
   "codemirror_mode": {
    "name": "ipython",
    "version": 3
   },
   "file_extension": ".py",
   "mimetype": "text/x-python",
   "name": "python",
   "nbconvert_exporter": "python",
   "pygments_lexer": "ipython3",
   "version": "3.11.9"
  }
 },
 "nbformat": 4,
 "nbformat_minor": 2
}
