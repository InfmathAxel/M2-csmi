{
 "cells": [
  {
   "cell_type": "markdown",
   "metadata": {},
   "source": [
    "TP2-Modèle SIR,stratégie optimal de confinement\n",
    "$$\n",
    "\\begin{cases}\n",
    "S'(t) = -u(t) \\frac{S(t)I(t)}{N(t)}   & t >= 0 \\\\\n",
    "I'(t) = u(t)\\frac{S(t)I(t)}{N(t)} - \\beta I(t)  \\\\\n",
    "R'(t) = \\beta I(t)  \\\\\n",
    "(S(0),I(0),R(0)) = (S_0,I_0,R_0) \\\\ \n",
    "N(t) = S(t) + I(t) + R(t)\n",
    "\\end{cases}\n",
    "$$\n",
    "\n",
    "S(t) étant la population saine, I(t) la population infecté et R(t) la population morte ou guéries ( hors du cycle sain/infecté)  \n",
    "u(.) dans [0,$\\alpha$] u() = 0 donne un confinement totale et u = $\\alpha$ un confinement nul"
   ]
  },
  {
   "cell_type": "code",
   "execution_count": 41,
   "metadata": {},
   "outputs": [],
   "source": [
    "import numpy as np\n",
    "import matplotlib.pyplot as plt \n"
   ]
  },
  {
   "cell_type": "code",
   "execution_count": 42,
   "metadata": {},
   "outputs": [],
   "source": [
    "alpha = 0.34 # taux d'infection \n",
    "beta = 0.1  # taux mortalité\n",
    "R0 = alpha/beta # taux  de reproduction\n",
    "S0 = 6.7e7 -2e4 \n",
    "I0 = 2e4\n",
    "R0 = 0\n",
    "T = 90"
   ]
  },
  {
   "cell_type": "markdown",
   "metadata": {},
   "source": [
    "1)\n",
    "\n",
    "On motive notre choix de $L_t$ pour réduire au maximum l'impact sur les finances tout en permettant de contenir l'infection "
   ]
  },
  {
   "cell_type": "markdown",
   "metadata": {},
   "source": [
    "2) \n",
    "On a : \n",
    "\n",
    "$$\n",
    "N(t) = S(t) + I(t) + R(t) \\\\\n",
    "<=> N'(t) = S'(t) + I'(t) + R'(t) \\\\\n",
    "<=> -u(t) \\frac{S(t)I(t)}{N(t)}  +  u(t)\\frac{S(t)I(t)}{N(t)} - \\beta I(t) + \\beta I(t) = 0 \\\\\n",
    "\n",
    "<=> N'(t) = 0\n",
    "\n",
    "$$\n",
    "\n",
    "La dérivée de N est nulle, donc N est constante"
   ]
  },
  {
   "cell_type": "markdown",
   "metadata": {},
   "source": []
  },
  {
   "cell_type": "code",
   "execution_count": 70,
   "metadata": {},
   "outputs": [],
   "source": [
    "u = 0.02\n",
    "\n",
    "def g(u,alpha):\n",
    "    return 1/2*(alpha**2-u**2)\n",
    "def f(I):\n",
    "    return I**2/2\n",
    "\n",
    "def Runge_Kunta(S0,I0,R0,Beta,u,T):\n",
    "    s = [S0]\n",
    "    i = [I0]\n",
    "    r = [R0]\n",
    "    N = S0+I0+R0\n",
    "    for k in range(0,T):\n",
    "        k1_s = -u* s[k] * i[k] /N\n",
    "        k2_s = -u*(s[k]+k1_s/2)*i[k]/N\n",
    "        k3_s = -u*(s[k]+k2_s/2)*i[k]/N\n",
    "        k4_s = -u*(s[k]+k3_s)*i[k]/N\n",
    "\n",
    "        k1_i = u*s[k]*i[k]/N - Beta*i[k]\n",
    "        k2_i = u*s[k]*(i[k]+k1_s/2)/N - Beta*(i[k]+k1_s/2)\n",
    "        k3_i = u*s[k]*(i[k]+k2_s/2)/N - Beta*(i[k]+k2_s/2)\n",
    "        k4_i = u*s[k]*(k3_s+i[k])/N - Beta*(i[k]+k3_s)\n",
    "\n",
    "        s_1 = s[k] + 1/6*(k1_s+k2_s+k3_s+k4_s)\n",
    "        i_1 = i[k] + 1/6*(k1_i+k2_i+k3_i+k4_i)\n",
    "        s.append(s_1)\n",
    "        i.append(i_1)\n",
    "        r.append(N - s_1 - i_1) # car Beta*I ne fonctionne pas très bien\n",
    "        \n",
    "    return s,i,r\n",
    "\n"
   ]
  },
  {
   "cell_type": "code",
   "execution_count": 72,
   "metadata": {},
   
   
   
   "source": [
    "fig,ax = plt.subplots(3,1,figsize=(10,10))\n",
    "tps = np.arange(T+1)\n",
    "u = [0.5,alpha,0.00002]\n",
    "for k in range(3):\n",
    "    s,i,r = Runge_Kunta(S0,I0,R0,beta,u[k],T)\n",
    "    ax[k].plot(tps,s,label='sain')\n",
    "    ax[k].plot(tps,i,label = 'infecte')\n",
    "    ax[k].plot(tps,r,label = 'r' )\n",
    "    ax[k].legend()\n",
    "plt.show()"
   ]
  },
  {
   "cell_type": "markdown",
   "metadata": {},
   "source": [
    "Avec un controle de l'épidémie,elle durep plus longtemp mais moins de gens tombent malades.Sans controle tout le monde tombe malade avec un grand pique d'infecté."
   ]
  },
  {
   "cell_type": "code",
   "execution_count": null,
   "metadata": {},
   "outputs": [],
   "source": []
  }
 ],
 "metadata": {
  "kernelspec": {
   "display_name": "Python 3",
   "language": "python",
   "name": "python3"
  },
  "language_info": {
   "codemirror_mode": {
    "name": "ipython",
    "version": 3
   },
   "file_extension": ".py",
   "mimetype": "text/x-python",
   "name": "python",
   "nbconvert_exporter": "python",
   "pygments_lexer": "ipython3",
   "version": "3.11.2"
  },
  "orig_nbformat": 4
 },
 "nbformat": 4,
 "nbformat_minor": 2
}
