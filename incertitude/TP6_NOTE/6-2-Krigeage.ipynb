{
 "cells": [
  {
   "cell_type": "markdown",
   "metadata": {},
   "source": [
    "# Faire un métamodèle de krigeage\n",
    "\n",
    "\n",
    "VERSION OPENTURNS = 1.23 \n",
    "certain bout de code on du etre modifié vu a des problemes de fonction depracated notamment en changeant les bornes des modèles pour avoir des valeur cohérentes "
   ]
  },
  {
   "cell_type": "markdown",
   "metadata": {},
   "source": [
    "## Références\n",
    "\n",
    "http://openturns.github.io/openturns/master/theory/meta_modeling/kriging.html\n",
    "\n",
    "http://openturns.github.io/openturns/master/examples/meta_modeling/kriging.html\n",
    "\n",
    "[Formation ITECH, Introduction aux métamodèles (polynômes de chaos et krigeage) (ARN4889)\n",
    "14 septembre 2016, Copyright EDF 2015 - Géraud Blatman (EDF R&D/MMC) & Loïc Le Gratiet (EDF R&D/MRI)][1]\n",
    "\n",
    "[François Bachoc. Introduction to Gaussian-process based Kriging models for metamodeling and validation of computer codes. Seminar of the LRC MANON, INSTN Saclay, March 2014.][2]\n",
    "\n",
    "[C. E. Rasmussen & C. K. I. Williams, Gaussian Processes for Machine Learning, the MIT Press, 2006,\n",
    "ISBN 026218253X. 2006 Massachusetts Institute of Technology.][3]\n",
    "\n",
    "[François Bachoc. Parametric estimation of covariance function in Gaussian-process based Kriging models. Application to uncertainty quantification for computer experiments. Thèse de l'université Paris-Diderot, 2013.][4]\n",
    "\n",
    "[Loïc Le Gratiet. Multi-fidelity Gaussian process regression for computer experiments. Thèse de l'université Paris-Diderot, 2013.][5]\n",
    "\n",
    "[1]: https://forge.pleiade.edf.fr/documents/317\n",
    "[2]: https://www.math.univ-toulouse.fr/~fbachoc/LRC_Manon_2014.pdf\n",
    "[3]: www.GaussianProcess.org/gpml\n",
    "[4]: https://tel.archives-ouvertes.fr/tel-00881002/\n",
    "[5]: https://tel.archives-ouvertes.fr/tel-00866770"
   ]
  },
  {
   "cell_type": "markdown",
   "metadata": {},
   "source": [
    "## Rappels méthodologiques\n",
    "\n",
    "### Krigeage\n",
    "\n",
    "On considère une fonction $G$ :\n",
    "$$\n",
    "y = G(\\boldsymbol{x})\n",
    "$$\n",
    "pour tout $\\boldsymbol{x}\\in\\mathbb{R}^d$. Dans ce document, on considère que la sortie du code de calcul $y\\in\\mathbb{R}$ est scalaire. \n",
    "\n",
    "Le krigeage est une technique permettant de créer un métamodèle de la fonction G. Il est fondé sur les processus gaussiens et c'est pourquoi on nomme parfois cette technique *régression par processus gaussien*.\n",
    "\n",
    "En d'autres termes, le krigeage consiste à modéliser Z par un processus gaussien de moyenne $m$ et de covariance $k$ :\n",
    "$$\n",
    "Z(\\boldsymbol{x}) = PG\\left(m(\\boldsymbol{x}),k(\\boldsymbol{x}, \\boldsymbol{x}')\\right)\n",
    "$$\n"
   ]
  },
  {
   "cell_type": "markdown",
   "metadata": {},
   "source": [
    "### Modèle de tendance\n",
    "\n",
    "Pour définir la moyenne du processus gaussien, on fait le choix d'une base de fonctions \n",
    "$$\n",
    "\\boldsymbol{f} = (f_1,...,f_p)\n",
    "$$\n",
    "où $p$ est le nombre de fonctions de base. \n",
    "Si les paramètres $\\boldsymbol{\\beta}\\in\\mathbb{R}^p$ sont connus, alors la moyenne est choisie sous la forme d'un modèle linéaire généralisé :\n",
    "$$\n",
    "\\boldsymbol{m}(\\boldsymbol{x}) = \\boldsymbol{f}(\\boldsymbol{x})^T \\boldsymbol{\\beta}\n",
    "$$\n",
    "\n",
    "_Remarque :_ on parle de *krigeage simple* lorsque la moyenne est supposée connue, de *krigeage ordinaire* lorsque la moyenne est inconnue mais supposée constante, sinon de *krigeage universel*. \n",
    "\n",
    "### Modèle de covariance\n",
    "\n",
    "La fonction de covariance contrôle notamment la régularité du processus gaussien (continuité et différentiabilité de ses trajectoires ou en moyenne quadratique).\n",
    "\n",
    "Pour définir la covariance du processus gaussien, on fait le choix d'une fonction de corrélation $r$ de la forme :\n",
    "$$\n",
    "k(\\boldsymbol{x}, \\boldsymbol{x}') = \\sigma^2 r(\\boldsymbol{x}, \\boldsymbol{x}',\\boldsymbol{\\theta})\n",
    "$$\n",
    "où $\\sigma^2$ est la variance du processus gaussien et $\\boldsymbol{\\theta} \\in\\mathbb{R}^d$."
   ]
  },
  {
   "cell_type": "markdown",
   "metadata": {},
   "source": [
    "### Régression par processus gaussien : principe\n",
    "\n",
    "Dans la suite, nous considérons le krigeage associé à des observations $\\boldsymbol{y}$ non bruitées.\n",
    "\n",
    "Deux étapes peuvent être distinguées dans le krigeage :\n",
    "* (1) l'estimation des paramètres $\\boldsymbol{\\beta}$, $\\sigma$ et $\\boldsymbol{\\theta}$;\n",
    "* (2) le conditionnement du processus par les données $\\boldsymbol{y}$.\n",
    "\n",
    "#### Étape (1) : estimation des (hyper)paramètres\n",
    "\n",
    "Une approche rencontrée dans la littérature, appelée *bayesian kriging* ou *full bayesian kriging*, consiste à traiter les variables $\\boldsymbol{\\beta}$, $\\sigma$ ou $\\boldsymbol{\\theta}$ comme des paramètres incertains que l'on associe à une distribution de probabilité a priori.\n",
    "Dans OpenTURNS, ces variables sont simplement considérées comme des paramètres à estimer à partir de données censées provenir d'une même réalisation (de la même trajectoire) d'un processus gaussien. Cela est réalisé suivant le principe du maximum de vraisemblance.\n",
    "\n",
    "La résolution de ce problème d'optimisation (le MV) peut poser des difficultés. Dans ce cas, on peut soit tenter de fournir à OpenTURNS des meilleures valeurs initiales, soit configurer la résolution du problème de manière plus fine en intervenant dans les objets de plus bas niveau.\n",
    "\n",
    "#### Étape (2) : conditionnement\n",
    "\n",
    "Nous nous limitons ci-dessous à une présentation du conditionnement (2) lorsque les paramètres $\\boldsymbol{\\beta}$, $\\sigma$ et $\\boldsymbol{\\theta}$ sont connus (krigeage simple) et que l'on souhaite simplement\n",
    "une prédiction en une unique point $\\boldsymbol{x}\\in\\mathcal{D}$.\n",
    "\n",
    "Faisons l'hypothèse que l'on connaît les valeurs de la fonction sur un plan d'expériences $\\boldsymbol{x}^{(i)}$ pour $i=1,...,n$ où $n$ est le nombre de simulations. Pour chacune de ces entrées, on suppose que l'on connaît la valeur de la sortie scalaire $y^{(i)}$\n",
    "pour $i=1,...,n$. On note $\\boldsymbol{y} = (y_1,...,y_n)^T$ le vecteur des sorties observées. \n",
    "\n",
    "Notons $F$ la matrice de conception associée aux fonctions de base :\n",
    "$$\n",
    "F = \\left[ f_j\\left(\\boldsymbol{x}^{(i)}\\right),\\quad i=1,...,n, \\quad j=1,...,p \\right].\n",
    "$$\n",
    "\n",
    "Notons $R$ la matrice de correlation associée au noyau de corrélation :\n",
    "$$\n",
    "R = \\left[ r\\left(\\boldsymbol{x}^{(i)},\\boldsymbol{x}^{(j)},\\boldsymbol{\\theta}\\right),\\quad i,j=1,...,n \\right]\n",
    "$$\n",
    "\n",
    "Considérons un nouveau point $\\boldsymbol{x} \\in \\mathbb{R}^{d}$ correspondant à une sortie $y$ inconnue.\n",
    "Notons $\\boldsymbol{r}(\\boldsymbol{x})$ le vecteur des corrélation entre le point $\\boldsymbol{x}$ et les points du plan d'expériences :\n",
    "$$\n",
    "\\boldsymbol{r}(\\boldsymbol{x}) = \\left[r\\left(\\boldsymbol{x},\\boldsymbol{x}^{(i)},\\boldsymbol{\\theta}\\right),\\quad i=1,...,n \\right]^T\n",
    "$$\n",
    "\n",
    "On peut démontrer que le vecteur aléatoire associé aux observations $\\boldsymbol{Y}$ et la variable aléatoire $Y(\\boldsymbol{x})$ sont liés par une loi normale :\n",
    "\n",
    "$$\n",
    "\\begin{pmatrix}\n",
    "\\boldsymbol{Y} \\\\\n",
    "Y(\\boldsymbol{x})\n",
    "\\end{pmatrix}\n",
    "= \n",
    "\\mathcal{N}\n",
    "\\left(\n",
    "\\begin{pmatrix}\n",
    "F \\boldsymbol{\\beta} \\\\\n",
    "\\boldsymbol{f(x)}^T \\boldsymbol{\\beta}\n",
    "\\end{pmatrix}\n",
    ",\n",
    "\\sigma^2 \n",
    "\\begin{pmatrix}\n",
    "R & \\boldsymbol{r}(\\boldsymbol{x}) \\\\\n",
    "\\boldsymbol{r}(\\boldsymbol{x})^T & 1 \\\\\n",
    "\\end{pmatrix}\n",
    "\\right)\n",
    "$$\n",
    "\n",
    "Le modèle prédictif est donné par loi de $Z(\\boldsymbol{x})$ conditionnée par les observations connues du code :\n",
    "$$\n",
    "\\tilde{Y}(\\boldsymbol{x}) = \\left[ \\boldsymbol{Y}(\\boldsymbol{x}) \n",
    "| \\boldsymbol{Y} = \\boldsymbol{y}, \n",
    "\\boldsymbol{\\theta} = \\boldsymbol{\\theta}, \n",
    "\\boldsymbol{\\sigma} = \\boldsymbol{\\sigma} \\right].\n",
    "$$\n",
    "\n",
    "On peut démontrer que $\\tilde{\\boldsymbol{Y}}(\\boldsymbol{x})$ est également une variable aléatoire gaussienne :\n",
    "$$\n",
    "\\tilde{Y}(\\boldsymbol{x}) \\sim \\mathcal{N} \\left( \\mu_{\\tilde{Y}}(\\boldsymbol{x}) , \\sigma_{\\tilde{Y}}(\\boldsymbol{x})^2 \\right)\n",
    "$$\n",
    "où la moyenne $\\mu_{\\tilde{Y}}(\\boldsymbol{x})$ et la variance $\\sigma_{\\tilde{Y}}(\\boldsymbol{x})^2$ s'écrivent de manière explicite (voir la propriété de conditionnement des processus gaussiens dans le précédent *notebook*).\n",
    "\n",
    "Les calculs liés au conditionnement n'impliquent que la résolution de systèmes d'équations linéaires. \n",
    "Néanmoins, si $n$ est grand (par exemple $n=10000$), alors la matrice de corrélation $R$ est de taille $n\\times n$, ce qui peut poser des difficultés de performance, voire de mémoire. Pour résoudre ce problème, une alternative consiste à utiliser des techniques de compression de matrices, comme par exemple la technique des H-mat utilisée par OpenTURNS.\n",
    "\n",
    "#### Remarque\n",
    "\n",
    "Dans le cas du krigeage universel et d'une fonction de covariance à estimer, la définition de la fonction de covariance conditionnée est en fait modifiée pour tenir compte de l'incertitude sur $\\boldsymbol{\\beta}$."
   ]
  },
  {
   "cell_type": "markdown",
   "metadata": {},
   "source": [
    "## Le krigeage dans OpenTURNS\n",
    "\n",
    "### Le modèle de déviation de la poutre encastrée\n",
    "\n",
    "Dans l'exemple qui suit, on considère le modèle de déviation de la poutre encastrée. Dans ce modèle, on considère 4 variables aléatoires liées par une copule Gaussienne. \n",
    "\n",
    "<img src=\"poutre.png\" width=\"300px\">\n",
    "\n",
    "On considère 4 variables aléatoires :\n",
    " - E : le module d'Young [Pa]\n",
    " - F : la force appliquée [N]\n",
    " - L : la longueur [m]\n",
    " - I : le moment d'inertie de la poutre [m^4]\n",
    "\n",
    "La déviation verticale de la poutre sous l'effet de la force appliquée est modélisée par l'équation :\n",
    "$$\n",
    "y = \\frac{FL^3}{3EI}\n",
    "$$\n",
    "\n",
    "On considère les lois de probabilité suivantes :\n",
    "\n",
    "|Variable|  Distribution|\n",
    "| ------------- |-------------|\n",
    "|E| Beta(alpha = 0.9, beta = 2.2, a = $2.5\\times 10^7$, $b = 5\\times 10^7$) |\n",
    "|F| Lognormal($\\mu_F=3 \\times 10^4$, $\\sigma_F=9\\times 10^3$, shift=$15\\times 10^3$)|\n",
    "|L| Uniform(min=250.0, max= 260.0)|\n",
    "|I| Beta(alpha = 2.5, beta = 1.5, a = 310, b = 450)|\n",
    " \n",
    "On fait l'hypothèse que les variables aléatoires E, F, L et I sont liées par une copule Gaussienne dont la matrice de corrélation est :\n",
    "$$\n",
    "R = \n",
    "\\begin{pmatrix}\n",
    "1 & 0 & 0 & 0 \\\\\n",
    "0 & 1 & 0 & 0 \\\\\n",
    "0 & 0 & 1 & -0.2 \\\\\n",
    "0 & 0 & -0.2 & 1\n",
    "\\end{pmatrix}\n",
    "$$\n",
    "\n",
    "En d'autres termes, on considère que les variables L et I sont corrélées négativement : lorsque la longueur L augmente, le moment d'inertie I diminue. \n",
    "\n",
    "On créé un méta-modèle de krigeage fondé sur un modèle exponentiel carré. Pour estimer le métamodèle, nous allons utiliser un plan d'expériences de taille 20. "
   ]
  },
  {
   "cell_type": "markdown",
   "metadata": {},
   "source": [
    "### Définition du modèle"
   ]
  },
  {
   "cell_type": "code",
   "execution_count": 58,
   "metadata": {},
   "outputs": [],
   "source": [
    "import openturns as ot"
   ]
  },
  {
   "cell_type": "markdown",
   "metadata": {},
   "source": [
    "Etape A : définition du modèle. Nous commençons par définir une fonction symbolique qui évalue la sortie y en fonction des entrées E, F, L et I."
   ]
  },
  {
   "cell_type": "code",
   "execution_count": 59,
   "metadata": {},
   "outputs": [],
   "source": [
    "model = ot.SymbolicFunction([\"E\", \"F\", \"L\", \"I\"], [\"F*L^3/(3*E*I)\"])"
   ]
  },
  {
   "cell_type": "markdown",
   "metadata": {},
   "source": [
    "Etape B : définition des distributions du vecteur aléatoire en entrée. Nous définissons ensuite les lois de distribution des variables aléatoires E, F, L et I."
   ]
  },
  {
   "cell_type": "code",
   "execution_count": 60,
   "metadata": {},
   "outputs": [],
   "source": [
    "# Young's modulus E: beta distribution\n",
    "E = ot.Beta(0.9, 2.2, 2.8e7, 4.8e7)\n",
    "E.setDescription(\"E\")\n",
    "# Load F: lognormal distribution\n",
    "F = ot.LogNormal() # in N\n",
    "F.setParameter(ot.LogNormalMuSigma()([3e4, 9e3, 0.]))\n",
    "F.setDescription(\"F\")\n",
    "# Length L: uniform distribution\n",
    "L = ot.Uniform(2.5, 2.6) # in m\n",
    "L.setDescription(\"L\")\n",
    "# Moment of inertia I: beta distribution\n",
    "I = ot.Beta(2.5, 1.5, 310.0, 450.0) # in cm^4\n",
    "I.setDescription(\"I\")"
   ]
  },
  {
   "cell_type": "markdown",
   "metadata": {},
   "source": [
    "Puis on définit la dépendance entre les variables d'entrée en créant une copule Gaussienne avec la classe `NormalCopula`."
   ]
  },
  {
   "cell_type": "code",
   "execution_count": 61,
   "metadata": {},
   "outputs": [],
   "source": [
    "dim = 4 # number of inputs\n",
    "R = ot.CorrelationMatrix(dim)\n",
    "R[2, 3] = -0.2 \n",
    "myCopula = ot.NormalCopula(ot.NormalCopula.GetCorrelationFromSpearmanCorrelation(R))\n",
    "myDistribution = ot.ComposedDistribution([E, F, L, I], myCopula)"
   ]
  },
  {
   "cell_type": "markdown",
   "metadata": {},
   "source": [
    "### Définition d'un plan d'expériences"
   ]
  },
  {
   "cell_type": "markdown",
   "metadata": {},
   "source": [
    "Nous considérons un plan d'expériences de type Monte-Carlo simple. Pour cela, on génère un échantillon des entrées grâce à la méthode `getSample`. Puis nous évaluons la sortie en appelant la fonction `model`."
   ]
  },
  {
   "cell_type": "code",
   "execution_count": 62,
   "metadata": {},
   "outputs": [],
   "source": [
    "sampleSize_train = 20\n",
    "X_train = myDistribution.getSample(sampleSize_train)\n",
    "Y_train = model(X_train)"
   ]
  },
  {
   "cell_type": "markdown",
   "metadata": {},
   "source": [
    "Observons la distribution des déviations verticales Y sur la base d'apprentissage. On observe que les déviations plus grandes sont moins fréquentes. "
   ]
  },
  {
   "cell_type": "code",
   "execution_count": 63,
   "metadata": {},
   "outputs": [
    {
     "data": {
      "image/png": "[encoded data removed]",
      "text/plain": [
       "class=Graph name=y0 PDF implementation=class=GraphImplementation name=y0 PDF title=Histogramme des déviations verticales xTitle=Déviation verticale (m) yTitle=PDF axes=ON grid=ON legendposition=topright legendFontSize=1 drawables=[class=Drawable name=y0 PDF implementation=class=Curve name=y0 PDF derived from class=DrawableImplementation name=y0 PDF legend= data=class=Sample name=Unnamed implementation=class=SampleImplementation name=Unnamed size=32 dimension=2 data=[[5.32287e-06,0],[6.60096e-06,0],[6.60096e-06,0],[6.60096e-06,39120.9],[9.15714e-06,39120.9],[9.15714e-06,0],[9.15714e-06,0],[9.15714e-06,156484],[1.17133e-05,156484],[1.17133e-05,0],[1.17133e-05,0],[1.17133e-05,117363],[1.42695e-05,117363],[1.42695e-05,0],[1.42695e-05,0],[1.42695e-05,19560.4],[1.68257e-05,19560.4],[1.68257e-05,0],[1.68257e-05,0],[1.68257e-05,39120.9],[1.93819e-05,39120.9],[1.93819e-05,0],[1.93819e-05,0],[1.93819e-05,0],[2.1938e-05,0],[2.1938e-05,0],[2.1938e-05,0],[2.1938e-05,19560.4],[2.44942e-05,19560.4],[2.44942e-05,0],[2.44942e-05,0],[2.57723e-05,0]] color=#1f77b4 isColorExplicitlySet=false fillStyle=solid lineStyle=solid pointStyle=none lineWidth=2]"
      ]
     },
     "execution_count": 63,
     "metadata": {},
     "output_type": "execute_result"
    }
   ],
   "source": [
    "histo = ot.HistogramFactory().build(Y_train).drawPDF()\n",
    "histo.setXTitle(\"Déviation verticale (m)\")\n",
    "histo.setTitle(\"Histogramme des déviations verticales\")\n",
    "histo.setLegends([\"\"])\n",
    "histo"
   ]
  },
  {
   "cell_type": "markdown",
   "metadata": {},
   "source": [
    "### Création du méta-modèle"
   ]
  },
  {
   "cell_type": "markdown",
   "metadata": {},
   "source": [
    "Pour créer le krigeage, on choisit une tendance constante avec la classe `ConstantBasisFactory`. Puis on utilise un modèle de covariance de type exponentielle carrée. Enfin, on utilise la classe `KrigingAlgorithm` pour créer le krigeage en utilisant la base d'apprentissage, le modèle de covariance et la tendance."
   ]
  },
  {
   "cell_type": "code",
   "execution_count": 64,
   "metadata": {},
   "outputs": [],
   "source": [
    "dimension = myDistribution.getDimension()\n",
    "basis = ot.ConstantBasisFactory(dimension).build()\n",
    "#il faut rescale les borne avec ce qui est donnée dans les warnings et les rescale pour avoir des données coherente.\n",
    "upper_bounds = [3.40279e+07,66379.2,0.180685,231.917]\n",
    "lower_bounds = [0.01,0.01,0.01,0.01]\n",
    "initial_scales = [0.5*(low+up)for up,low in zip (upper_bounds,lower_bounds)]\n",
    "covarianceModel = ot.SquaredExponential(initial_scales, [1.0])\n",
    "    algo = ot.KrigingAlgorithm(X_train, Y_train, covarianceModel, basis)\n",
    "    algo.run()\n",
    "    result = algo.getResult()\n",
    "    krigeageMM = result.getMetaModel()"
   ]
  },
  {
   "cell_type": "markdown",
   "metadata": {},
   "source": [
    "La méthode `run` a évalué les paramètres du modèle par la méthode du maximum de vraisemblance. \n",
    "\n",
    "On peut alors afficher la tendance constante du modèle."
   ]
  },
  {
   "cell_type": "code",
   "execution_count": 65,
   "metadata": {
    "scrolled": true
   },
   "outputs": [
    {
     "data": {
      "text/html": [
       "class=Point name=Unnamed dimension=1 values=[1.53302e-05]"
      ],
      "text/plain": [
       "class=Point name=Unnamed dimension=1 values=[1.53302e-05]"
      ]
     },
     "execution_count": 65,
     "metadata": {},
     "output_type": "execute_result"
    }
   ],
   "source": [
    "result.getTrendCoefficients()"
   ]
  },
  {
   "cell_type": "markdown",
   "metadata": {},
   "source": [
    "On peut également afficher les paramètres du modèle de covariance, estimés par la méthode du maximum de vraisemblance."
   ]
  },
  {
   "cell_type": "code",
   "execution_count": 66,
   "metadata": {},
   "outputs": [
    {
     "data": {
      "text/html": [
       "<p>SquaredExponential(scale=[1.70234e+07,26492.1,0.189086,194.114], amplitude=[7.25187e-06])</p>"
      ],
      "text/plain": [
       "class=SquaredExponential scale=class=Point name=Unnamed dimension=4 values=[1.70234e+07,26492.1,0.189086,194.114] amplitude=class=Point name=Unnamed dimension=1 values=[7.25187e-06]"
      ]
     },
     "execution_count": 66,
     "metadata": {},
     "output_type": "execute_result"
    }
   ],
   "source": [
    "result.getCovarianceModel()"
   ]
  },
  {
   "cell_type": "markdown",
   "metadata": {},
   "source": [
    "On souhaite ensuite valider le métamodèle de krigeage. Pour cela, on génère un échantillon de validation de taille 100 et on évalue la sortie du modèle sur cet échantillon."
   ]
  },
  {
   "cell_type": "code",
   "execution_count": 67,
   "metadata": {},
   "outputs": [],
   "source": [
    "sampleSize_test = 100\n",
    "X_test = myDistribution.getSample(sampleSize_test)\n",
    "Y_test = model(X_test)"
   ]
  },
  {
   "cell_type": "markdown",
   "metadata": {},
   "source": [
    "Sur l'échantillon de validation, on évalue les sorties du méta-modèle."
   ]
  },
  {
   "cell_type": "code",
   "execution_count": 68,
   "metadata": {},
   "outputs": [],
   "source": [
    "Y_test_MM = krigeageMM(X_test)"
   ]
  },
  {
   "cell_type": "markdown",
   "metadata": {},
   "source": [
    "La classe `MetaModelValidation` facilite le travail de validation d'un métamodèle. Pour la constuire, on lui donne les entrées de la base de validation, les sorties correspondantes et le métamodèle."
   ]
  },
  {
   "cell_type": "code",
   "execution_count": 69,
   "metadata": {},
   "outputs": [],
   "source": [
    "#Y_test_MM = kriegeageMM(X_test)\n",
    "#ot.Meta..Validation(Y_test,Y_test_MM) pour etre a jour avec openturns \n",
    "\n",
    "val = ot.MetaModelValidation(X_test, Y_test, krigeageMM)"
   ]
  },
  {
   "cell_type": "markdown",
   "metadata": {},
   "source": [
    "La méthode `computePredictivityFactor` permet d'estimer le coefficient $Q_2$."
   ]
  },
  {
   "cell_type": "code",
   "execution_count": 70,
   "metadata": {
    "scrolled": true
   },
   "outputs": [
    {
     "data": {
      "text/html": [
       "class=Point name=Unnamed dimension=1 values=[0.989871]"
      ],
      "text/plain": [
       "class=Point name=Unnamed dimension=1 values=[0.989871]"
      ]
     },
     "execution_count": 70,
     "metadata": {},
     "output_type": "execute_result"
    }
   ],
   "source": [
    "val.computePredictivityFactor()"
   ]
  },
  {
   "cell_type": "markdown",
   "metadata": {},
   "source": [
    "Puisque le $Q_2$ est supérieur à 0.95, on peut dire que c'est un très bon méta-modèle."
   ]
  },
  {
   "cell_type": "markdown",
   "metadata": {},
   "source": [
    "Il est intéressant de dessiner l'histogramme des résidus : on peut le faire avec la classe `HistogramFactory` appliquée à l'échantillon des résidus `r`. \n",
    "\n",
    "On observe que les résidus négatifs sont presque aussi fréquents que les résidus positifs : c'est plutôt un signe positif pour la qualité du métamodèle. Dans notre cas, la déviation verticale est plutôt petite, de l'ordre de $10^{-5}$. Cela implique qu'il n'est pas si simple de voir si, en valeur absolue, les résidus sont plutôt petits, ou non : le graphique que nous dessinerons par la suite est plus fiable de ce point de vue."
   ]
  },
  {
   "cell_type": "code",
   "execution_count": 71,
   "metadata": {},
   "outputs": [
    {
     "data": {
      "image/png": "[encoded data removed]",
      "text/plain": [
       "class=Graph name=y0 PDF implementation=class=GraphImplementation name=y0 PDF title=y0 PDF xTitle=y0 yTitle=PDF axes=ON grid=ON legendposition=topright legendFontSize=1 drawables=[class=Drawable name=y0 PDF implementation=class=Curve name=y0 PDF derived from class=DrawableImplementation name=y0 PDF legend=y0 PDF data=class=Sample name=Unnamed implementation=class=SampleImplementation name=Unnamed size=200 dimension=2 data=[[-6.54777e-07,0],[-6.07528e-07,0],[-6.07528e-07,0],[-6.07528e-07,105822],[-5.13031e-07,105822],[-5.13031e-07,0],[-5.13031e-07,0],[-5.13031e-07,105822],[-4.18533e-07,105822],[-4.18533e-07,0],[-4.18533e-07,0],[-4.18533e-07,105822],[-3.24035e-07,105822],[-3.24035e-07,0],[-3.24035e-07,0],[-3.24035e-07,1.26987e+06],[-2.29537e-07,1.26987e+06],[-2.29537e-07,0],[-2.29537e-07,0],[-2.29537e-07,2.01063e+06],[-1.35039e-07,2.01063e+06],[-1.35039e-07,0],[-1.35039e-07,0],[-1.35039e-07,2.53974e+06],[-4.0541e-08,2.53974e+06],[-4.0541e-08,0],[-4.0541e-08,0],[-4.0541e-08,3.49214e+06],[5.39569e-08,3.49214e+06],[5.39569e-08,0],[5.39569e-08,0],[5.39569e-08,423290],[1.48455e-07,423290],[1.48455e-07,0],[1.48455e-07,0],[1.48455e-07,211645],[2.42953e-07,211645],[2.42953e-07,0],[2.42953e-07,0],[2.42953e-07,105822],[3.37451e-07,105822],[3.37451e-07,0],[3.37451e-07,0],[3.37451e-07,105822],[4.31949e-07,105822],[4.31949e-07,0],[4.31949e-07,0],[4.31949e-07,0],[5.26446e-07,0],[5.26446e-07,0],[5.26446e-07,0],[5.26446e-07,0],[6.20944e-07,0],[6.20944e-07,0],[6.20944e-07,0],[6.20944e-07,0],[7.15442e-07,0],[7.15442e-07,0],[7.15442e-07,0],[7.15442e-07,0],[8.0994e-07,0],[8.0994e-07,0],[8.0994e-07,0],[8.0994e-07,0],[9.04438e-07,0],[9.04438e-07,0],[9.04438e-07,0],[9.04438e-07,0],[9.98936e-07,0],[9.98936e-07,0],[9.98936e-07,0],[9.98936e-07,0],[1.09343e-06,0],[1.09343e-06,0],[1.09343e-06,0],[1.09343e-06,0],[1.18793e-06,0],[1.18793e-06,0],[1.18793e-06,0],[1.18793e-06,0],[1.28243e-06,0],[1.28243e-06,0],[1.28243e-06,0],[1.28243e-06,0],[1.37693e-06,0],[1.37693e-06,0],[1.37693e-06,0],[1.37693e-06,0],[1.47143e-06,0],[1.47143e-06,0],[1.47143e-06,0],[1.47143e-06,0],[1.56592e-06,0],[1.56592e-06,0],[1.56592e-06,0],[1.56592e-06,0],[1.66042e-06,0],[1.66042e-06,0],[1.66042e-06,0],[1.66042e-06,0],[1.75492e-06,0],[1.75492e-06,0],[1.75492e-06,0],[1.75492e-06,0],[1.84942e-06,0],[1.84942e-06,0],[1.84942e-06,0],[1.84942e-06,0],[1.94392e-06,0],[1.94392e-06,0],[1.94392e-06,0],[1.94392e-06,0],[2.03841e-06,0],[2.03841e-06,0],[2.03841e-06,0],[2.03841e-06,0],[2.13291e-06,0],[2.13291e-06,0],[2.13291e-06,0],[2.13291e-06,0],[2.22741e-06,0],[2.22741e-06,0],[2.22741e-06,0],[2.22741e-06,0],[2.32191e-06,0],[2.32191e-06,0],[2.32191e-06,0],[2.32191e-06,0],[2.4164e-06,0],[2.4164e-06,0],[2.4164e-06,0],[2.4164e-06,0],[2.5109e-06,0],[2.5109e-06,0],[2.5109e-06,0],[2.5109e-06,0],[2.6054e-06,0],[2.6054e-06,0],[2.6054e-06,0],[2.6054e-06,0],[2.6999e-06,0],[2.6999e-06,0],[2.6999e-06,0],[2.6999e-06,0],[2.7944e-06,0],[2.7944e-06,0],[2.7944e-06,0],[2.7944e-06,0],[2.88889e-06,0],[2.88889e-06,0],[2.88889e-06,0],[2.88889e-06,0],[2.98339e-06,0],[2.98339e-06,0],[2.98339e-06,0],[2.98339e-06,0],[3.07789e-06,0],[3.07789e-06,0],[3.07789e-06,0],[3.07789e-06,0],[3.17239e-06,0],[3.17239e-06,0],[3.17239e-06,0],[3.17239e-06,0],[3.26689e-06,0],[3.26689e-06,0],[3.26689e-06,0],[3.26689e-06,0],[3.36138e-06,0],[3.36138e-06,0],[3.36138e-06,0],[3.36138e-06,0],[3.45588e-06,0],[3.45588e-06,0],[3.45588e-06,0],[3.45588e-06,0],[3.55038e-06,0],[3.55038e-06,0],[3.55038e-06,0],[3.55038e-06,0],[3.64488e-06,0],[3.64488e-06,0],[3.64488e-06,0],[3.64488e-06,0],[3.73938e-06,0],[3.73938e-06,0],[3.73938e-06,0],[3.73938e-06,0],[3.83387e-06,0],[3.83387e-06,0],[3.83387e-06,0],[3.83387e-06,0],[3.92837e-06,0],[3.92837e-06,0],[3.92837e-06,0],[3.92837e-06,105822],[4.02287e-06,105822],[4.02287e-06,0],[4.02287e-06,0],[4.07012e-06,0]] color=#1f77b4 isColorExplicitlySet=false fillStyle=solid lineStyle=solid pointStyle=none lineWidth=2]"
      ]
     },
     "execution_count": 71,
     "metadata": {},
     "output_type": "execute_result"
    }
   ],
   "source": [
    "r = val.getResidualSample()\n",
    "ot.HistogramFactory().build(r).drawPDF()"
   ]
  },
  {
   "cell_type": "markdown",
   "metadata": {},
   "source": [
    "La méthode `drawValidation` permet de comparer les données observées et les prédictions du méta-modèle. \n",
    "\n",
    "On observe que les croix rouges sont à proximité de la première bissectrice : cela montre que le méta-modèle est plutôt de bonne qualité. Toutefois, pour les grandes déviations, les points rouges sont plus éloignées de la première bissectrice : le métamodèle est moins bon pour les grandes déviations."
   ]
  },
  {
   "cell_type": "code",
   "execution_count": 72,
   "metadata": {
    "scrolled": false
   },
   "outputs": [
    {
     "data": {
      "image/png": "[encoded data removed]",
      "text/plain": [
       "class=GridLayout name=Unnamed nbRows=1 nbColumns=1 graphCollection=[class=Graph name=Unnamed implementation=class=GraphImplementation name=Unnamed title= xTitle=model 0 yTitle=metamodel axes=ON grid=ON legendposition= legendFontSize=1 drawables=[class=Drawable name=Unnamed implementation=class=Curve name=Unnamed derived from class=DrawableImplementation name=Unnamed legend= data=class=Sample name=Unnamed implementation=class=SampleImplementation name=Unnamed size=2 dimension=2 data=[[4.80735e-06,4.80735e-06],[3.13974e-05,3.13974e-05]] color=#1f77b4 isColorExplicitlySet=false fillStyle=solid lineStyle=solid pointStyle=none lineWidth=1,class=Drawable name=Unnamed implementation=class=Cloud name=Unnamed derived from class=DrawableImplementation name=Unnamed legend= data=class=Sample name=Unnamed implementation=class=SampleImplementation name=Unnamed size=100 dimension=2 data=[[9.68224e-06,9.94304e-06],[1.41868e-05,1.41867e-05],[1.46627e-05,1.42971e-05],[1.44883e-05,1.46029e-05],[1.76751e-05,1.79007e-05],[6.22594e-06,6.53272e-06],[1.13963e-05,1.14024e-05],[7.01155e-06,7.06526e-06],[5.53849e-06,5.77815e-06],[7.81908e-06,7.92869e-06],[7.8981e-06,8.04904e-06],[1.26485e-05,1.27599e-05],[1.68728e-05,1.70098e-05],[1.42287e-05,1.42102e-05],[1.77397e-05,1.7928e-05],[1.60896e-05,1.62558e-05],[9.40809e-06,9.47324e-06],[1.08016e-05,1.08604e-05],[1.33241e-05,1.33176e-05],[9.3891e-06,9.52254e-06],[8.22832e-06,8.4532e-06],[1.31675e-05,1.32491e-05],[3.13974e-05,2.73746e-05],[1.46803e-05,1.47305e-05],[1.09129e-05,1.09412e-05],[1.39982e-05,1.40014e-05],[2.18912e-05,2.23397e-05],[1.29192e-05,1.29607e-05],[1.99629e-05,1.99275e-05],[1.32514e-05,1.35573e-05],[1.38709e-05,1.37626e-05],[1.32102e-05,1.3219e-05],[1.16144e-05,1.16534e-05],[1.44996e-05,1.4518e-05],[1.76964e-05,1.78502e-05],[1.10747e-05,1.10354e-05],[1.04985e-05,1.05512e-05],[1.59194e-05,1.61458e-05],[1.8583e-05,1.88085e-05],[1.22731e-05,1.22803e-05],[1.04301e-05,1.04822e-05],[8.99178e-06,9.02386e-06],[4.80735e-06,5.10404e-06],[1.58129e-05,1.58497e-05],[2.13065e-05,2.15178e-05],[8.66073e-06,8.7853e-06],[6.59321e-06,6.78447e-06],[1.15753e-05,1.1534e-05],[1.16697e-05,1.17166e-05],[1.53244e-05,1.53398e-05],[1.71696e-05,1.72009e-05],[1.14964e-05,1.18066e-05],[9.5793e-06,9.87722e-06],[2.04083e-05,2.06525e-05],[1.34486e-05,1.32451e-05],[1.82779e-05,1.86004e-05],[8.45756e-06,8.74977e-06],[1.29901e-05,1.29541e-05],[9.20294e-06,9.3578e-06],[1.42348e-05,1.41854e-05],[9.48577e-06,9.48814e-06],[6.1786e-06,6.17219e-06],[9.83587e-06,9.85433e-06],[1.42441e-05,1.42699e-05],[2.05602e-05,2.07524e-05],[1.06501e-05,1.0807e-05],[1.24838e-05,1.24176e-05],[1.24551e-05,1.24823e-05],[1.1106e-05,1.11129e-05],[1.18021e-05,1.1878e-05],[7.27517e-06,7.45862e-06],[1.22345e-05,1.24352e-05],[1.39241e-05,1.40033e-05],[7.99583e-06,7.9658e-06],[1.06275e-05,1.1235e-05],[1.39487e-05,1.40585e-05],[1.65298e-05,1.66343e-05],[6.83524e-06,6.78371e-06],[1.2894e-05,1.28311e-05],[2.45746e-05,2.43627e-05],[1.06666e-05,1.07114e-05],[7.729e-06,7.8845e-06],[1.26643e-05,1.26874e-05],[1.26811e-05,1.2664e-05],[1.21015e-05,1.21982e-05],[1.08872e-05,1.09349e-05],[1.29281e-05,1.30768e-05],[1.28889e-05,1.29104e-05],[1.35217e-05,1.36466e-05],[1.05324e-05,1.05087e-05],[1.30428e-05,1.32179e-05],[1.46166e-05,1.46944e-05],[1.70078e-05,1.74223e-05],[9.17346e-06,9.41208e-06],[9.64767e-06,9.63434e-06],[7.52916e-06,7.54093e-06],[2.0706e-05,2.04231e-05],[1.36956e-05,1.37698e-05],[9.92085e-06,1.01558e-05],[6.76526e-06,6.65075e-06]] color=#ff7f0e isColorExplicitlySet=false fillStyle=solid lineStyle=solid pointStyle=plus lineWidth=1]]"
      ]
     },
     "execution_count": 72,
     "metadata": {},
     "output_type": "execute_result"
    }
   ],
   "source": [
    "val.drawValidation()"
   ]
  },
  {
   "cell_type": "markdown",
   "metadata": {},
   "source": [
    "## Annexe : coefficient de prédictivité\n",
    "\n",
    "Le facteur de prédictivité $Q_2$ est un coefficient qui mesure la qualité d'un méta-modèle. \n",
    "* C'est un nombre entre 0 et 1.\n",
    "* Si Q2 est proche de 1, alors le métamodèle est excellent.\n",
    "* Si Q2 est proche de 0, alors le métamodèle est une mauvaise approximation de la fonction.\n",
    "\n",
    "En pratique, un $Q_2$ supérieur à 0.95 est qualifié de satisfaisant. \n",
    "\n",
    "On suppose que l'on dispose de $n$ entrées de validation $\\boldsymbol{x}_i$ ainsi que des observations $y_i$ correspondantes. On note $M$ le méta-modèle. \n",
    "Soit $\\bar{y}$ la moyenne des observations de validation :\n",
    "$$\n",
    "\\bar{y} = \\frac{1}{n} \\sum_{i=1}^{n} y_i\n",
    "$$\n",
    "Le coefficient $Q_2$ est défini par l'équation :\n",
    "$$\n",
    "Q_2 = 1 - \\frac{\\sum_{i=1}^{n} (y_i - M(\\boldsymbol{x}_i))^2}{\\sum_{i=1}^{n} (y_i - \\bar{y})^2}.\n",
    "$$"
   ]
  },
  {
   "cell_type": "markdown",
   "metadata": {},
   "source": [
    "## Exercices\n",
    "\n",
    "### Exercice 1 : sensibilité à la taille de l'échantillon d'apprentissage\n",
    "\n",
    "On s'interroge sur l'évolution de la qualité du métamodèle lorsque le nombre de points dans le plan d'expériences augmente. \n",
    "\n",
    "**Questions**\n",
    "* Modifier le plan d'expériences utilisé pour apprendre le méta-modèle : utiliser `sampleSize_train = 100`. \n",
    "* Mettre à jour le métamodèle de krigeage. \n",
    "* Comment évolue le coefficient de prédictivité ?\n",
    "* Pourquoi ?\n"
   ]
  },
  {
   "cell_type": "code",
   "execution_count": 73,
   "metadata": {},
   "outputs": [],
   "source": [
    "sampleSize_train = 100\n",
    "X_train = myDistribution.getSample(sampleSize_train)\n",
    "Y_train = model(X_train)"
   ]
  },
  {
   "cell_type": "code",
   "execution_count": 74,
   "metadata": {},
   "outputs": [],
   "source": [
    "dimension = myDistribution.getDimension()\n",
    "basis = ot.ConstantBasisFactory(dimension).build()\n",
    "#il faut rescale les borne avec ce qui est donnée dans les warnings et les rescale pour avoir des données coherente.\n",
    "upper_bounds = [3.40279e+07,66379.2,0.180685,231.917]\n",
    "lower_bounds = [0.01,0.01,0.01,0.01]\n",
    "initial_scales = [0.5*(low+up)for up,low in zip (upper_bounds,lower_bounds)]\n",
    "covarianceModel = ot.SquaredExponential(initial_scales, [1.0])\n",
    "algo = ot.KrigingAlgorithm(X_train, Y_train, covarianceModel, basis)\n",
    "algo.run()\n",
    "result = algo.getResult()\n",
    "krigeageMM = result.getMetaModel()"
   ]
  },
  {
   "cell_type": "code",
   "execution_count": 75,
   "metadata": {},
   "outputs": [
    {
     "data": {
      "text/html": [
       "class=Point name=Unnamed dimension=1 values=[0.999718]"
      ],
      "text/plain": [
       "class=Point name=Unnamed dimension=1 values=[0.999718]"
      ]
     },
     "execution_count": 75,
     "metadata": {},
     "output_type": "execute_result"
    }
   ],
   "source": [
    "sampleSize_test = 100\n",
    "X_test = myDistribution.getSample(sampleSize_test)\n",
    "Y_test = model(X_test)\n",
    "Y_test_MM = krigeageMM(X_test)\n",
    "\n",
    "val = ot.MetaModelValidation(Y_test, Y_test_MM )\n",
    "val.computePredictivityFactor()\n",
    "# avec les changement appliqué au bornes  on a un resultat coherent "
   ]
  },
  {
   "cell_type": "markdown",
   "metadata": {},
   "source": [
    "\n",
    "### Exercice 2 : utilisation d'une tendance\n",
    "\n",
    "Il y a trois classes qui permettent de créer des modèles de tendance.\n",
    "* `ConstantBasisFactory` : tendance constante\n",
    "* `LinearBasisFactory` : tendance linéaire\n",
    "* `QuadraticBasisFactory` : tendance quadratique\n",
    "\n",
    "**Questions**\n",
    "* Mettre à jour la tendance du modèle et utiliser une tendance linéaire. \n",
    "* Quelle est la tendance estimée par la méthode du maximum de vraisemblance ?\n",
    "* Quel est l'impact sur la qualité du méta-modèle ?"
   ]
  },
  {
   "cell_type": "code",
   "execution_count": 76,
   "metadata": {},
   "outputs": [],
   "source": [
    "sampleSize_train = 100\n",
    "X_train = myDistribution.getSample(sampleSize_train)\n",
    "Y_train = model(X_train)"
   ]
  },
  {
   "cell_type": "code",
   "execution_count": 77,
   "metadata": {},
   "outputs": [],
   "source": [
    "dimension = myDistribution.getDimension()\n",
    "basis = ot.ConstantBasisFactory(dimension).build()\n",
    "#il faut rescale les borne avec ce qui est donnée dans les warnings et les rescale pour avoir des données coherente.\n",
    "upper_bounds = [2.88926e+07,53585.1,0.160877,198.446]\n",
    "lower_bounds = [0.01,0.01,0.01,0.01]\n",
    "initial_scales = [0.5*(low+up)for up,low in zip (upper_bounds,lower_bounds)]\n",
    "covarianceModel = ot.SquaredExponential(initial_scales, [1.0])\n",
    "algo = ot.KrigingAlgorithm(X_train, Y_train, covarianceModel, basis)\n",
    "algo.run()\n",
    "result = algo.getResult()\n",
    "krigeageMM = result.getMetaModel()"
   ]
  },
  {
   "cell_type": "code",
   "execution_count": 78,
   "metadata": {},
   "outputs": [
    {
     "data": {
      "text/plain": [
       "1.4842909337685706e-05"
      ]
     },
     "execution_count": 78,
     "metadata": {},
     "output_type": "execute_result"
    }
   ],
   "source": [
    "trendCoefficients = result.getTrendCoefficients()\n",
    "constantTrend = trendCoefficients[0]\n",
    "constantTrend"
   ]
  },
  {
   "cell_type": "code",
   "execution_count": 79,
   "metadata": {},
   "outputs": [],
   "source": [
    "sampleSize_test = 100\n",
    "X_test = myDistribution.getSample(sampleSize_test)\n",
    "Y_test = model(X_test)"
   ]
  },
  {
   "cell_type": "code",
   "execution_count": 80,
   "metadata": {},
   "outputs": [
    {
     "data": {
      "text/html": [
       "class=Point name=Unnamed dimension=1 values=[0.999919]"
      ],
      "text/plain": [
       "class=Point name=Unnamed dimension=1 values=[0.999919]"
      ]
     },
     "execution_count": 80,
     "metadata": {},
     "output_type": "execute_result"
    }
   ],
   "source": [
    "Y_test_MM = krigeageMM(X_test)\n",
    "\n",
    "val = ot.MetaModelValidation(Y_test, Y_test_MM )\n",
    "val.computePredictivityFactor()"
   ]
  },
  {
   "cell_type": "markdown",
   "metadata": {},
   "source": [
    "On passe de 0.9997 a 0.9999 on a donc une légère amélioration, avec un modèles moins bon en entrée nous aurions surement une meilleur amélioration "
   ]
  },
  {
   "cell_type": "markdown",
   "metadata": {},
   "source": [
    "### Exercice 3 : nombre d'observations et nombre de paramètres\n",
    "\n",
    "On souhaite vérifier que le nombre d'observations est suffisant pour estimer correctement les paramètres. \n",
    "\n",
    "* Calculer le nombre de paramètres estimés dans le krigeage. Pour cela, faire la somme du nombre de paramètres de la tendance et du noyau de covariance.\n",
    "* Calculer le nombre d'observations dans le plan d'expériences. \n",
    "* Calculer le ratio entre le nombre d'observations et le nombre de paramètres. \n",
    "* La taille du plan d'expériences est-elle suffisante pour estimer les paramètres ?"
   ]
  },
  {
   "cell_type": "code",
   "execution_count": 81,
   "metadata": {},
   "outputs": [
    {
     "name": "stdout",
     "output_type": "stream",
     "text": [
      "nombre de parametres =  6\n"
     ]
    }
   ],
   "source": [
    "#On regarde sur le modèles de l'exercice 2 \n",
    "\n",
    "parameters_noyau = covarianceModel.getParameter()\n",
    "parameters_tendance = trendCoefficients.getDimension()\n",
    "P = parameters_noyau.getDimension() +parameters_tendance\n",
    "\n",
    "print(\"nombre de parametres = \" ,P)\n"
   ]
  },
  {
   "cell_type": "code",
   "execution_count": 82,
   "metadata": {},
   "outputs": [
    {
     "name": "stdout",
     "output_type": "stream",
     "text": [
      "le ratio observation parametre vaut :  16.666666666666668\n"
     ]
    }
   ],
   "source": [
    "# on a sampleSize_train = 100 doonc N = 100\n",
    "N = sampleSize_train\n",
    "\n",
    "R = N/P\n",
    "print( \"le ratio observation parametre vaut : \" ,R  )"
   ]
  },
  {
   "cell_type": "markdown",
   "metadata": {},
   "source": [
    "On a plus de 16 fois le nombre de parametre en observations donc le ratio est satisfaisant (R > 10)"
   ]
  },
  {
   "cell_type": "markdown",
   "metadata": {},
   "source": [
    "\n",
    "### Exercice 4 : distribution des résidus\n",
    "\n",
    "On souhaite valider la qualité du métamodèle. Nous avons vu comment récupérer les résidus avec la classe `getResidualSample` et tracer l'histogramme de ces résidus avec la classe `HistogramFactory`. Il s'avère que l'on peut récupérer directement la distribution des résidus avec \n",
    "\n",
    "**Questions**\n",
    "* Utiliser la méthode `getResidualDistribution` pour obtenir la distribution des résidus.\n",
    "* Utiliser la méthode `drawPDF` pour dessiner la distribution des résidus.\n",
    "* Que conclure ?"
   ]
  },
  {
   "cell_type": "code",
   "execution_count": 84,
   "metadata": {},
   "outputs": [
    {
     "data": {
      "image/png": "[encoded data removed]",
      "text/plain": [
       "class=Graph name=y0 PDF implementation=class=GraphImplementation name=y0 PDF title=y0 PDF xTitle=y0 yTitle=PDF axes=ON grid=ON legendposition=topright legendFontSize=1 drawables=[class=Drawable name=y0 PDF implementation=class=Curve name=y0 PDF derived from class=DrawableImplementation name=y0 PDF legend=y0 PDF data=class=Sample name=Unnamed implementation=class=SampleImplementation name=Unnamed size=192 dimension=2 data=[[-1.33861e-07,0],[-1.29831e-07,0],[-1.29831e-07,0],[-1.29831e-07,1.24065e+06],[-1.2177e-07,1.24065e+06],[-1.2177e-07,0],[-1.2177e-07,0],[-1.2177e-07,0],[-1.1371e-07,0],[-1.1371e-07,0],[-1.1371e-07,0],[-1.1371e-07,0],[-1.0565e-07,0],[-1.0565e-07,0],[-1.0565e-07,0],[-1.0565e-07,0],[-9.75897e-08,0],[-9.75897e-08,0],[-9.75897e-08,0],[-9.75897e-08,0],[-8.95294e-08,0],[-8.95294e-08,0],[-8.95294e-08,0],[-8.95294e-08,1.24065e+06],[-8.14691e-08,1.24065e+06],[-8.14691e-08,0],[-8.14691e-08,0],[-8.14691e-08,1.24065e+06],[-7.34089e-08,1.24065e+06],[-7.34089e-08,0],[-7.34089e-08,0],[-7.34089e-08,1.24065e+06],[-6.53486e-08,1.24065e+06],[-6.53486e-08,0],[-6.53486e-08,0],[-6.53486e-08,1.24065e+06],[-5.72883e-08,1.24065e+06],[-5.72883e-08,0],[-5.72883e-08,0],[-5.72883e-08,1.24065e+06],[-4.92281e-08,1.24065e+06],[-4.92281e-08,0],[-4.92281e-08,0],[-4.92281e-08,2.48131e+06],[-4.11678e-08,2.48131e+06],[-4.11678e-08,0],[-4.11678e-08,0],[-4.11678e-08,3.72196e+06],[-3.31076e-08,3.72196e+06],[-3.31076e-08,0],[-3.31076e-08,0],[-3.31076e-08,3.72196e+06],[-2.50473e-08,3.72196e+06],[-2.50473e-08,0],[-2.50473e-08,0],[-2.50473e-08,4.96262e+06],[-1.6987e-08,4.96262e+06],[-1.6987e-08,0],[-1.6987e-08,0],[-1.6987e-08,8.68458e+06],[-8.92678e-09,8.68458e+06],[-8.92678e-09,0],[-8.92678e-09,0],[-8.92678e-09,2.85351e+07],[-8.66517e-10,2.85351e+07],[-8.66517e-10,0],[-8.66517e-10,0],[-8.66517e-10,3.84603e+07],[7.19374e-09,3.84603e+07],[7.19374e-09,0],[7.19374e-09,0],[7.19374e-09,1.11659e+07],[1.5254e-08,1.11659e+07],[1.5254e-08,0],[1.5254e-08,0],[1.5254e-08,4.96262e+06],[2.33143e-08,4.96262e+06],[2.33143e-08,0],[2.33143e-08,0],[2.33143e-08,1.24065e+06],[3.13745e-08,1.24065e+06],[3.13745e-08,0],[3.13745e-08,0],[3.13745e-08,1.24065e+06],[3.94348e-08,1.24065e+06],[3.94348e-08,0],[3.94348e-08,0],[3.94348e-08,1.24065e+06],[4.74951e-08,1.24065e+06],[4.74951e-08,0],[4.74951e-08,0],[4.74951e-08,0],[5.55553e-08,0],[5.55553e-08,0],[5.55553e-08,0],[5.55553e-08,2.48131e+06],[6.36156e-08,2.48131e+06],[6.36156e-08,0],[6.36156e-08,0],[6.36156e-08,0],[7.16758e-08,0],[7.16758e-08,0],[7.16758e-08,0],[7.16758e-08,0],[7.97361e-08,0],[7.97361e-08,0],[7.97361e-08,0],[7.97361e-08,0],[8.77964e-08,0],[8.77964e-08,0],[8.77964e-08,0],[8.77964e-08,0],[9.58566e-08,0],[9.58566e-08,0],[9.58566e-08,0],[9.58566e-08,0],[1.03917e-07,0],[1.03917e-07,0],[1.03917e-07,0],[1.03917e-07,1.24065e+06],[1.11977e-07,1.24065e+06],[1.11977e-07,0],[1.11977e-07,0],[1.11977e-07,1.24065e+06],[1.20037e-07,1.24065e+06],[1.20037e-07,0],[1.20037e-07,0],[1.20037e-07,0],[1.28098e-07,0],[1.28098e-07,0],[1.28098e-07,0],[1.28098e-07,0],[1.36158e-07,0],[1.36158e-07,0],[1.36158e-07,0],[1.36158e-07,0],[1.44218e-07,0],[1.44218e-07,0],[1.44218e-07,0],[1.44218e-07,0],[1.52278e-07,0],[1.52278e-07,0],[1.52278e-07,0],[1.52278e-07,0],[1.60339e-07,0],[1.60339e-07,0],[1.60339e-07,0],[1.60339e-07,0],[1.68399e-07,0],[1.68399e-07,0],[1.68399e-07,0],[1.68399e-07,0],[1.76459e-07,0],[1.76459e-07,0],[1.76459e-07,0],[1.76459e-07,0],[1.8452e-07,0],[1.8452e-07,0],[1.8452e-07,0],[1.8452e-07,0],[1.9258e-07,0],[1.9258e-07,0],[1.9258e-07,0],[1.9258e-07,0],[2.0064e-07,0],[2.0064e-07,0],[2.0064e-07,0],[2.0064e-07,0],[2.087e-07,0],[2.087e-07,0],[2.087e-07,0],[2.087e-07,0],[2.16761e-07,0],[2.16761e-07,0],[2.16761e-07,0],[2.16761e-07,0],[2.24821e-07,0],[2.24821e-07,0],[2.24821e-07,0],[2.24821e-07,0],[2.32881e-07,0],[2.32881e-07,0],[2.32881e-07,0],[2.32881e-07,0],[2.40941e-07,0],[2.40941e-07,0],[2.40941e-07,0],[2.40941e-07,1.24065e+06],[2.49002e-07,1.24065e+06],[2.49002e-07,0],[2.49002e-07,0],[2.53032e-07,0]] color=#1f77b4 isColorExplicitlySet=false fillStyle=solid lineStyle=solid pointStyle=none lineWidth=2]"
      ]
     },
     "execution_count": 84,
     "metadata": {},
     "output_type": "execute_result"
    }
   ],
   "source": [
    "hist = val.getResidualDistribution(False)\n",
    "hist.drawPDF()"
   ]
  },
  {
   "cell_type": "code",
   "execution_count": 85,
   "metadata": {},
   "outputs": [
    {
     "data": {
      "image/png": "[encoded data removed]",
      "text/plain": [
       "class=Graph name=y0 PDF implementation=class=GraphImplementation name=y0 PDF title=y0 PDF xTitle=y0 yTitle=PDF axes=ON grid=ON legendposition=topright legendFontSize=1 drawables=[class=Drawable name=y0 PDF implementation=class=Curve name=y0 PDF derived from class=DrawableImplementation name=y0 PDF legend=y0 PDF data=class=Sample name=Unnamed implementation=class=SampleImplementation name=Unnamed size=192 dimension=2 data=[[-1.33861e-07,0],[-1.29831e-07,0],[-1.29831e-07,0],[-1.29831e-07,1.24065e+06],[-1.2177e-07,1.24065e+06],[-1.2177e-07,0],[-1.2177e-07,0],[-1.2177e-07,0],[-1.1371e-07,0],[-1.1371e-07,0],[-1.1371e-07,0],[-1.1371e-07,0],[-1.0565e-07,0],[-1.0565e-07,0],[-1.0565e-07,0],[-1.0565e-07,0],[-9.75897e-08,0],[-9.75897e-08,0],[-9.75897e-08,0],[-9.75897e-08,0],[-8.95294e-08,0],[-8.95294e-08,0],[-8.95294e-08,0],[-8.95294e-08,1.24065e+06],[-8.14691e-08,1.24065e+06],[-8.14691e-08,0],[-8.14691e-08,0],[-8.14691e-08,1.24065e+06],[-7.34089e-08,1.24065e+06],[-7.34089e-08,0],[-7.34089e-08,0],[-7.34089e-08,1.24065e+06],[-6.53486e-08,1.24065e+06],[-6.53486e-08,0],[-6.53486e-08,0],[-6.53486e-08,1.24065e+06],[-5.72883e-08,1.24065e+06],[-5.72883e-08,0],[-5.72883e-08,0],[-5.72883e-08,1.24065e+06],[-4.92281e-08,1.24065e+06],[-4.92281e-08,0],[-4.92281e-08,0],[-4.92281e-08,2.48131e+06],[-4.11678e-08,2.48131e+06],[-4.11678e-08,0],[-4.11678e-08,0],[-4.11678e-08,3.72196e+06],[-3.31076e-08,3.72196e+06],[-3.31076e-08,0],[-3.31076e-08,0],[-3.31076e-08,3.72196e+06],[-2.50473e-08,3.72196e+06],[-2.50473e-08,0],[-2.50473e-08,0],[-2.50473e-08,4.96262e+06],[-1.6987e-08,4.96262e+06],[-1.6987e-08,0],[-1.6987e-08,0],[-1.6987e-08,8.68458e+06],[-8.92678e-09,8.68458e+06],[-8.92678e-09,0],[-8.92678e-09,0],[-8.92678e-09,2.85351e+07],[-8.66517e-10,2.85351e+07],[-8.66517e-10,0],[-8.66517e-10,0],[-8.66517e-10,3.84603e+07],[7.19374e-09,3.84603e+07],[7.19374e-09,0],[7.19374e-09,0],[7.19374e-09,1.11659e+07],[1.5254e-08,1.11659e+07],[1.5254e-08,0],[1.5254e-08,0],[1.5254e-08,4.96262e+06],[2.33143e-08,4.96262e+06],[2.33143e-08,0],[2.33143e-08,0],[2.33143e-08,1.24065e+06],[3.13745e-08,1.24065e+06],[3.13745e-08,0],[3.13745e-08,0],[3.13745e-08,1.24065e+06],[3.94348e-08,1.24065e+06],[3.94348e-08,0],[3.94348e-08,0],[3.94348e-08,1.24065e+06],[4.74951e-08,1.24065e+06],[4.74951e-08,0],[4.74951e-08,0],[4.74951e-08,0],[5.55553e-08,0],[5.55553e-08,0],[5.55553e-08,0],[5.55553e-08,2.48131e+06],[6.36156e-08,2.48131e+06],[6.36156e-08,0],[6.36156e-08,0],[6.36156e-08,0],[7.16758e-08,0],[7.16758e-08,0],[7.16758e-08,0],[7.16758e-08,0],[7.97361e-08,0],[7.97361e-08,0],[7.97361e-08,0],[7.97361e-08,0],[8.77964e-08,0],[8.77964e-08,0],[8.77964e-08,0],[8.77964e-08,0],[9.58566e-08,0],[9.58566e-08,0],[9.58566e-08,0],[9.58566e-08,0],[1.03917e-07,0],[1.03917e-07,0],[1.03917e-07,0],[1.03917e-07,1.24065e+06],[1.11977e-07,1.24065e+06],[1.11977e-07,0],[1.11977e-07,0],[1.11977e-07,1.24065e+06],[1.20037e-07,1.24065e+06],[1.20037e-07,0],[1.20037e-07,0],[1.20037e-07,0],[1.28098e-07,0],[1.28098e-07,0],[1.28098e-07,0],[1.28098e-07,0],[1.36158e-07,0],[1.36158e-07,0],[1.36158e-07,0],[1.36158e-07,0],[1.44218e-07,0],[1.44218e-07,0],[1.44218e-07,0],[1.44218e-07,0],[1.52278e-07,0],[1.52278e-07,0],[1.52278e-07,0],[1.52278e-07,0],[1.60339e-07,0],[1.60339e-07,0],[1.60339e-07,0],[1.60339e-07,0],[1.68399e-07,0],[1.68399e-07,0],[1.68399e-07,0],[1.68399e-07,0],[1.76459e-07,0],[1.76459e-07,0],[1.76459e-07,0],[1.76459e-07,0],[1.8452e-07,0],[1.8452e-07,0],[1.8452e-07,0],[1.8452e-07,0],[1.9258e-07,0],[1.9258e-07,0],[1.9258e-07,0],[1.9258e-07,0],[2.0064e-07,0],[2.0064e-07,0],[2.0064e-07,0],[2.0064e-07,0],[2.087e-07,0],[2.087e-07,0],[2.087e-07,0],[2.087e-07,0],[2.16761e-07,0],[2.16761e-07,0],[2.16761e-07,0],[2.16761e-07,0],[2.24821e-07,0],[2.24821e-07,0],[2.24821e-07,0],[2.24821e-07,0],[2.32881e-07,0],[2.32881e-07,0],[2.32881e-07,0],[2.32881e-07,0],[2.40941e-07,0],[2.40941e-07,0],[2.40941e-07,0],[2.40941e-07,1.24065e+06],[2.49002e-07,1.24065e+06],[2.49002e-07,0],[2.49002e-07,0],[2.53032e-07,0]] color=#1f77b4 isColorExplicitlySet=false fillStyle=solid lineStyle=solid pointStyle=none lineWidth=2]"
      ]
     },
     "execution_count": 85,
     "metadata": {},
     "output_type": "execute_result"
    }
   ],
   "source": [
    "r = val.getResidualSample()\n",
    "ot.HistogramFactory().build(r).drawPDF()"
   ]
  },
  {
   "cell_type": "markdown",
   "metadata": {},
   "source": [
    "On observe que les deux graphiques sont identiques, les deux méthodes sont équivalentes."
   ]
  },
  {
   "cell_type": "markdown",
   "metadata": {},
   "source": []
  }
 ],
 "metadata": {
  "kernelspec": {
   "display_name": "Python 3",
   "language": "python",
   "name": "python3"
  },
  "language_info": {
   "codemirror_mode": {
    "name": "ipython",
    "version": 3
   },
   "file_extension": ".py",
   "mimetype": "text/x-python",
   "name": "python",
   "nbconvert_exporter": "python",
   "pygments_lexer": "ipython3",
   "version": "3.12.1"
  }
 },
 "nbformat": 4,
 "nbformat_minor": 2
}
