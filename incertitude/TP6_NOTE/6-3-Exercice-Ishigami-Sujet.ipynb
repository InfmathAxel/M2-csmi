{
 "cells": [
  {
   "cell_type": "markdown",
   "metadata": {},
   "source": [
    "# Exercice : krigeage de la fonction Ishigami\n",
    "\n",
    "On considère la fonction \n",
    "$$\n",
    "g(X_1,X_2,X_3) = \\sin(X_1)+a \\sin (X_2)^2 + b X_3^4 \\sin(X_1)\n",
    "$$\n",
    "pour tout $X_1,X_2,X_3\\in[-\\pi,\\pi]$ où $a=7$ et $b=0.1$. \n",
    "\n",
    "On suppose que les variables sont indépendantes et suivent la loi uniforme entre $-\\pi$ et $\\pi$.\n",
    "\n",
    "L'objectif de cet exercice est de créer un métamodèle de krigeage de cette fonction. Puis nous allons réaliser l'étude de sensibilité de la fonction, en utilisant le métamodèle."
   ]
  },
  {
   "cell_type": "code",
   "execution_count": 1,
   "metadata": {},
   "outputs": [],
   "source": [
    "import openturns as ot\n",
    "\n",
    "from math import pi,sin "
   ]
  },
  {
   "cell_type": "markdown",
   "metadata": {},
   "source": [
    "*Questions*\n",
    "\n",
    "**Définition du modèle**\n",
    "* Définir la fonction `g` associée à la fonction."
   ]
  },
  {
   "cell_type": "code",
   "execution_count": 2,
   "metadata": {},
   "outputs": [
    {
     "data": {
      "text/html": [
       "class=Point name=Unnamed dimension=1 values=[0]"
      ],
      "text/plain": [
       "class=Point name=Unnamed dimension=1 values=[0]"
      ]
     },
     "execution_count": 2,
     "metadata": {},
     "output_type": "execute_result"
    }
   ],
   "source": [
    "g = ot.SymbolicFunction( [\"X1\",\"X2\",\"X3\"],[\"sin(X1)+7*sin(X2)^2 + 0.1*X3^4*sin(X1)\"])\n",
    "g([0,0,0])\n"
   ]
  },
  {
   "cell_type": "markdown",
   "metadata": {},
   "source": [
    "* Définir la distribution `distribution` au vecteur aléatoire en entrée."
   ]
  },
  {
   "cell_type": "code",
   "execution_count": 3,
   "metadata": {},
   "outputs": [],
   "source": [
    "distributionList = [ot.Uniform(-pi, pi)] * 3\n",
    "distribution = ot.ComposedDistribution(distributionList)\n"
   ]
  },
  {
   "cell_type": "markdown",
   "metadata": {},
   "source": [
    "**Apprentissage**\n",
    "* Créer un échantillon `X_train` de taille 20 en entrée du modèle et évaluer les sorties correspondantes `Y_train`. "
   ]
  },
  {
   "cell_type": "code",
   "execution_count": 4,
   "metadata": {},
   "outputs": [],
   "source": [
    "sampleSize_train = 200\n",
    "X_train = distribution.getSample(sampleSize_train)\n",
    "Y_train = g(X_train)"
   ]
  },
  {
   "cell_type": "markdown",
   "metadata": {},
   "source": [
    "* Dessiner l'histogramme des sorties. "
   ]
  },
  {
   "cell_type": "code",
   "execution_count": 5,
   "metadata": {},
   "outputs": [
    {
     "data": {
      "image/png": "[encoded data removed]",
      "text/plain": [
       "class=Graph name=y0 PDF implementation=class=GraphImplementation name=y0 PDF title=Histogramme de la sortie xTitle=Y yTitle=PDF axes=ON grid=ON legendposition=topright legendFontSize=1 drawables=[class=Drawable name=y0 PDF implementation=class=Curve name=y0 PDF derived from class=DrawableImplementation name=y0 PDF legend=y0 PDF data=class=Sample name=Unnamed implementation=class=SampleImplementation name=Unnamed size=44 dimension=2 data=[[-10.6334,0],[-9.47317,0],[-9.47317,0],[-9.47317,0.00430956],[-7.15275,0.00430956],[-7.15275,0],[-7.15275,0],[-7.15275,0.00646434],[-4.83232,0.00646434],[-4.83232,0],[-4.83232,0],[-4.83232,0.0172382],[-2.5119,0.0172382],[-2.5119,0],[-2.5119,0],[-2.5119,0.0581791],[-0.191479,0.0581791],[-0.191479,0],[-0.191479,0],[-0.191479,0.0905008],[2.12894,0.0905008],[2.12894,0],[2.12894,0],[2.12894,0.0818817],[4.44937,0.0818817],[4.44937,0],[4.44937,0],[4.44937,0.0948103],[6.76979,0.0948103],[6.76979,0],[6.76979,0],[6.76979,0.0560243],[9.09021,0.0560243],[9.09021,0],[9.09021,0],[9.09021,0.00861912],[11.4106,0.00861912],[11.4106,0],[11.4106,0],[11.4106,0.0129287],[13.7311,0.0129287],[13.7311,0],[13.7311,0],[14.8913,0]] color=#1f77b4 isColorExplicitlySet=false fillStyle=solid lineStyle=solid pointStyle=none lineWidth=2]"
      ]
     },
     "execution_count": 5,
     "metadata": {},
     "output_type": "execute_result"
    }
   ],
   "source": [
    "histo = ot.HistogramFactory().build(Y_train).drawPDF()\n",
    "histo.setXTitle(\"Y\")\n",
    "histo.setTitle(\"Histogramme de la sortie\")\n",
    "histo"
   ]
  },
  {
   "cell_type": "markdown",
   "metadata": {},
   "source": [
    "* Utiliser la classe `SquaredExponential` pour définir un modèle exponentiel carré. "
   ]
  },
  {
   "cell_type": "code",
   "execution_count": 6,
   "metadata": {},
   "outputs": [],
   "source": [
    "dimension = distribution.getDimension()\n",
    "basis = ot.ConstantBasisFactory(dimension).build()\n",
    "covarianceModel = ot.SquaredExponential([1.]*dimension, [1.0])\n",
    "algo = ot.KrigingAlgorithm(X_train, Y_train, covarianceModel, basis)\n",
    "algo.run()\n",
    "result = algo.getResult()\n",
    "krigeageMM = result.getMetaModel()"
   ]
  },
  {
   "cell_type": "markdown",
   "metadata": {},
   "source": [
    "* Créer un métamodèle de krigeage avec la classe `KrigingAlgorithm`. Vous utiliserez une base de type `ConstantBasisFactory`."
   ]
  },
  {
   "cell_type": "code",
   "execution_count": 7,
   "metadata": {},
   "outputs": [
    {
     "data": {
      "text/html": [
       "class=Point name=Unnamed dimension=1 values=[3.37006]"
      ],
      "text/plain": [
       "class=Point name=Unnamed dimension=1 values=[3.37006]"
      ]
     },
     "execution_count": 7,
     "metadata": {},
     "output_type": "execute_result"
    }
   ],
   "source": [
    "result.getTrendCoefficients()"
   ]
  },
  {
   "cell_type": "markdown",
   "metadata": {},
   "source": [
    "**Validation**\n",
    "* Créer un échantillon `X_test` de taille 100 en entrée du modèle et évaluer les sorties correspondantes `Y_test`. "
   ]
  },
  {
   "cell_type": "code",
   "execution_count": 8,
   "metadata": {},
   "outputs": [],
   "source": [
    "sampleSize_test = 100\n",
    "X_test = distribution.getSample(sampleSize_test)\n",
    "Y_test = g(X_test)"
   ]
  },
  {
   "cell_type": "markdown",
   "metadata": {},
   "source": [
    "* Utiliser la classe `MetaModelValidation` pour valider le métamodèle. "
   ]
  },
  {
   "cell_type": "code",
   "execution_count": 9,
   "metadata": {},
   "outputs": [],
   "source": [
    "Y_test_MM = krigeageMM(X_test)"
   ]
  },
  {
   "cell_type": "markdown",
   "metadata": {},
   "source": [
    "* Quel est la valeur du coefficient de prédictivité ? "
   ]
  },
  {
   "cell_type": "code",
   "execution_count": 10,
   "metadata": {},
   "outputs": [],
   "source": [
    "val = ot.MetaModelValidation(Y_test,Y_test_MM)\n"
   ]
  },
  {
   "cell_type": "code",
   "execution_count": 11,
   "metadata": {},
   "outputs": [
    {
     "data": {
      "text/html": [
       "class=Point name=Unnamed dimension=1 values=[0.992206]"
      ],
      "text/plain": [
       "class=Point name=Unnamed dimension=1 values=[0.992206]"
      ]
     },
     "execution_count": 11,
     "metadata": {},
     "output_type": "execute_result"
    }
   ],
   "source": [
    "val.computePredictivityFactor()"
   ]
  },
  {
   "cell_type": "markdown",
   "metadata": {},
   "source": [
    "* La qualité est-elle suffisante pour utiliser le métamodèle ? Quels paramètres peut-on changer ?"
   ]
  },
  {
   "cell_type": "markdown",
   "metadata": {},
   "source": [
    "le Q2 est superieur a 0.95 donc le métamodèle est bon "
   ]
  },
  {
   "cell_type": "markdown",
   "metadata": {},
   "source": [
    "* Améliorez la qualité du métamodèle jusqu'à ce que la qualité soit suffisante, puis passez à la question suivante."
   ]
  },
  {
   "cell_type": "markdown",
   "metadata": {},
   "source": [
    "**Analyse de sensibilité**\n",
    "* Utiliser la classe `SobolSimulationAlgorithm` pour estimer les indices de Sobol' du métamodèle. "
   ]
  },
  {
   "cell_type": "code",
   "execution_count": null,
   "metadata": {},
   "outputs": [],
   "source": [
    "estimator = ot.SaltelliSensitivityAlgorithm()\n",
    "estimator.setUseAsymptoticDistribution(True)\n",
    "algo = ot.SobolSimulationAlgorithm(distribution, krigeageMM, estimator)\n",
    "algo.setMaximumOuterSampling(100) # necessaire sinon prends trop de temps\n",
    "\n",
    "algo.run()"
   ]
  },
  {
   "cell_type": "markdown",
   "metadata": {},
   "source": [
    "* Afficher les indices de Sobol'. "
   ]
  },
  {
   "cell_type": "code",
   "execution_count": 15,
   "metadata": {},
   "outputs": [
    {
     "name": "stdout",
     "output_type": "stream",
     "text": [
      "First order = [0.31586,0.435882,-0.00576937]\n",
      "Total order = [0.564012,0.441275,0.246348]\n"
     ]
    }
   ],
   "source": [
    "result = algo.getResult()\n",
    "fo = result.getFirstOrderIndicesEstimate()\n",
    "to = result.getTotalOrderIndicesEstimate()\n",
    "print(\"First order = %s\" % (str(fo)))\n",
    "print(\"Total order = %s\" % (str(to)))"
   ]
  },
  {
   "cell_type": "markdown",
   "metadata": {},
   "source": [
    "* Analyser les indices de Sobol' : identifier les variables les plus influentes et les interactions."
   ]
  },
  {
   "cell_type": "markdown",
   "metadata": {},
   "source": [
    "On a le l'indice de Sobol total de X1 qui vaut 0.56 , pour X2 0.44 et pour X3 0.002 donc X1 et le plus influent suivie par X2 et X3 n'influe quasiment pas \n",
    "\n",
    "Pour les interactions  X1 qui a un indices de premier ordre avec 0.35 indiquant que les interactions de X1 avec le reste  influe  sur le resultat de Y ,  X2  quand a lui a un indice de Sobol du premier ordre proche du total donc il interagit peu,  X3 a une vraiment très faible influence.\n",
    "\n",
    " warning : selon la version d'openturns certaine fonction peuvent etre deprecated, à la fac mon code ne donnais pas tout le temps les même indices de sobol,mais chez moi mon code marche bien,j'utilise la version 1.23 d'openturns  "
   ]
  },
  {
   "cell_type": "code",
   "execution_count": null,
   "metadata": {},
   "outputs": [],
   "source": []
  },
  {
   "cell_type": "code",
   "execution_count": null,
   "metadata": {},
   "outputs": [],
   "source": []
  },
  {
   "cell_type": "code",
   "execution_count": null,
   "metadata": {},
   "outputs": [],
   "source": []
  }
 ],
 "metadata": {
  "kernelspec": {
   "display_name": "Python 3",
   "language": "python",
   "name": "python3"
  },
  "language_info": {
   "codemirror_mode": {
    "name": "ipython",
    "version": 3
   },
   "file_extension": ".py",
   "mimetype": "text/x-python",
   "name": "python",
   "nbconvert_exporter": "python",
   "pygments_lexer": "ipython3",
   "version": "3.12.1"
  }
 },
 "nbformat": 4,
 "nbformat_minor": 2
}
