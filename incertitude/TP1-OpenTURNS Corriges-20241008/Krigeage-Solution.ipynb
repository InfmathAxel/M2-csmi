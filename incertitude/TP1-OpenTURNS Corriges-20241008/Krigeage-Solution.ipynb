{
 "cells": [
  {
   "cell_type": "markdown",
   "metadata": {},
   "source": [
    "# Faire un métamodèle de krigeage\n"
   ]
  },
  {
   "cell_type": "markdown",
   "metadata": {},
   "source": [
    "## Le krigeage dans OpenTURNS\n",
    "\n",
    "### Le modèle de déviation de la poutre encastrée\n",
    "\n",
    "Dans l'exemple qui suit, on considère le modèle de déviation de la poutre encastrée. Dans ce modèle, on considère 4 variables aléatoires liées par une copule Gaussienne. \n",
    "\n",
    "<img src=\"poutre.png\" width=\"300px\">\n",
    "\n",
    "On considère 4 variables aléatoires :\n",
    " - E : le module d'Young [Pa]\n",
    " - F : la force appliquée [N]\n",
    " - L : la longueur [m]\n",
    " - I : le moment d'inertie de la poutre [m^4]\n",
    "\n",
    "La déviation verticale de la poutre sous l'effet de la force appliquée est modélisée par l'équation :\n",
    "$$\n",
    "y = \\frac{FL^3}{3EI}\n",
    "$$\n",
    "\n",
    "On considère les lois de probabilité suivantes :\n",
    "\n",
    "- E ~ Beta(0.93, 3.2, 2.8e7, 4.8e7)\n",
    "- F ~ LogNormal(30000, 9000, 15000)\n",
    "- L ~ Uniform(250, 260)\n",
    "- I ~ Beta(2.5, 4.0, 3.1e2, 4.5e2)\n",
    " \n",
    "On fait l'hypothèse que les variables aléatoires E, F, L et I sont liées par une copule Gaussienne dont la matrice de corrélation est :\n",
    "$$\n",
    "R = \n",
    "\\begin{pmatrix}\n",
    "1 & 0 & 0 & 0 \\\\\n",
    "0 & 1 & 0 & 0 \\\\\n",
    "0 & 0 & 1 & -0.2 \\\\\n",
    "0 & 0 & -0.2 & 1\n",
    "\\end{pmatrix}\n",
    "$$\n",
    "\n",
    "En d'autres termes, on considère que les variables L et I sont corrélées négativement : lorsque la longueur L augmente, le moment d'inertie I diminue. \n",
    "\n",
    "On créé un méta-modèle de krigeage fondé sur un modèle exponentiel carré. Pour estimer le métamodèle, nous allons utiliser un plan d'expériences de taille 20. "
   ]
  },
  {
   "cell_type": "markdown",
   "metadata": {},
   "source": [
    "### Définition du modèle"
   ]
  },
  {
   "cell_type": "code",
   "execution_count": 1,
   "metadata": {},
   "outputs": [],
   "source": [
    "import openturns as ot"
   ]
  },
  {
   "cell_type": "markdown",
   "metadata": {},
   "source": [
    "Etape A : définition du modèle. Nous commençons par définir une fonction symbolique qui évalue la sortie y en fonction des entrées E, F, L et I."
   ]
  },
  {
   "cell_type": "code",
   "execution_count": 2,
   "metadata": {},
   "outputs": [],
   "source": [
    "model = ot.SymbolicFunction([\"E\", \"F\", \"L\", \"I\"], [\"F*L^3/(3*E*I)\"])"
   ]
  },
  {
   "cell_type": "markdown",
   "metadata": {},
   "source": [
    "Etape B : définition des distributions du vecteur aléatoire en entrée. Nous définissons ensuite les lois de distribution des variables aléatoires E, F, L et I."
   ]
  },
  {
   "cell_type": "code",
   "execution_count": 3,
   "metadata": {},
   "outputs": [],
   "source": [
    "# Young's modulus E: beta distribution\n",
    "E = ot.Beta(0.9, 3.5, 2.5e7, 5.0e7) # in N/m^2\n",
    "E.setDescription(\"E\")\n",
    "# Load F: lognormal distribution\n",
    "F = ot.LogNormal() # in N\n",
    "F.setParameter(ot.LogNormalMuSigma()([3e4, 9e3, 0.]))\n",
    "F.setDescription(\"F\")\n",
    "# Length L: uniform distribution\n",
    "L = ot.Uniform(2.5, 2.6) # in m\n",
    "L.setDescription(\"L\")\n",
    "# Moment of inertia I: beta distribution\n",
    "I = ot.Beta(2.5, 4, 3.1e2, 4.5e2) # in m^4\n",
    "I.setDescription(\"I\")"
   ]
  },
  {
   "cell_type": "markdown",
   "metadata": {},
   "source": [
    "Puis on définit la dépendance entre les variables d'entrée en créant une copule Gaussienne avec la classe `NormalCopula`."
   ]
  },
  {
   "cell_type": "code",
   "execution_count": 4,
   "metadata": {},
   "outputs": [],
   "source": [
    "dim = 4 # number of inputs\n",
    "R = ot.CorrelationMatrix(dim)\n",
    "R[2, 3] = -0.2 \n",
    "myCopula = ot.NormalCopula(ot.NormalCopula.GetCorrelationFromSpearmanCorrelation(R))\n",
    "myDistribution = ot.ComposedDistribution([E, F, L, I], myCopula)"
   ]
  },
  {
   "cell_type": "markdown",
   "metadata": {},
   "source": [
    "### Définition d'un plan d'expériences"
   ]
  },
  {
   "cell_type": "markdown",
   "metadata": {},
   "source": [
    "Nous considérons un plan d'expériences de type Monte-Carlo simple. Pour cela, on génère un échantillon des entrées grâce à la méthode `getSample`. Puis nous évaluons la sortie en appelant la fonction `model`."
   ]
  },
  {
   "cell_type": "code",
   "execution_count": 5,
   "metadata": {},
   "outputs": [],
   "source": [
    "sampleSize_train = 20\n",
    "X_train = myDistribution.getSample(sampleSize_train)\n",
    "Y_train = model(X_train)"
   ]
  },
  {
   "cell_type": "markdown",
   "metadata": {},
   "source": [
    "Observons la distribution des déviations verticales Y sur la base d'apprentissage. On observe que les déviations plus grandes sont moins fréquentes. "
   ]
  },
  {
   "cell_type": "code",
   "execution_count": 6,
   "metadata": {},
   "outputs": [
    {
     "data": {
      "image/png": "[encoded data removed]",
      "text/plain": [
       "class=Graph name=y0 PDF implementation=class=GraphImplementation name=y0 PDF title=Histogramme des déviations verticales xTitle=Déviation verticale (m) yTitle=PDF axes=ON grid=ON legendposition=topright legendFontSize=1 drawables=[class=Drawable name=Unnamed implementation=class=Curve name=Unnamed derived from class=DrawableImplementation name=Unnamed legend= data=class=Sample name=Unnamed implementation=class=SampleImplementation name=Unnamed size=20 dimension=2 data=[[5.60202e-06,0],[7.41521e-06,0],[7.41521e-06,0],[7.41521e-06,55151.4],[1.10416e-05,55151.4],[1.10416e-05,0],[1.10416e-05,0],[1.10416e-05,124091],[1.4668e-05,124091],[1.4668e-05,0],[1.4668e-05,0],[1.4668e-05,55151.4],[1.82944e-05,55151.4],[1.82944e-05,0],[1.82944e-05,0],[1.82944e-05,41363.6],[2.19207e-05,41363.6],[2.19207e-05,0],[2.19207e-05,0],[2.37339e-05,0]] color=red fillStyle=solid lineStyle=solid pointStyle=none lineWidth=2]"
      ]
     },
     "execution_count": 6,
     "metadata": {},
     "output_type": "execute_result"
    }
   ],
   "source": [
    "histo = ot.HistogramFactory().build(Y_train).drawPDF()\n",
    "histo.setXTitle(\"Déviation verticale (m)\")\n",
    "histo.setTitle(\"Histogramme des déviations verticales\")\n",
    "histo.setLegends([\"\"])\n",
    "histo"
   ]
  },
  {
   "cell_type": "markdown",
   "metadata": {},
   "source": [
    "### Création du méta-modèle"
   ]
  },
  {
   "cell_type": "markdown",
   "metadata": {},
   "source": [
    "Pour créer le krigeage, on choisit une tendance constante avec la classe `ConstantBasisFactory`. Puis on utilise un modèle de covariance de type exponentielle carrée. Enfin, on utilise la classe `KrigingAlgorithm` pour créer le krigeage en utilisant la base d'apprentissage, le modèle de covariance et la tendance."
   ]
  },
  {
   "cell_type": "code",
   "execution_count": 7,
   "metadata": {},
   "outputs": [],
   "source": [
    "dimension = myDistribution.getDimension()\n",
    "basis = ot.ConstantBasisFactory(dimension).build()\n",
    "covarianceModel = ot.SquaredExponential([1.]*dimension, [1.0])\n",
    "algo = ot.KrigingAlgorithm(X_train, Y_train, covarianceModel, basis)\n",
    "algo.run()\n",
    "result = algo.getResult()\n",
    "krigeageMM = result.getMetaModel()"
   ]
  },
  {
   "cell_type": "markdown",
   "metadata": {},
   "source": [
    "La méthode `run` a évalué les paramètres du modèle par la méthode du maximum de vraisemblance. \n",
    "\n",
    "On peut alors afficher la tendance constante du modèle."
   ]
  },
  {
   "cell_type": "code",
   "execution_count": 8,
   "metadata": {
    "scrolled": true
   },
   "outputs": [
    {
     "data": {
      "text/plain": [
       "[class=Point name=Unnamed dimension=1 values=[2.08572e-05]]"
      ]
     },
     "execution_count": 8,
     "metadata": {},
     "output_type": "execute_result"
    }
   ],
   "source": [
    "result.getTrendCoefficients()"
   ]
  },
  {
   "cell_type": "markdown",
   "metadata": {},
   "source": [
    "On peut également afficher les paramètres du modèle de covariance, estimés par la méthode du maximum de vraisemblance."
   ]
  },
  {
   "cell_type": "code",
   "execution_count": 9,
   "metadata": {},
   "outputs": [
    {
     "data": {
      "text/html": [
       "<p>SquaredExponential(scale=[6.10212,5.22704,7.19611,6.89181], amplitude=[9.19034e-06])</p>"
      ],
      "text/plain": [
       "class=SquaredExponential scale=class=Point name=Unnamed dimension=4 values=[6.10212,5.22704,7.19611,6.89181] amplitude=class=Point name=Unnamed dimension=1 values=[9.19034e-06]"
      ]
     },
     "execution_count": 9,
     "metadata": {},
     "output_type": "execute_result"
    }
   ],
   "source": [
    "result.getCovarianceModel()"
   ]
  },
  {
   "cell_type": "markdown",
   "metadata": {},
   "source": [
    "On souhaite ensuite valider le métamodèle de krigeage. Pour cela, on génère un échantillon de validation de taille 100 et on évalue la sortie du modèle sur cet échantillon."
   ]
  },
  {
   "cell_type": "code",
   "execution_count": 10,
   "metadata": {},
   "outputs": [],
   "source": [
    "sampleSize_test = 100\n",
    "X_test = myDistribution.getSample(sampleSize_test)\n",
    "Y_test = model(X_test)"
   ]
  },
  {
   "cell_type": "markdown",
   "metadata": {},
   "source": [
    "Sur l'échantillon de validation, on évalue les sorties du méta-modèle."
   ]
  },
  {
   "cell_type": "code",
   "execution_count": 11,
   "metadata": {},
   "outputs": [],
   "source": [
    "Y_test_MM = krigeageMM(X_test)"
   ]
  },
  {
   "cell_type": "markdown",
   "metadata": {},
   "source": [
    "La classe `MetaModelValidation` facilite le travail de validation d'un métamodèle. Pour la constuire, on lui donne les entrées de la base de validation, les sorties correspondantes et le métamodèle."
   ]
  },
  {
   "cell_type": "code",
   "execution_count": 12,
   "metadata": {},
   "outputs": [],
   "source": [
    "val = ot.MetaModelValidation(X_test, Y_test, krigeageMM)"
   ]
  },
  {
   "cell_type": "markdown",
   "metadata": {},
   "source": [
    "La méthode `computePredictivityFactor` permet d'estimer le coefficient $Q_2$."
   ]
  },
  {
   "cell_type": "code",
   "execution_count": 13,
   "metadata": {
    "scrolled": true
   },
   "outputs": [
    {
     "data": {
      "text/plain": [
       "0.9830432762889807"
      ]
     },
     "execution_count": 13,
     "metadata": {},
     "output_type": "execute_result"
    }
   ],
   "source": [
    "val.computePredictivityFactor()"
   ]
  },
  {
   "cell_type": "markdown",
   "metadata": {},
   "source": [
    "Puisque le $Q_2$ est supérieur à 0.95, on peut dire que c'est un très bon méta-modèle."
   ]
  },
  {
   "cell_type": "markdown",
   "metadata": {},
   "source": [
    "Il est intéressant de dessiner l'histogramme des résidus : on peut le faire avec la classe `HistogramFactory` appliquée à l'échantillon des résidus `r`. \n",
    "\n",
    "On observe que les résidus négatifs sont presque aussi fréquents que les résidus positifs : c'est plutôt un signe positif pour la qualité du métamodèle. Dans notre cas, la déviation verticale est plutôt petite, de l'ordre de $10^{-5}$. Cela implique qu'il n'est pas si simple de voir si, en valeur absolue, les résidus sont plutôt petits, ou non : le graphique que nous dessinerons par la suite est plus fiable de ce point de vue."
   ]
  },
  {
   "cell_type": "code",
   "execution_count": 14,
   "metadata": {},
   "outputs": [
    {
     "data": {
      "image/png": "[encoded data removed]",
      "text/plain": [
       "class=Graph name=y0 PDF implementation=class=GraphImplementation name=y0 PDF title=y0 PDF xTitle=y0 yTitle=PDF axes=ON grid=ON legendposition=topright legendFontSize=1 drawables=[class=Drawable name=Unnamed implementation=class=Curve name=Unnamed derived from class=DrawableImplementation name=Unnamed legend=y0 PDF data=class=Sample name=Unnamed implementation=class=SampleImplementation name=Unnamed size=64 dimension=2 data=[[-1.90442e-06,0],[-1.73422e-06,0],[-1.73422e-06,0],[-1.73422e-06,29376.7],[-1.39381e-06,29376.7],[-1.39381e-06,0],[-1.39381e-06,0],[-1.39381e-06,0],[-1.05341e-06,0],[-1.05341e-06,0],[-1.05341e-06,0],[-1.05341e-06,146884],[-7.13001e-07,146884],[-7.13001e-07,0],[-7.13001e-07,0],[-7.13001e-07,440651],[-3.72595e-07,440651],[-3.72595e-07,0],[-3.72595e-07,0],[-3.72595e-07,646288],[-3.21894e-08,646288],[-3.21894e-08,0],[-3.21894e-08,0],[-3.21894e-08,940055],[3.08216e-07,940055],[3.08216e-07,0],[3.08216e-07,0],[3.08216e-07,411274],[6.48622e-07,411274],[6.48622e-07,0],[6.48622e-07,0],[6.48622e-07,88130.1],[9.89028e-07,88130.1],[9.89028e-07,0],[9.89028e-07,0],[9.89028e-07,146884],[1.32943e-06,146884],[1.32943e-06,0],[1.32943e-06,0],[1.32943e-06,29376.7],[1.66984e-06,29376.7],[1.66984e-06,0],[1.66984e-06,0],[1.66984e-06,29376.7],[2.01025e-06,29376.7],[2.01025e-06,0],[2.01025e-06,0],[2.01025e-06,0],[2.35065e-06,0],[2.35065e-06,0],[2.35065e-06,0],[2.35065e-06,0],[2.69106e-06,0],[2.69106e-06,0],[2.69106e-06,0],[2.69106e-06,0],[3.03146e-06,0],[3.03146e-06,0],[3.03146e-06,0],[3.03146e-06,29376.7],[3.37187e-06,29376.7],[3.37187e-06,0],[3.37187e-06,0],[3.54207e-06,0]] color=red fillStyle=solid lineStyle=solid pointStyle=none lineWidth=2]"
      ]
     },
     "execution_count": 14,
     "metadata": {},
     "output_type": "execute_result"
    }
   ],
   "source": [
    "r = val.getResidualSample()\n",
    "ot.HistogramFactory().build(r).drawPDF()"
   ]
  },
  {
   "cell_type": "markdown",
   "metadata": {},
   "source": [
    "La méthode `drawValidation` permet de comparer les données observées et les prédictions du méta-modèle. \n",
    "\n",
    "On observe que les croix rouges sont à proximité de la première bissectrice : cela montre que le méta-modèle est plutôt de bonne qualité. Toutefois, pour les grandes déviations, les points rouges sont plus éloignées de la première bissectrice : le métamodèle est moins bon pour les grandes déviations."
   ]
  },
  {
   "cell_type": "code",
   "execution_count": 15,
   "metadata": {
    "scrolled": false
   },
   "outputs": [
    {
     "data": {
      "image/png": "[encoded data removed]",
      "text/plain": [
       "class=Graph name=Metamodel validation implementation=class=GraphImplementation name=Metamodel validation title=Metamodel validation xTitle=model yTitle=metamodel axes=ON grid=ON legendposition=bottomright legendFontSize=1 drawables=[class=Drawable name=Unnamed implementation=class=Curve name=Unnamed derived from class=DrawableImplementation name=Unnamed legend=Model data=class=Sample name=Unnamed implementation=class=SampleImplementation name=Unnamed size=100 dimension=2 data=[[2.18018e-05,2.18018e-05],[2.17919e-05,2.17919e-05],[1.36384e-05,1.36384e-05],[1.14747e-05,1.14747e-05],[2.67496e-05,2.67496e-05],[1.38163e-05,1.38163e-05],[1.16451e-05,1.16451e-05],[2.09992e-05,2.09992e-05],[1.47241e-05,1.47241e-05],[1.74667e-05,1.74667e-05],[2.16063e-05,2.16063e-05],[1.31652e-05,1.31652e-05],[9.43308e-06,9.43308e-06],[1.61082e-05,1.61082e-05],[1.93045e-05,1.93045e-05],[2.51223e-05,2.51223e-05],[1.85693e-05,1.85693e-05],[1.80739e-05,1.80739e-05],[1.31333e-05,1.31333e-05],[1.75833e-05,1.75833e-05],[1.41951e-05,1.41951e-05],[1.24405e-05,1.24405e-05],[1.51023e-05,1.51023e-05],[1.1662e-05,1.1662e-05],[1.40848e-05,1.40848e-05],[1.10133e-05,1.10133e-05],[1.59487e-05,1.59487e-05],[9.31777e-06,9.31777e-06],[3.37198e-05,3.37198e-05],[1.66966e-05,1.66966e-05],[8.69751e-06,8.69751e-06],[1.80846e-05,1.80846e-05],[1.62653e-05,1.62653e-05],[8.54633e-06,8.54633e-06],[1.55294e-05,1.55294e-05],[1.16899e-05,1.16899e-05],[1.10524e-05,1.10524e-05],[1.92658e-05,1.92658e-05],[2.13097e-05,2.13097e-05],[1.56206e-05,1.56206e-05],[1.866e-05,1.866e-05],[1.43586e-05,1.43586e-05],[1.76006e-05,1.76006e-05],[1.42065e-05,1.42065e-05],[1.25412e-05,1.25412e-05],[2.02415e-05,2.02415e-05],[1.71193e-05,1.71193e-05],[1.39256e-05,1.39256e-05],[1.09683e-05,1.09683e-05],[9.94246e-06,9.94246e-06],[1.98551e-05,1.98551e-05],[1.68917e-05,1.68917e-05],[2.29977e-05,2.29977e-05],[8.99922e-06,8.99922e-06],[1.54536e-05,1.54536e-05],[1.62754e-05,1.62754e-05],[2.91459e-05,2.91459e-05],[1.51008e-05,1.51008e-05],[1.12123e-05,1.12123e-05],[1.74248e-05,1.74248e-05],[7.18821e-06,7.18821e-06],[1.79524e-05,1.79524e-05],[2.30599e-05,2.30599e-05],[8.1151e-06,8.1151e-06],[1.34184e-05,1.34184e-05],[1.21231e-05,1.21231e-05],[1.41279e-05,1.41279e-05],[1.74471e-05,1.74471e-05],[1.60626e-05,1.60626e-05],[1.16932e-05,1.16932e-05],[2.44713e-05,2.44713e-05],[2.10109e-05,2.10109e-05],[1.20703e-05,1.20703e-05],[1.66341e-05,1.66341e-05],[2.12898e-05,2.12898e-05],[8.35107e-06,8.35107e-06],[2.57518e-05,2.57518e-05],[2.30928e-05,2.30928e-05],[2.09039e-05,2.09039e-05],[1.43068e-05,1.43068e-05],[1.48933e-05,1.48933e-05],[1.64291e-05,1.64291e-05],[1.79703e-05,1.79703e-05],[1.27672e-05,1.27672e-05],[1.65214e-05,1.65214e-05],[1.77375e-05,1.77375e-05],[1.36091e-05,1.36091e-05],[1.37791e-05,1.37791e-05],[1.16509e-05,1.16509e-05],[1.19443e-05,1.19443e-05],[1.69578e-05,1.69578e-05],[2.13383e-05,2.13383e-05],[2.20274e-05,2.20274e-05],[1.57619e-05,1.57619e-05],[2.06864e-05,2.06864e-05],[1.68066e-05,1.68066e-05],[1.00273e-05,1.00273e-05],[1.39384e-05,1.39384e-05],[5.79816e-06,5.79816e-06],[8.4025e-06,8.4025e-06]] color=blue fillStyle=solid lineStyle=solid pointStyle=none lineWidth=1,class=Drawable name=Unnamed implementation=class=Cloud name=Unnamed derived from class=DrawableImplementation name=Unnamed legend=MetaModel data=class=Sample name=Unnamed implementation=class=SampleImplementation name=Unnamed size=100 dimension=2 data=[[2.18018e-05,2.13335e-05],[2.17919e-05,2.11696e-05],[1.36384e-05,1.34945e-05],[1.14747e-05,1.18379e-05],[2.67496e-05,2.60384e-05],[1.38163e-05,1.39419e-05],[1.16451e-05,1.22884e-05],[2.09992e-05,2.08504e-05],[1.47241e-05,1.54539e-05],[1.74667e-05,1.78351e-05],[2.16063e-05,2.03764e-05],[1.31652e-05,1.37674e-05],[9.43308e-06,9.91749e-06],[1.61082e-05,1.5447e-05],[1.93045e-05,1.92099e-05],[2.51223e-05,2.35336e-05],[1.85693e-05,1.84435e-05],[1.80739e-05,1.78524e-05],[1.31333e-05,1.29959e-05],[1.75833e-05,1.74983e-05],[1.41951e-05,1.45694e-05],[1.24405e-05,1.26077e-05],[1.51023e-05,1.49588e-05],[1.1662e-05,1.16741e-05],[1.40848e-05,1.40275e-05],[1.10133e-05,1.09892e-05],[1.59487e-05,1.61507e-05],[9.31777e-06,9.39275e-06],[3.37198e-05,3.03479e-05],[1.66966e-05,1.64903e-05],[8.69751e-06,9.07651e-06],[1.80846e-05,1.81971e-05],[1.62653e-05,1.58032e-05],[8.54633e-06,9.47308e-06],[1.55294e-05,1.52609e-05],[1.16899e-05,1.16588e-05],[1.10524e-05,1.15185e-05],[1.92658e-05,1.90495e-05],[2.13097e-05,2.02262e-05],[1.56206e-05,1.571e-05],[1.866e-05,1.82064e-05],[1.43586e-05,1.41912e-05],[1.76006e-05,1.80369e-05],[1.42065e-05,1.44161e-05],[1.25412e-05,1.2719e-05],[2.02415e-05,1.90764e-05],[1.71193e-05,1.71741e-05],[1.39256e-05,1.38882e-05],[1.09683e-05,1.14854e-05],[9.94246e-06,1.09129e-05],[1.98551e-05,2.00241e-05],[1.68917e-05,1.70635e-05],[2.29977e-05,2.24807e-05],[8.99922e-06,9.779e-06],[1.54536e-05,1.51131e-05],[1.62754e-05,1.6638e-05],[2.91459e-05,2.71816e-05],[1.51008e-05,1.46335e-05],[1.12123e-05,1.11978e-05],[1.74248e-05,1.7522e-05],[7.18821e-06,7.68332e-06],[1.79524e-05,1.81286e-05],[2.30599e-05,2.25923e-05],[8.1151e-06,7.91082e-06],[1.34184e-05,1.3723e-05],[1.21231e-05,1.17697e-05],[1.41279e-05,1.46694e-05],[1.74471e-05,1.73775e-05],[1.60626e-05,1.58136e-05],[1.16932e-05,1.1621e-05],[2.44713e-05,2.34234e-05],[2.10109e-05,2.1475e-05],[1.20703e-05,1.17974e-05],[1.66341e-05,1.72449e-05],[2.12898e-05,2.06443e-05],[8.35107e-06,8.15688e-06],[2.57518e-05,2.48383e-05],[2.30928e-05,2.25655e-05],[2.09039e-05,2.07257e-05],[1.43068e-05,1.48446e-05],[1.48933e-05,1.47033e-05],[1.64291e-05,1.64476e-05],[1.79703e-05,1.81192e-05],[1.27672e-05,1.28039e-05],[1.65214e-05,1.68823e-05],[1.77375e-05,1.80925e-05],[1.36091e-05,1.30941e-05],[1.37791e-05,1.36311e-05],[1.16509e-05,1.20586e-05],[1.19443e-05,1.22076e-05],[1.69578e-05,1.75105e-05],[2.13383e-05,2.01167e-05],[2.20274e-05,2.18654e-05],[1.57619e-05,1.65975e-05],[2.06864e-05,2.03994e-05],[1.68066e-05,1.64065e-05],[1.00273e-05,9.94303e-06],[1.39384e-05,1.35706e-05],[5.79816e-06,7.53238e-06],[8.4025e-06,8.13859e-06]] color=red fillStyle=solid lineStyle=solid pointStyle=plus lineWidth=1]"
      ]
     },
     "execution_count": 15,
     "metadata": {},
     "output_type": "execute_result"
    }
   ],
   "source": [
    "val.drawValidation()"
   ]
  },
  {
   "cell_type": "markdown",
   "metadata": {},
   "source": [
    "## Annexe : coefficient de prédictivité\n",
    "\n",
    "Le facteur de prédictivité $Q_2$ est un coefficient qui mesure la qualité d'un méta-modèle. \n",
    "* C'est un nombre entre 0 et 1.\n",
    "* Si Q2 est proche de 1, alors le métamodèle est excellent.\n",
    "* Si Q2 est proche de 0, alors le métamodèle est une mauvaise approximation de la fonction.\n",
    "\n",
    "En pratique, un $Q_2$ supérieur à 0.95 est qualifié de satisfaisant. \n",
    "\n",
    "On suppose que l'on dispose de $n$ entrées de validation $\\boldsymbol{x}_i$ ainsi que des observations $y_i$ correspondantes. On note $M$ le méta-modèle. \n",
    "Soit $\\bar{y}$ la moyenne des observations de validation :\n",
    "$$\n",
    "\\bar{y} = \\frac{1}{n} \\sum_{i=1}^{n} y_i\n",
    "$$\n",
    "Le coefficient $Q_2$ est défini par l'équation :\n",
    "$$\n",
    "Q_2 = 1 - \\frac{\\sum_{i=1}^{n} (y_i - M(\\boldsymbol{x}_i))^2}{\\sum_{i=1}^{n} (y_i - \\bar{y})^2}.\n",
    "$$"
   ]
  },
  {
   "cell_type": "markdown",
   "metadata": {},
   "source": [
    "## Exercices\n",
    "\n",
    "### Exercice 1 : sensibilité à la taille de l'échantillon d'apprentissage\n",
    "\n",
    "On s'interroge sur l'évolution de la qualité du métamodèle lorsque le nombre de points dans le plan d'expériences augmente. \n",
    "\n",
    "**Questions**\n",
    "* Modifier le plan d'expériences utilisé pour apprendre le méta-modèle : utiliser `sampleSize_train = 100`. \n",
    "* Mettre à jour le métamodèle de krigeage. \n",
    "* Comment évolue le coefficient de prédictivité ?\n",
    "* Pourquoi ?"
   ]
  },
  {
   "cell_type": "markdown",
   "metadata": {},
   "source": [
    "### Solution de l'exercice 1 : sensibilité à la taille de l'échantillon d'apprentissage"
   ]
  },
  {
   "cell_type": "code",
   "execution_count": 16,
   "metadata": {},
   "outputs": [],
   "source": [
    "sampleSize_train = 100\n",
    "X_train = myDistribution.getSample(sampleSize_train)\n",
    "Y_train = model(X_train)"
   ]
  },
  {
   "cell_type": "code",
   "execution_count": 17,
   "metadata": {},
   "outputs": [],
   "source": [
    "dimension = myDistribution.getDimension()\n",
    "basis = ot.ConstantBasisFactory(dimension).build()\n",
    "covarianceModel = ot.SquaredExponential([1.]*dimension, [1.0])\n",
    "algo = ot.KrigingAlgorithm(X_train, Y_train, covarianceModel, basis)\n",
    "algo.run()\n",
    "result = algo.getResult()\n",
    "krigeageMM = result.getMetaModel()"
   ]
  },
  {
   "cell_type": "code",
   "execution_count": 18,
   "metadata": {},
   "outputs": [],
   "source": [
    "sampleSize_test = 100\n",
    "X_test = myDistribution.getSample(sampleSize_test)\n",
    "Y_test = model(X_test)"
   ]
  },
  {
   "cell_type": "code",
   "execution_count": 19,
   "metadata": {},
   "outputs": [
    {
     "data": {
      "text/plain": [
       "0.9999891546322435"
      ]
     },
     "execution_count": 19,
     "metadata": {},
     "output_type": "execute_result"
    }
   ],
   "source": [
    "val = ot.MetaModelValidation(X_test, Y_test, krigeageMM)\n",
    "val.computePredictivityFactor()"
   ]
  },
  {
   "cell_type": "markdown",
   "metadata": {},
   "source": [
    "On observe que le coefficient de prédictivité est excellent : le métamodèle avec 100 points est de très bonne qualité."
   ]
  },
  {
   "cell_type": "markdown",
   "metadata": {},
   "source": [
    "### Exercice 2 : utilisation d'une tendance\n",
    "\n",
    "Il y a trois classes qui permettent de créer des modèles de tendance.\n",
    "* `ConstantBasisFactory` : tendance constante\n",
    "* `LinearBasisFactory` : tendance linéaire\n",
    "* `QuadraticBasisFactory` : tendance quadratique\n",
    "\n",
    "**Questions**\n",
    "* Mettre à jour la tendance du modèle et utiliser une tendance linéaire. \n",
    "* Quelle est la tendance estimée par la méthode du maximum de vraisemblance ?\n",
    "* Quel est l'impact sur la qualité du méta-modèle ?"
   ]
  },
  {
   "cell_type": "markdown",
   "metadata": {},
   "source": [
    "### Solution de l'exercice 2 : utilisation d'une tendance"
   ]
  },
  {
   "cell_type": "code",
   "execution_count": 20,
   "metadata": {},
   "outputs": [],
   "source": [
    "sampleSize_train = 20\n",
    "X_train = myDistribution.getSample(sampleSize_train)\n",
    "Y_train = model(X_train)"
   ]
  },
  {
   "cell_type": "code",
   "execution_count": 21,
   "metadata": {},
   "outputs": [],
   "source": [
    "dimension = myDistribution.getDimension()\n",
    "basis = ot.LinearBasisFactory(dimension).build()\n",
    "covarianceModel = ot.SquaredExponential([1.]*dimension, [1.0])\n",
    "algo = ot.KrigingAlgorithm(X_train, Y_train, covarianceModel, basis)\n",
    "algo.run()\n",
    "result = algo.getResult()\n",
    "krigeageMM = result.getMetaModel()"
   ]
  },
  {
   "cell_type": "code",
   "execution_count": 22,
   "metadata": {},
   "outputs": [
    {
     "data": {
      "text/html": [
       "<p>[1.67049e-05,-2.19781e-06,5.24488e-06,6.07475e-07,-1.1179e-06]</p>"
      ],
      "text/plain": [
       "class=Point name=Unnamed dimension=5 values=[1.67049e-05,-2.19781e-06,5.24488e-06,6.07475e-07,-1.1179e-06]"
      ]
     },
     "execution_count": 22,
     "metadata": {},
     "output_type": "execute_result"
    }
   ],
   "source": [
    "trendCoefficients = result.getTrendCoefficients()\n",
    "constantTrend = trendCoefficients[0]\n",
    "constantTrend"
   ]
  },
  {
   "cell_type": "code",
   "execution_count": 23,
   "metadata": {},
   "outputs": [],
   "source": [
    "sampleSize_test = 100\n",
    "X_test = myDistribution.getSample(sampleSize_test)\n",
    "Y_test = model(X_test)"
   ]
  },
  {
   "cell_type": "code",
   "execution_count": 24,
   "metadata": {
    "scrolled": true
   },
   "outputs": [
    {
     "data": {
      "text/plain": [
       "0.9923352167604278"
      ]
     },
     "execution_count": 24,
     "metadata": {},
     "output_type": "execute_result"
    }
   ],
   "source": [
    "val = ot.MetaModelValidation(X_test, Y_test, krigeageMM)\n",
    "val.computePredictivityFactor()"
   ]
  },
  {
   "cell_type": "markdown",
   "metadata": {},
   "source": [
    "On observe que le Q2 vaut désormais 0.992 au lieu de 0.976 précédemment. Cela montre que prendre en compte une tendance linéaire a permis d'améliorer un peu la qualité du métamodèle."
   ]
  },
  {
   "cell_type": "markdown",
   "metadata": {},
   "source": [
    "### Exercice 3 : distribution des résidus\n",
    "\n",
    "On souhaite valider la qualité du métamodèle. Nous avons vu comment récupérer les résidus avec la classe `getResidualSample` et tracer l'histogramme de ces résidus avec la classe `HistogramFactory`. Il s'avère que l'on peut récupérer directement la distribution des résidus avec la méthode `getResidualDistribution`.\n",
    "\n",
    "**Questions**\n",
    "* Utiliser la méthode `getResidualDistribution` pour obtenir la distribution des résidus.\n",
    "* Utiliser la méthode `drawPDF` pour dessiner la distribution des résidus.\n",
    "* Que conclure ?"
   ]
  },
  {
   "cell_type": "markdown",
   "metadata": {},
   "source": [
    "### Solution de l'exercice 3 : distribution des résidus"
   ]
  },
  {
   "cell_type": "code",
   "execution_count": 25,
   "metadata": {},
   "outputs": [],
   "source": [
    "val = ot.MetaModelValidation(X_test, Y_test, krigeageMM)"
   ]
  },
  {
   "cell_type": "code",
   "execution_count": 26,
   "metadata": {},
   "outputs": [
    {
     "data": {
      "image/png": "[encoded data removed]",
      "text/plain": [
       "class=Graph name=y0 PDF implementation=class=GraphImplementation name=y0 PDF title=y0 PDF xTitle=y0 yTitle=PDF axes=ON grid=ON legendposition=topright legendFontSize=1 drawables=[class=Drawable name=Unnamed implementation=class=Curve name=Unnamed derived from class=DrawableImplementation name=Unnamed legend=y0 PDF data=class=Sample name=Unnamed implementation=class=SampleImplementation name=Unnamed size=204 dimension=2 data=[[-3.70557e-06,0],[-3.65836e-06,0],[-3.65836e-06,0],[-3.65836e-06,105899],[-3.56393e-06,105899],[-3.56393e-06,0],[-3.56393e-06,0],[-3.56393e-06,0],[-3.4695e-06,0],[-3.4695e-06,0],[-3.4695e-06,0],[-3.4695e-06,0],[-3.37507e-06,0],[-3.37507e-06,0],[-3.37507e-06,0],[-3.37507e-06,0],[-3.28064e-06,0],[-3.28064e-06,0],[-3.28064e-06,0],[-3.28064e-06,0],[-3.18621e-06,0],[-3.18621e-06,0],[-3.18621e-06,0],[-3.18621e-06,0],[-3.09178e-06,0],[-3.09178e-06,0],[-3.09178e-06,0],[-3.09178e-06,0],[-2.99735e-06,0],[-2.99735e-06,0],[-2.99735e-06,0],[-2.99735e-06,0],[-2.90293e-06,0],[-2.90293e-06,0],[-2.90293e-06,0],[-2.90293e-06,0],[-2.8085e-06,0],[-2.8085e-06,0],[-2.8085e-06,0],[-2.8085e-06,0],[-2.71407e-06,0],[-2.71407e-06,0],[-2.71407e-06,0],[-2.71407e-06,0],[-2.61964e-06,0],[-2.61964e-06,0],[-2.61964e-06,0],[-2.61964e-06,0],[-2.52521e-06,0],[-2.52521e-06,0],[-2.52521e-06,0],[-2.52521e-06,0],[-2.43078e-06,0],[-2.43078e-06,0],[-2.43078e-06,0],[-2.43078e-06,0],[-2.33635e-06,0],[-2.33635e-06,0],[-2.33635e-06,0],[-2.33635e-06,0],[-2.24192e-06,0],[-2.24192e-06,0],[-2.24192e-06,0],[-2.24192e-06,0],[-2.14749e-06,0],[-2.14749e-06,0],[-2.14749e-06,0],[-2.14749e-06,0],[-2.05306e-06,0],[-2.05306e-06,0],[-2.05306e-06,0],[-2.05306e-06,0],[-1.95863e-06,0],[-1.95863e-06,0],[-1.95863e-06,0],[-1.95863e-06,0],[-1.8642e-06,0],[-1.8642e-06,0],[-1.8642e-06,0],[-1.8642e-06,0],[-1.76978e-06,0],[-1.76978e-06,0],[-1.76978e-06,0],[-1.76978e-06,0],[-1.67535e-06,0],[-1.67535e-06,0],[-1.67535e-06,0],[-1.67535e-06,0],[-1.58092e-06,0],[-1.58092e-06,0],[-1.58092e-06,0],[-1.58092e-06,0],[-1.48649e-06,0],[-1.48649e-06,0],[-1.48649e-06,0],[-1.48649e-06,105899],[-1.39206e-06,105899],[-1.39206e-06,0],[-1.39206e-06,0],[-1.39206e-06,0],[-1.29763e-06,0],[-1.29763e-06,0],[-1.29763e-06,0],[-1.29763e-06,0],[-1.2032e-06,0],[-1.2032e-06,0],[-1.2032e-06,0],[-1.2032e-06,0],[-1.10877e-06,0],[-1.10877e-06,0],[-1.10877e-06,0],[-1.10877e-06,0],[-1.01434e-06,0],[-1.01434e-06,0],[-1.01434e-06,0],[-1.01434e-06,0],[-9.19913e-07,0],[-9.19913e-07,0],[-9.19913e-07,0],[-9.19913e-07,0],[-8.25483e-07,0],[-8.25483e-07,0],[-8.25483e-07,0],[-8.25483e-07,105899],[-7.31054e-07,105899],[-7.31054e-07,0],[-7.31054e-07,0],[-7.31054e-07,0],[-6.36625e-07,0],[-6.36625e-07,0],[-6.36625e-07,0],[-6.36625e-07,0],[-5.42196e-07,0],[-5.42196e-07,0],[-5.42196e-07,0],[-5.42196e-07,211799],[-4.47767e-07,211799],[-4.47767e-07,0],[-4.47767e-07,0],[-4.47767e-07,211799],[-3.53337e-07,211799],[-3.53337e-07,0],[-3.53337e-07,0],[-3.53337e-07,211799],[-2.58908e-07,211799],[-2.58908e-07,0],[-2.58908e-07,0],[-2.58908e-07,0],[-1.64479e-07,0],[-1.64479e-07,0],[-1.64479e-07,0],[-1.64479e-07,1.27079e+06],[-7.00498e-08,1.27079e+06],[-7.00498e-08,0],[-7.00498e-08,0],[-7.00498e-08,3.38878e+06],[2.43794e-08,3.38878e+06],[2.43794e-08,0],[2.43794e-08,0],[2.43794e-08,2.54159e+06],[1.18809e-07,2.54159e+06],[1.18809e-07,0],[1.18809e-07,0],[1.18809e-07,1.05899e+06],[2.13238e-07,1.05899e+06],[2.13238e-07,0],[2.13238e-07,0],[2.13238e-07,211799],[3.07667e-07,211799],[3.07667e-07,0],[3.07667e-07,0],[3.07667e-07,317698],[4.02096e-07,317698],[4.02096e-07,0],[4.02096e-07,0],[4.02096e-07,211799],[4.96525e-07,211799],[4.96525e-07,0],[4.96525e-07,0],[4.96525e-07,211799],[5.90955e-07,211799],[5.90955e-07,0],[5.90955e-07,0],[5.90955e-07,105899],[6.85384e-07,105899],[6.85384e-07,0],[6.85384e-07,0],[6.85384e-07,105899],[7.79813e-07,105899],[7.79813e-07,0],[7.79813e-07,0],[7.79813e-07,0],[8.74242e-07,0],[8.74242e-07,0],[8.74242e-07,0],[8.74242e-07,105899],[9.68671e-07,105899],[9.68671e-07,0],[9.68671e-07,0],[9.68671e-07,105899],[1.0631e-06,105899],[1.0631e-06,0],[1.0631e-06,0],[1.11032e-06,0]] color=red fillStyle=solid lineStyle=solid pointStyle=none lineWidth=2]"
      ]
     },
     "execution_count": 26,
     "metadata": {},
     "output_type": "execute_result"
    }
   ],
   "source": [
    "hist = val.getResidualDistribution(False)\n",
    "hist.drawPDF()"
   ]
  },
  {
   "cell_type": "code",
   "execution_count": 27,
   "metadata": {},
   "outputs": [
    {
     "data": {
      "image/png": "[encoded data removed]",
      "text/plain": [
       "class=Graph name=y0 PDF implementation=class=GraphImplementation name=y0 PDF title=y0 PDF xTitle=y0 yTitle=PDF axes=ON grid=ON legendposition=topright legendFontSize=1 drawables=[class=Drawable name=Unnamed implementation=class=Curve name=Unnamed derived from class=DrawableImplementation name=Unnamed legend=y0 PDF data=class=Sample name=Unnamed implementation=class=SampleImplementation name=Unnamed size=204 dimension=2 data=[[-3.70557e-06,0],[-3.65836e-06,0],[-3.65836e-06,0],[-3.65836e-06,105899],[-3.56393e-06,105899],[-3.56393e-06,0],[-3.56393e-06,0],[-3.56393e-06,0],[-3.4695e-06,0],[-3.4695e-06,0],[-3.4695e-06,0],[-3.4695e-06,0],[-3.37507e-06,0],[-3.37507e-06,0],[-3.37507e-06,0],[-3.37507e-06,0],[-3.28064e-06,0],[-3.28064e-06,0],[-3.28064e-06,0],[-3.28064e-06,0],[-3.18621e-06,0],[-3.18621e-06,0],[-3.18621e-06,0],[-3.18621e-06,0],[-3.09178e-06,0],[-3.09178e-06,0],[-3.09178e-06,0],[-3.09178e-06,0],[-2.99735e-06,0],[-2.99735e-06,0],[-2.99735e-06,0],[-2.99735e-06,0],[-2.90293e-06,0],[-2.90293e-06,0],[-2.90293e-06,0],[-2.90293e-06,0],[-2.8085e-06,0],[-2.8085e-06,0],[-2.8085e-06,0],[-2.8085e-06,0],[-2.71407e-06,0],[-2.71407e-06,0],[-2.71407e-06,0],[-2.71407e-06,0],[-2.61964e-06,0],[-2.61964e-06,0],[-2.61964e-06,0],[-2.61964e-06,0],[-2.52521e-06,0],[-2.52521e-06,0],[-2.52521e-06,0],[-2.52521e-06,0],[-2.43078e-06,0],[-2.43078e-06,0],[-2.43078e-06,0],[-2.43078e-06,0],[-2.33635e-06,0],[-2.33635e-06,0],[-2.33635e-06,0],[-2.33635e-06,0],[-2.24192e-06,0],[-2.24192e-06,0],[-2.24192e-06,0],[-2.24192e-06,0],[-2.14749e-06,0],[-2.14749e-06,0],[-2.14749e-06,0],[-2.14749e-06,0],[-2.05306e-06,0],[-2.05306e-06,0],[-2.05306e-06,0],[-2.05306e-06,0],[-1.95863e-06,0],[-1.95863e-06,0],[-1.95863e-06,0],[-1.95863e-06,0],[-1.8642e-06,0],[-1.8642e-06,0],[-1.8642e-06,0],[-1.8642e-06,0],[-1.76978e-06,0],[-1.76978e-06,0],[-1.76978e-06,0],[-1.76978e-06,0],[-1.67535e-06,0],[-1.67535e-06,0],[-1.67535e-06,0],[-1.67535e-06,0],[-1.58092e-06,0],[-1.58092e-06,0],[-1.58092e-06,0],[-1.58092e-06,0],[-1.48649e-06,0],[-1.48649e-06,0],[-1.48649e-06,0],[-1.48649e-06,105899],[-1.39206e-06,105899],[-1.39206e-06,0],[-1.39206e-06,0],[-1.39206e-06,0],[-1.29763e-06,0],[-1.29763e-06,0],[-1.29763e-06,0],[-1.29763e-06,0],[-1.2032e-06,0],[-1.2032e-06,0],[-1.2032e-06,0],[-1.2032e-06,0],[-1.10877e-06,0],[-1.10877e-06,0],[-1.10877e-06,0],[-1.10877e-06,0],[-1.01434e-06,0],[-1.01434e-06,0],[-1.01434e-06,0],[-1.01434e-06,0],[-9.19913e-07,0],[-9.19913e-07,0],[-9.19913e-07,0],[-9.19913e-07,0],[-8.25483e-07,0],[-8.25483e-07,0],[-8.25483e-07,0],[-8.25483e-07,105899],[-7.31054e-07,105899],[-7.31054e-07,0],[-7.31054e-07,0],[-7.31054e-07,0],[-6.36625e-07,0],[-6.36625e-07,0],[-6.36625e-07,0],[-6.36625e-07,0],[-5.42196e-07,0],[-5.42196e-07,0],[-5.42196e-07,0],[-5.42196e-07,211799],[-4.47767e-07,211799],[-4.47767e-07,0],[-4.47767e-07,0],[-4.47767e-07,211799],[-3.53337e-07,211799],[-3.53337e-07,0],[-3.53337e-07,0],[-3.53337e-07,211799],[-2.58908e-07,211799],[-2.58908e-07,0],[-2.58908e-07,0],[-2.58908e-07,0],[-1.64479e-07,0],[-1.64479e-07,0],[-1.64479e-07,0],[-1.64479e-07,1.27079e+06],[-7.00498e-08,1.27079e+06],[-7.00498e-08,0],[-7.00498e-08,0],[-7.00498e-08,3.38878e+06],[2.43794e-08,3.38878e+06],[2.43794e-08,0],[2.43794e-08,0],[2.43794e-08,2.54159e+06],[1.18809e-07,2.54159e+06],[1.18809e-07,0],[1.18809e-07,0],[1.18809e-07,1.05899e+06],[2.13238e-07,1.05899e+06],[2.13238e-07,0],[2.13238e-07,0],[2.13238e-07,211799],[3.07667e-07,211799],[3.07667e-07,0],[3.07667e-07,0],[3.07667e-07,317698],[4.02096e-07,317698],[4.02096e-07,0],[4.02096e-07,0],[4.02096e-07,211799],[4.96525e-07,211799],[4.96525e-07,0],[4.96525e-07,0],[4.96525e-07,211799],[5.90955e-07,211799],[5.90955e-07,0],[5.90955e-07,0],[5.90955e-07,105899],[6.85384e-07,105899],[6.85384e-07,0],[6.85384e-07,0],[6.85384e-07,105899],[7.79813e-07,105899],[7.79813e-07,0],[7.79813e-07,0],[7.79813e-07,0],[8.74242e-07,0],[8.74242e-07,0],[8.74242e-07,0],[8.74242e-07,105899],[9.68671e-07,105899],[9.68671e-07,0],[9.68671e-07,0],[9.68671e-07,105899],[1.0631e-06,105899],[1.0631e-06,0],[1.0631e-06,0],[1.11032e-06,0]] color=red fillStyle=solid lineStyle=solid pointStyle=none lineWidth=2]"
      ]
     },
     "execution_count": 27,
     "metadata": {},
     "output_type": "execute_result"
    }
   ],
   "source": [
    "r = val.getResidualSample()\n",
    "ot.HistogramFactory().build(r).drawPDF()"
   ]
  },
  {
   "cell_type": "markdown",
   "metadata": {},
   "source": [
    "On observe que les deux graphiques sont identiques : les deux méthodes sont strictement équivalentes."
   ]
  },
  {
   "cell_type": "markdown",
   "metadata": {},
   "source": [
    "### Exercice 4\n",
    "\n",
    "**Questions**\n",
    "* Créer le processus qui modélise l'incertitude sur $y$ (classe ConditionedGaussianProcess) sur un maillage d'une seule maille.\n",
    "* A quoi peuvent servir les instructions suivantes ? Les tester.\n",
    "\n",
    "```\n",
    "# LHS design\n",
    "############\n",
    "\n",
    "K = 25 # design size\n",
    "bounds = algo.getOptimizationBounds()\n",
    "lbounds = bounds.getLowerBound()\n",
    "ubounds = bounds.getUpperBound()\n",
    "distributions = ot.DistributionCollection()\n",
    "for i in range(d):\n",
    "    distributions.add(ot.Uniform(lbounds[i], ubounds[i]))\n",
    "\n",
    "def _exec(point):\n",
    "    return [distributions[i].computeQuantile(point[i])[0] for i in range(d)]\n",
    "\n",
    "transform = ot.PythonFunction(d, d, _exec)\n",
    "LHS = ot.LHSExperiment(ot.ComposedDistribution([ot.Uniform(0.0, 1.0)]*d), K)\n",
    "LHS.setAlwaysShuffle(True)\n",
    "SA_profile = ot.GeometricProfile(10., 0.95, 20000)\n",
    "LHS_optimization_algo = ot.SimulatedAnnealingLHS(LHS, SA_profile, ot.SpaceFillingC2())\n",
    "LHS_optimization_algo.generate()\n",
    "LHS_design = LHS_optimization_algo.getResult()\n",
    "LHS_design = LHS_design.getOptimalDesign()\n",
    "starting_points = transform(LHS_design)\n",
    "\n",
    "# Change of the kriging algorithm\n",
    "multiStartSolver = ot.MultiStart(solver, starting_points)\n",
    "algo.setOptimizationAlgorithm(multiStartSolver)\n",
    "algo.run()\n",
    "```"
   ]
  },
  {
   "cell_type": "markdown",
   "metadata": {},
   "source": [
    "### Solution de l'exercice 4"
   ]
  },
  {
   "cell_type": "code",
   "execution_count": 28,
   "metadata": {},
   "outputs": [],
   "source": [
    "q5 = [E.computeQuantile(0.05)[0], F.computeQuantile(0.05)[0], L.computeQuantile(0.05)[0], I.computeQuantile(0.05)[0]]\n",
    "q95 = [E.computeQuantile(0.95)[0], F.computeQuantile(0.95)[0], L.computeQuantile(0.95)[0], I.computeQuantile(0.95)[0]]\n",
    "vertices = [q5, [q5[0], q5[1], q5[2], q95[3]], [q5[0], q5[1], q95[2], q95[3]], [q5[0], q95[1], q95[2], q95[3]] ,q95]\n",
    "simplices = [[0, 1, 2, 3, 4]]\n",
    "mesh = ot.Mesh(vertices, simplices)\n",
    "conditionedGP = ot.ConditionedGaussianProcess(result, mesh)"
   ]
  },
  {
   "cell_type": "markdown",
   "metadata": {},
   "source": [
    "Le processsu obtenu peut être utilisé pour simuler un grand nombre de trajectoires possibles, par exemple."
   ]
  },
  {
   "cell_type": "markdown",
   "metadata": {},
   "source": [
    "2e question : les lignes proposées permettent de tester la robustesse de l'optimisation de la vraisemblance lors de l'estimation des paramètres de la fonction de covariance. L'idée est de lancer l'algorithme d'optimisation, dont le déroulement dépend du point choisi pour initier l'optimisation, à partir de différents points, aussi bien répartis que possible (utilisation d'un LHS optimisé)."
   ]
  },
  {
   "cell_type": "code",
   "execution_count": 29,
   "metadata": {},
   "outputs": [],
   "source": [
    "solver = algo.getOptimizationAlgorithm()\n",
    "\n",
    "# LHS design\n",
    "K = 25 # design size\n",
    "bounds = algo.getOptimizationBounds()\n",
    "lbounds = bounds.getLowerBound()\n",
    "ubounds = bounds.getUpperBound()\n",
    "distributions = ot.DistributionCollection()\n",
    "for i in range(dim):\n",
    "    distributions.add(ot.Uniform(lbounds[i], ubounds[i]))\n",
    "\n",
    "def _exec(point):\n",
    "    return [distributions[i].computeQuantile(point[i])[0] for i in range(dim)]\n",
    "\n",
    "transform = ot.PythonFunction(dim, dim, _exec)\n",
    "LHS = ot.LHSExperiment(ot.ComposedDistribution([ot.Uniform(0.0, 1.0)]*dim), K)\n",
    "LHS.setAlwaysShuffle(True)\n",
    "SA_profile = ot.GeometricProfile(10., 0.95, 20000)\n",
    "LHS_optimization_algo = ot.SimulatedAnnealingLHS(LHS, SA_profile, ot.SpaceFillingC2())\n",
    "LHS_optimization_algo.generate()\n",
    "LHS_design = LHS_optimization_algo.getResult()\n",
    "LHS_design = LHS_design.getOptimalDesign()\n",
    "starting_points = transform(LHS_design)\n",
    "\n",
    "# Change of the kriging algorithm\n",
    "solver.setMaximumIterationNumber(10000)\n",
    "multiStartSolver = ot.MultiStart(solver, starting_points)\n",
    "algo.setOptimizationAlgorithm(multiStartSolver)\n",
    "algo.run()"
   ]
  },
  {
   "cell_type": "code",
   "execution_count": 30,
   "metadata": {},
   "outputs": [
    {
     "name": "stdout",
     "output_type": "stream",
     "text": [
      "[1.82942,2.13637,5.97875,5.29203]\n",
      "[1.82964,2.13638,5.97875,5.29202]\n"
     ]
    }
   ],
   "source": [
    "print(result.getCovarianceModel().getParameter())\n",
    "new_result = algo.getResult()\n",
    "print(new_result.getCovarianceModel().getParameter())"
   ]
  },
  {
   "cell_type": "markdown",
   "metadata": {},
   "source": [
    "On observe que l'optimisation, donc le résultat du krigeage, est sensible au point initial."
   ]
  }
 ],
 "metadata": {
  "kernelspec": {
   "display_name": "Python 3",
   "language": "python",
   "name": "python3"
  },
  "language_info": {
   "codemirror_mode": {
    "name": "ipython",
    "version": 2
   },
   "file_extension": ".py",
   "mimetype": "text/x-python",
   "name": "python",
   "nbconvert_exporter": "python",
   "pygments_lexer": "ipython2",
   "version": "2.7.17"
  }
 },
 "nbformat": 4,
 "nbformat_minor": 2
}
