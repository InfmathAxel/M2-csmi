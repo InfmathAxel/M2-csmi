{
 "cells": [
  {
   "cell_type": "markdown",
   "metadata": {},
   "source": [
    "# Polynômes multivariés : application au cas de la déviation verticale de la poutre encastrée"
   ]
  },
  {
   "cell_type": "markdown",
   "metadata": {},
   "source": [
    "## Références\n",
    "\n",
    "* http://openturns.github.io/openturns/master/theory/meta_modeling/chaos_basis.html\n",
    "* http://openturns.github.io/openturns/master/theory/meta_modeling/orthorgonal_polynomials.html\n",
    "* http://openturns.github.io/openturns/master/user_manual/_generated/openturns.LinearEnumerateFunction.html\n",
    "* http://openturns.github.io/openturns/master/user_manual/_generated/openturns.HyperbolicAnisotropicEnumerateFunction.html"
   ]
  },
  {
   "cell_type": "markdown",
   "metadata": {},
   "source": [
    "# Problème\n",
    "\n",
    "On considère une poutre encastrée de longueur $L$, section modulaire $I$ et modulus de Young $E$. Une des extrémités est fixe et on applique une charge ponctuelle $F$ à l'autre extrémité, ce qui provoque une déviation verticale $Y$.\n",
    "\n",
    "<img src=\"poutre.png\" width=\"200\">\n",
    "\n",
    "__Inputs__:  $\\left\\{ E, F, L, I \\right\\}$\n",
    "* $E$ : Young modulus (Pa)\n",
    "* $L$ : Length of beam (cm),\n",
    "* $I$ : Moment of inertia (cm^4),\n",
    "* $F$ : Loading (N)\n",
    "\n",
    "|Variable|  Distribution|\n",
    "| ------------- |-------------|\n",
    "|E|  Beta(r = 0.9, t = 3.5, a = $2.5\\times 10^7$, $b = 5\\times 10^7$) |\n",
    "|F| Lognormal($\\mu=3 \\times 10^4$, $\\sigma=9\\times 10^3$)|\n",
    "|L|Uniform(min=250.0, max= 260.0)|\n",
    "|I| Beta(r = 2.5, t = 4.0, a = 310, b = 450)|\n",
    "\n",
    "Les variables d'entrée sont supposées indépendantes."
   ]
  },
  {
   "cell_type": "markdown",
   "metadata": {},
   "source": [
    "## Définir des polyômes multivariés\n",
    "\n",
    "Dans cette partie, nous allons voir comment définir des polynômes multivariés à partir d'un vecteur aléatoire dont les marginales sont indépendantes. \n",
    "Pour commencer, nous devons définir les lois de distributions des variables aléatoires. "
   ]
  },
  {
   "cell_type": "code",
   "execution_count": 1,
   "metadata": {},
   "outputs": [],
   "source": [
    "import openturns as ot"
   ]
  },
  {
   "cell_type": "code",
   "execution_count": 2,
   "metadata": {},
   "outputs": [],
   "source": [
    "dist_E = ot.Beta(0.9, 2.2, 2.8e7, 4.8e7)\n",
    "F_para = ot.LogNormalMuSigma(3.0e4, 9.0e3, 15.0e3) # in N\n",
    "dist_F = ot.ParametrizedDistribution(F_para)\n",
    "dist_L = ot.Uniform(250., 260.) # in cm\n",
    "dist_I = ot.Beta(2.5, 1.5, 310.0, 450.0) # in cm^4"
   ]
  },
  {
   "cell_type": "markdown",
   "metadata": {},
   "source": [
    "La classe `OrthogonalProductPolynomialFactory` permet de définir une collection de polynômes univariés."
   ]
  },
  {
   "cell_type": "code",
   "execution_count": 3,
   "metadata": {},
   "outputs": [],
   "source": [
    "multivariateBasis = ot.OrthogonalProductPolynomialFactory([dist_E, dist_F, dist_L, dist_I])"
   ]
  },
  {
   "cell_type": "markdown",
   "metadata": {},
   "source": [
    "La méthode `getEnumerateFunction` permet d'obtenir la règle d'énumération des polynômes multivariés. Par défaut, c'est la règle linéaire qui est utilisée."
   ]
  },
  {
   "cell_type": "code",
   "execution_count": 4,
   "metadata": {
    "scrolled": true
   },
   "outputs": [
    {
     "data": {
      "text/html": [
       "<p>class=LinearEnumerateFunction dimension=4</p>"
      ],
      "text/plain": [
       "class=LinearEnumerateFunction dimension=4"
      ]
     },
     "execution_count": 4,
     "metadata": {},
     "output_type": "execute_result"
    }
   ],
   "source": [
    "enumfunc = multivariateBasis.getEnumerateFunction()\n",
    "enumfunc"
   ]
  },
  {
   "cell_type": "markdown",
   "metadata": {},
   "source": [
    "La méthode `getStrataCumulatedCardinal` permet d'obtenir le nombre de multi-indices de degré total inférieur ou égal au degré donné."
   ]
  },
  {
   "cell_type": "code",
   "execution_count": 5,
   "metadata": {},
   "outputs": [
    {
     "data": {
      "text/plain": [
       "35"
      ]
     },
     "execution_count": 5,
     "metadata": {},
     "output_type": "execute_result"
    }
   ],
   "source": [
    "totalDegree = 3\n",
    "P = enumfunc.getStrataCumulatedCardinal(totalDegree)\n",
    "P"
   ]
  },
  {
   "cell_type": "markdown",
   "metadata": {},
   "source": [
    "Dans la boucle suivante, on fait une boucle sur tous les polynômes de degré total inférieur ou égal à 3. Pour chaque polynôme, on évalue la règle d'énumération pour obtenir le multi-indice associé. "
   ]
  },
  {
   "cell_type": "code",
   "execution_count": 6,
   "metadata": {
    "scrolled": true
   },
   "outputs": [
    {
     "name": "stdout",
     "output_type": "stream",
     "text": [
      "#  Degree  Multiindex\n",
      "#0 0       [0,0,0,0]\n",
      "#1 1       [1,0,0,0]\n",
      "#2 1       [0,1,0,0]\n",
      "#3 1       [0,0,1,0]\n",
      "#4 1       [0,0,0,1]\n",
      "#5 2       [2,0,0,0]\n",
      "#6 2       [1,1,0,0]\n",
      "#7 2       [1,0,1,0]\n",
      "#8 2       [1,0,0,1]\n",
      "#9 2       [0,2,0,0]\n",
      "#10 2       [0,1,1,0]\n",
      "#11 2       [0,1,0,1]\n",
      "#12 2       [0,0,2,0]\n",
      "#13 2       [0,0,1,1]\n",
      "#14 2       [0,0,0,2]\n",
      "#15 3       [3,0,0,0]\n",
      "#16 3       [2,1,0,0]\n",
      "#17 3       [2,0,1,0]\n",
      "#18 3       [2,0,0,1]\n",
      "#19 3       [1,2,0,0]\n",
      "#20 3       [1,1,1,0]\n",
      "#21 3       [1,1,0,1]\n",
      "#22 3       [1,0,2,0]\n",
      "#23 3       [1,0,1,1]\n",
      "#24 3       [1,0,0,2]\n",
      "#25 3       [0,3,0,0]\n",
      "#26 3       [0,2,1,0]\n",
      "#27 3       [0,2,0,1]\n",
      "#28 3       [0,1,2,0]\n",
      "#29 3       [0,1,1,1]\n",
      "#30 3       [0,1,0,2]\n",
      "#31 3       [0,0,3,0]\n",
      "#32 3       [0,0,2,1]\n",
      "#33 3       [0,0,1,2]\n",
      "#34 3       [0,0,0,3]\n"
     ]
    }
   ],
   "source": [
    "print('#  Degree  Multiindex')\n",
    "for i in range(P):\n",
    "    multiindex = enumfunc(i)\n",
    "    degree = sum(multiindex)\n",
    "    print(\"#%d %s %15s\" % (i,degree,multiindex))"
   ]
  },
  {
   "cell_type": "markdown",
   "metadata": {},
   "source": [
    "## Exercices"
   ]
  },
  {
   "cell_type": "markdown",
   "metadata": {},
   "source": [
    "## Exercice 1 : règle d'énumération linéaire\n",
    "\n",
    "On considère l'exemple de la poutre $(E,F,L,I)$. On note $\\pi^E_j$, $\\pi^F_j$, $\\pi^L_j$ et $\\pi^I_j$ la famille de polynôme univariés associés. Pour la base multivariée `multivariateBasis` définie précédemment, on considère la règle d'énumération par défaut. On se concentre ici sur le 52-ème multi-indice.\n",
    "\n",
    "* Utiliser la fonction `enumfunc` pour obtenir et afficher le multi-indice d'indice 52."
   ]
  },
  {
   "cell_type": "code",
   "execution_count": 10,
   "metadata": {},
   "outputs": [
    {
     "name": "stdout",
     "output_type": "stream",
     "text": [
      "[1,0,2,1]\n"
     ]
    }
   ],
   "source": [
    "X = enumfunc(52)\n"
   ]
  },
  {
   "cell_type": "markdown",
   "metadata": {},
   "source": [
    "* Décrire *en français* le lien entre ce multi-indice et les polynômes univariés associés : pour chaque composante de $\\alpha$, décrire le degré du polynôme univarié et la variable E, F, L ou I associée. Ecrire le polynôme multivarié $\\psi_\\alpha$ associé en fonction des polynômes univariés $\\pi^E_j$, $\\pi^F_j$, $\\pi^L_j$ et $\\pi^I_j$."
   ]
  },
  {
   "cell_type": "markdown",
   "metadata": {},
   "source": []
  },
  {
   "cell_type": "markdown",
   "metadata": {},
   "source": [
    "X = a*$\\pi^E_j$  x $b*\\pi^L_j²$ x $c*\\pi^I_j$.\n"
   ]
  },
  {
   "cell_type": "markdown",
   "metadata": {},
   "source": [
    "* Quel est le degré total de ce polynôme multivarié ?\n",
    "2"
   ]
  },
  {
   "cell_type": "code",
   "execution_count": null,
   "metadata": {},
   "outputs": [],
   "source": []
  },
  {
   "cell_type": "markdown",
   "metadata": {},
   "source": [
    "* Utiliser la méthode `build` de l'objet `multivariateBasis` pour calculer et afficher le polynôme $\\psi_\\alpha$ correspondant."
   ]
  },
  {
   "cell_type": "code",
   "execution_count": 13,
   "metadata": {},
   "outputs": [
    {
     "data": {
      "text/html": [
       "(0.935347 + 2.23044 <span>&#215;</span> x0) <span>&#215;</span> (-1.11803 + 3.3541 <span>&#215;</span> x2<sup>2</sup>) <span>&#215;</span> (-0.57735 + 2.3094 <span>&#215;</span> x3)"
      ],
      "text/plain": [
       "class=Function name=Unnamed implementation=class=FunctionImplementation name=Unnamed description=[x0,x1,x2,x3,y0] evaluationImplementation=class=ProductPolynomialEvaluation, polynomials=[class=UniVariatePolynomial coefficients=class=Point name=Unnamed dimension=2 values=[0.935347,2.23044],class=UniVariatePolynomial coefficients=class=Point name=Unnamed dimension=1 values=[1],class=UniVariatePolynomial coefficients=class=Point name=Unnamed dimension=3 values=[-1.11803,0,3.3541],class=UniVariatePolynomial coefficients=class=Point name=Unnamed dimension=2 values=[-0.57735,2.3094]] gradientImplementation=class=ProductPolynomialGradient hessianImplementation=class=ProductPolynomialHessian"
      ]
     },
     "execution_count": 13,
     "metadata": {},
     "output_type": "execute_result"
    }
   ],
   "source": [
    "multivariateBasis.build(X)"
   ]
  },
  {
   "cell_type": "markdown",
   "metadata": {},
   "source": [
    "## Exercice 2 : règle d'énumération hyperbolique\n",
    "\n",
    "La règle d'énumération linéaire est associée à un ordre d'énumération des multi-indices tel que chaque les interactions d'ordre élevée entre les variables apparaissent souvent. Or, dans beaucoup de modèles physiques, les interactions entre variables sont moins importantes. \n",
    "\n",
    "La règle d'énumération hyperbolique permet de générer un ordre tel que les interactions sont moins fréquentes dans le modèle. Pour un paramètre $q\\in]0,1]$ donné et des poids $w\\in\\mathbf{R}^n$ donnés, la norme $\\|\\cdot\\|_{w,q}$ d'un multi-indice $\\alpha$ est définie par :\n",
    "$$\n",
    "\\|\\cdot\\|_{w,q} = \\left( \\sum_{i=1}^n w_i \\alpha_i^q \\right)^{\\frac{1}{q}}.\n",
    "$$\n",
    "\n",
    "* Utiliser la classe `HyperbolicAnisotropicEnumerateFunction` pour définir une règle hyperbolique de paramètre $q=0.5$ en dimension 4 avec les poids $w$ par défaut. "
   ]
  },
  {
   "cell_type": "code",
   "execution_count": 17,
   "metadata": {},
   "outputs": [],
   "source": [
    "haef = ot.HyperbolicAnisotropicEnumerateFunction(4,0.5)"
   ]
  },
  {
   "cell_type": "markdown",
   "metadata": {},
   "source": [
    "* Afficher les 10 premiers multi-indices associés à cette règle."
   ]
  },
  {
   "cell_type": "code",
   "execution_count": 20,
   "metadata": {},
   "outputs": [
    {
     "name": "stdout",
     "output_type": "stream",
     "text": [
      "[0,0,0,0]\n",
      "[1,0,0,0]\n",
      "[0,1,0,0]\n",
      "[0,0,1,0]\n",
      "[0,0,0,1]\n",
      "[2,0,0,0]\n",
      "[0,2,0,0]\n",
      "[0,0,2,0]\n",
      "[0,0,0,2]\n",
      "[3,0,0,0]\n"
     ]
    }
   ],
   "source": [
    "for i in range(10):\n",
    "    print(haef(i))"
   ]
  },
  {
   "cell_type": "markdown",
   "metadata": {},
   "source": [
    "* Utiliser la méthode `getWeight` pour récupérer le vecteur des poids."
   ]
  },
  {
   "cell_type": "code",
   "execution_count": 25,
   "metadata": {},
   "outputs": [
    {
     "name": "stdout",
     "output_type": "stream",
     "text": [
      "1.0\n",
      "1.0\n",
      "1.0\n",
      "1.0\n"
     ]
    }
   ],
   "source": [
    "w = haef.getWeight()\n",
    "for i in range(4): # range = dim haef\n",
    "    print(w[i])"
   ]
  },
  {
   "cell_type": "markdown",
   "metadata": {},
   "source": [
    "## Exercice 3 : utilisation d'une règle d'énumération\n",
    "\n",
    "Le second argument de la classe `OrthogonalProductPolynomialFactory` permet de spécifier une règle d'énumération choisie par l'utilisateur. Dans ce cas, le premier argument doit être une liste de polynômes orthogonaux univariés, ou, plus précisément, une instance de la classe `PolynomialFamilyCollection`. \n",
    "\n",
    "* Utiliser le script suivant pour définir une collection de polynômes orthogonaux univariés.\n",
    "```\n",
    "marginals = [dist_E, dist_F, dist_L, dist_I]\n",
    "stdPolyColl = [ot.StandardDistributionPolynomialFactory(m) for m in marginals]\n",
    "polyColl = ot.PolynomialFamilyCollection(stdPolyColl)\n",
    "```"
   ]
  },
  {
   "cell_type": "code",
   "execution_count": 26,
   "metadata": {},
   "outputs": [],
   "source": [
    "marginals = [dist_E, dist_F, dist_L, dist_I]\n",
    "stdPolyColl = [ot.StandardDistributionPolynomialFactory(m) for m in marginals]\n",
    "polyColl = ot.PolynomialFamilyCollection(stdPolyColl)"
   ]
  },
  {
   "cell_type": "markdown",
   "metadata": {},
   "source": [
    "* Utiliser l'instruction suivante pour définir la base orthogonale tensoriée associée à la règle d'énumération de votre choix.\n",
    "```\n",
    "multivariateBasis = ot.OrthogonalProductPolynomialFactory(polyColl, enumfunc)\n",
    "```"
   ]
  },
  {
   "cell_type": "code",
   "execution_count": 27,
   "metadata": {},
   "outputs": [],
   "source": [
    "multivariateBasis = ot.OrthogonalProductPolynomialFactory(polyColl, enumfunc)"
   ]
  },
  {
   "cell_type": "markdown",
   "metadata": {},
   "source": [
    "* Utiliser la méthode `getNodesAndWeights` pour récupérer les noeuds et les poids de la quadrature de Gauss tensorisée associée à ce polynôme orthogonal multivarié."
   ]
  },
  {
   "cell_type": "code",
   "execution_count": 35,
   "metadata": {},
   "outputs": [
    {
     "data": {
      "text/plain": [
       "[class=Sample name=Unnamed implementation=class=SampleImplementation name=Unnamed size=6 dimension=4 data=[[-0.732453,9700.89,-0,0.25],[0.222649,9700.89,-0,0.25],[-0.732453,27744,-0,0.25],[0.222649,27744,-0,0.25],[-0.732453,79346.1,-0,0.25],[0.222649,79346.1,-0,0.25]],\n",
       " class=Point name=Unnamed dimension=6 values=[0.481973,0.235053,0.187692,0.0915351,0.00251907,0.00122852]]"
      ]
     },
     "execution_count": 35,
     "metadata": {},
     "output_type": "execute_result"
    }
   ],
   "source": [
    "nodes_weight = multivariateBasis.getNodesAndWeights([2, 3, 1,1])\n",
    "nodes_weight"
   ]
  },
  {
   "cell_type": "markdown",
   "metadata": {},
   "source": [
    "## Exercice 4 : nombre de polynômes avec la règle d'énumération linéaire\n",
    "\n",
    "Avec la règle d'énumération linéaire par défaut, on souhaite créer un graphique qui représente le nombre de polynômes $P$ en fonction du degré total `p`. \n",
    "* Créer une boucle `for` sur le degré total `p` entre 1 et 15. "
   ]
  },
  {
   "cell_type": "code",
   "execution_count": null,
   "metadata": {},
   "outputs": [],
   "source": []
  },
  {
   "cell_type": "code",
   "execution_count": null,
   "metadata": {},
   "outputs": [],
   "source": []
  },
  {
   "cell_type": "markdown",
   "metadata": {},
   "source": [
    "* Pour chaque valeur de `p`, utiliser la méthode `getStrataCumulatedCardinal` de la fonction d'énumération pour obtenir le nombre de polynômes de degré inférieur ou égal à `p`."
   ]
  },
  {
   "cell_type": "code",
   "execution_count": null,
   "metadata": {},
   "outputs": [],
   "source": []
  },
  {
   "cell_type": "markdown",
   "metadata": {},
   "source": [
    "* Créer un graphique représentant le nombre de coefficients en fonction du degré total."
   ]
  },
  {
   "cell_type": "code",
   "execution_count": null,
   "metadata": {},
   "outputs": [],
   "source": []
  },
  {
   "cell_type": "markdown",
   "metadata": {},
   "source": [
    "## Exercice 5 : utilisation d'une règle d'énumération hyperbolique\n",
    "\n",
    "Le schéma d'énumération hyperbolique réduit le nombre de polynômes candidats pour un degré donné.\n",
    "\n",
    "* Utilisez la classe `HyperbolicAnisotropicEnumerateFunction` avec les paramètres suivants :\n",
    "  - hyperbolic parameter $q=0.6$\n",
    "  - highest polynomial degree $p=5$\n",
    "\n",
    "Pour trouver la solution, vous pouvez utiliser le modèle suivant, où vous devez remplacer les sections `TODO` par du code Python valide.\n",
    "\n",
    "```\n",
    "dim_input = 4\n",
    "polyColl = ot.PolynomialFamilyCollection(dim_input)\n",
    "polyColl[0] = ot.StandardDistributionPolynomialFactory(TODO)\n",
    "polyColl[1] = ot.StandardDistributionPolynomialFactory(TODO) \n",
    "polyColl[2] = ot.StandardDistributionPolynomialFactory(TODO)\n",
    "polyColl[3] = ot.StandardDistributionPolynomialFactory(TODO)\n",
    "q = 0.6\n",
    "enumerateFunction = ot.HyperbolicAnisotropicEnumerateFunction(dim_input, q)\n",
    "multivariateBasis = ot.OrthogonalProductPolynomialFactory(polyColl, enumerateFunction)\n",
    "```"
   ]
  },
  {
   "cell_type": "code",
   "execution_count": null,
   "metadata": {},
   "outputs": [],
   "source": []
  },
  {
   "cell_type": "markdown",
   "metadata": {},
   "source": [
    "* Comparez le nombre de polynômes candidats à l'aide du schéma d'énumération hyperbolique et linéaire. "
   ]
  },
  {
   "cell_type": "code",
   "execution_count": null,
   "metadata": {},
   "outputs": [],
   "source": []
  },
  {
   "cell_type": "markdown",
   "metadata": {},
   "source": [
    "* Affichez le degré de polynômes. "
   ]
  },
  {
   "cell_type": "code",
   "execution_count": null,
   "metadata": {},
   "outputs": [],
   "source": []
  },
  {
   "cell_type": "markdown",
   "metadata": {},
   "source": [
    "* Quels polynômes sont rejetés par le schéma hyperbolique ?"
   ]
  },
  {
   "cell_type": "code",
   "execution_count": null,
   "metadata": {},
   "outputs": [],
   "source": []
  },
  {
   "cell_type": "code",
   "execution_count": null,
   "metadata": {},
   "outputs": [],
   "source": []
  },
  {
   "cell_type": "markdown",
   "metadata": {},
   "source": [
    "* La fonction suivante `printMultiIndices` utilise la fonction d'énumération donnée et affiche les multi-indices de degré inférieur à un degré donné."
   ]
  },
  {
   "cell_type": "code",
   "execution_count": 7,
   "metadata": {},
   "outputs": [],
   "source": [
    "def printMultiIndices(enumerateFunction,maximumDegree):\n",
    "    P = enumerateFunction.getStrataCumulatedCardinal(maximumDegree)\n",
    "    print('Number of coefficients with degree lower than %s is %s'%(maximumDegree,P) )\n",
    "\n",
    "    print('Total degree' + '     ' + 'Multi-index')\n",
    "    for i in range(P):\n",
    "        index = enumerateFunction(i)\n",
    "        degree = sum(index)\n",
    "        print(\"#%d %4d %18s\" % (i,degree,index))\n",
    "    return"
   ]
  },
  {
   "cell_type": "markdown",
   "metadata": {},
   "source": [
    "Utilisez la fonction `printMultiIndices` pour afficher les multi-indices de degré inférieur à 5."
   ]
  },
  {
   "cell_type": "code",
   "execution_count": null,
   "metadata": {},
   "outputs": [],
   "source": []
  },
  {
   "cell_type": "markdown",
   "metadata": {},
   "source": [
    "* Pour une fonction d'énumération donnée, la méthode `getStrataCumulatedCardinal(maximumDegree)` retourne le nombre de coefficients de degré inférieur à `maximumDegree`. Fixez `maximumDegree` à 5 et considérez la liste suivante de paramètres de quasi-norme :\n",
    "```\n",
    "q_list = [0.1, 0.3, 0.6, 0.9, 1.0]\n",
    "```\n",
    "Pour chaque valeur de ce paramètre de quasi-norme, affichez le nombre de coefficients associés au schéma d'énumération hyperbolique. Qu'observez-vous ?"
   ]
  },
  {
   "cell_type": "code",
   "execution_count": null,
   "metadata": {},
   "outputs": [],
   "source": []
  },
  {
   "cell_type": "markdown",
   "metadata": {},
   "source": [
    "* Fixez le paramètre de quasi-norme `q=0.6`. Considérez les degrés maximaux allant de 1 à 10. Pour chaque valeur de degré maximal, comparez le nombre de coefficients associés aux fonctions d'énumération linéaire et hyperbolique. Qu'observez-vous ?"
   ]
  },
  {
   "cell_type": "code",
   "execution_count": null,
   "metadata": {},
   "outputs": [],
   "source": []
  },
  {
   "cell_type": "markdown",
   "metadata": {},
   "source": [
    "## Exercice 6 : graphique des indices linéaires, hyperboliques et norme infinie\n",
    "\n",
    "L'objectif de cet exercice est de représenter les multi-indices associés à différentes règles d'énumération. \n",
    "\n",
    "La fonction `plotMultiindices` suivante dessine les multi-indices en dimension 2 associés à une règle d'énumération. Elle représente les multi-indices de 0 à l'indice `numberOfIndices` donné en argument, en annotant chaque multi-indice par son indice d'énumération."
   ]
  },
  {
   "cell_type": "code",
   "execution_count": 8,
   "metadata": {},
   "outputs": [],
   "source": [
    "def plotMultiindices(enumerateFunction,numberOfIndices,title):\n",
    "    '''\n",
    "    Plots 2-dimensionnal multiindices from an 2D enumerate function up to the \n",
    "    indice numberOfIndices. \n",
    "    Makes a graphics with given title.\n",
    "    '''\n",
    "    sample = ot.Sample(numberOfIndices,2)\n",
    "    labellist = []\n",
    "    for i in range(numberOfIndices):\n",
    "        multiindice = enumfunc(i)\n",
    "        sample[i] = multiindice\n",
    "        labellist.append(str(i))\n",
    "    graph = ot.Graph(title,\"Indice 1\",\"Indice 2\",True,\"topright\")\n",
    "    cloud = ot.Cloud(sample)\n",
    "    graph.add(cloud)\n",
    "    text = ot.Text(sample,labellist)\n",
    "    text.setColor(\"red\")\n",
    "    graph.add(text)\n",
    "    return graph"
   ]
  },
  {
   "cell_type": "markdown",
   "metadata": {},
   "source": [
    "* Créer une `LinearEnumerateFunction` en dimension 2 et utiliser la fonction `plotMultiindices` pour représenter les 10 premiers multi-indices. Qu'observez-vous ?"
   ]
  },
  {
   "cell_type": "code",
   "execution_count": null,
   "metadata": {},
   "outputs": [],
   "source": []
  },
  {
   "cell_type": "markdown",
   "metadata": {},
   "source": [
    "* Créer une `HyperbolicAnisotropicEnumerateFunction` en dimension 2 avec le paramètre de quasi-norme `q=0.6` et utiliser la fonction `plotMultiindices` pour représenter les 10 premiers multi-indices. Qu'observez-vous ?"
   ]
  },
  {
   "cell_type": "code",
   "execution_count": null,
   "metadata": {},
   "outputs": [],
   "source": []
  },
  {
   "cell_type": "markdown",
   "metadata": {},
   "source": [
    "* Créer une `HyperbolicAnisotropicEnumerateFunction` en dimension 2 avec le paramètre de quasi-norme `q=1` et utiliser la fonction `plotMultiindices` pour représenter les 10 premiers multi-indices. Qu'observez-vous ?"
   ]
  },
  {
   "cell_type": "code",
   "execution_count": null,
   "metadata": {},
   "outputs": [],
   "source": []
  },
  {
   "cell_type": "markdown",
   "metadata": {},
   "source": [
    "* Créer une `NormInfEnumerateFunction` en dimension 2 et utiliser la fonction `plotMultiindices` pour représenter les 10 premiers multi-indices. Qu'observez-vous ?"
   ]
  },
  {
   "cell_type": "code",
   "execution_count": null,
   "metadata": {},
   "outputs": [],
   "source": []
  }
 ],
 "metadata": {
  "kernelspec": {
   "display_name": "Python 3",
   "language": "python",
   "name": "python3"
  },
  "language_info": {
   "codemirror_mode": {
    "name": "ipython",
    "version": 3
   },
   "file_extension": ".py",
   "mimetype": "text/x-python",
   "name": "python",
   "nbconvert_exporter": "python",
   "pygments_lexer": "ipython3",
   "version": "3.11.2"
  }
 },
 "nbformat": 4,
 "nbformat_minor": 1
}
