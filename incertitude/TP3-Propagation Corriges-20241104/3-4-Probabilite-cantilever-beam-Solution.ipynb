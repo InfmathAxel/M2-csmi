{
 "cells": [
  {
   "cell_type": "markdown",
   "metadata": {},
   "source": [
    "# Estimer une probabilité de dépassement de seuil - Application au cas de la poutre en flexion\n"
   ]
  },
  {
   "cell_type": "markdown",
   "metadata": {},
   "source": [
    "## Déviation  verticale d'une poutre encastrée\n",
    "\n",
    "On considère une poutre encastrée de longueur $L$ et de section $I$. La poutre est définie par son module de Young $E$. Une extrémité est encastrée et on applique une charge ponctuelle $F$ à l'autre extrémité de la poutre, ce qui provoque une déviation verticale $Y$.\n",
    "\n",
    "<img src=\"poutre.png\" width=\"200\">\n",
    "\n",
    "__Inputs__:  $\\left\\{ E, F, L, I \\right\\}$\n",
    "* $E$ : Young modulus (Pa)\n",
    "* $F$ : Loading (N),\n",
    "* $L$ : Length of beam (cm),\n",
    "* $I$ : Moment of inertia (cm^4).\n",
    "\n",
    "|Variable|  Distribution|\n",
    "| ------------- |-------------|\n",
    "|E|  Beta(r = 0.9, t = 3.5, a = $2.5\\times 10^7$, $b = 5\\times 10^7$) |\n",
    "|F| Lognormal($\\mu_F=3 \\times 10^4$, $\\sigma_F=9\\times 10^3$, shift=$15\\times 10^3$)|\n",
    "|L|Uniform(min=250.0, max= 260.0)|\n",
    "|I| Beta(r = 2.5, t = 1.5, a = 310, b = 450)|\n",
    "\n",
    "Dans la table précedente $\\mu_F=E(F)$ et $\\sigma_F=\\sqrt{V(F)}$ sont les moyenne et l'écart-type de $F$.\n",
    "\n",
    "Les variables d'entrée sont indépendantes.\n",
    "\n",
    "__Output__:\n",
    "\n",
    "La déviation verticale à l'extrémité libre de la poutre est:\n",
    "$$\n",
    "Y  = \\dfrac{F\\, L^3}{3 \\, E \\, I}\n",
    "$$\n",
    "Une déviation de 30 cm ou plus est considérée comme problématique.\n",
    "$$\n",
    "Y \\geq 30 \\textrm{ (cm)}\n",
    "$$\n",
    "Avec un échantillon de Monte-Carlo de taille 7 120 000, on obtient:\n",
    "$$\n",
    "P(Y\\geq 30) = 0.005590.\n",
    "$$\n",
    "L'intervalle de confiance à 95% est \n",
    "$$\n",
    "P([0.005536,0.005645]\\ni P_f)=0.95.\n",
    "$$"
   ]
  },
  {
   "cell_type": "markdown",
   "metadata": {},
   "source": [
    "# Model definition"
   ]
  },
  {
   "cell_type": "code",
   "execution_count": 1,
   "metadata": {},
   "outputs": [],
   "source": [
    "import openturns as ot\n",
    "import numpy as np"
   ]
  },
  {
   "cell_type": "code",
   "execution_count": 2,
   "metadata": {},
   "outputs": [],
   "source": [
    "dist_E = ot.Beta(0.9, 3.1, 2.8e7, 4.8e7)\n",
    "dist_E.setDescription([\"E\"])\n",
    "F_para = ot.LogNormalMuSigma(3.0e4, 9.0e3, 15.0e3) # in N\n",
    "dist_F = ot.ParametrizedDistribution(F_para)\n",
    "dist_F.setDescription([\"F\"])\n",
    "dist_L = ot.Uniform(250., 260.) # in cm\n",
    "dist_L.setDescription([\"L\"])\n",
    "dist_I = ot.Beta(2.5, 1.5, 310., 450.) # in cm^4\n",
    "dist_I.setDescription([\"I\"])\n",
    "\n",
    "X = ot.ComposedDistribution([dist_E, dist_F, dist_L, dist_I])"
   ]
  },
  {
   "cell_type": "code",
   "execution_count": 3,
   "metadata": {},
   "outputs": [],
   "source": [
    "g = ot.SymbolicFunction( [\"E\",\"F\",\"L\",\"I\"],[\"F* L^3 /  (3 * E * I)\"])\n",
    "g.setOutputDescription([\"Y (cm)\"])"
   ]
  },
  {
   "cell_type": "markdown",
   "metadata": {},
   "source": [
    "Pour pouvoir exploiter au mieux les simulations, nous équipons la fonction d'un méchanisme d'historique."
   ]
  },
  {
   "cell_type": "code",
   "execution_count": 4,
   "metadata": {},
   "outputs": [],
   "source": [
    "g = ot.MemoizeFunction(g)"
   ]
  },
  {
   "cell_type": "markdown",
   "metadata": {},
   "source": [
    "Enfin, nous définissons le vecteur aléatoire de sortie."
   ]
  },
  {
   "cell_type": "code",
   "execution_count": 5,
   "metadata": {},
   "outputs": [],
   "source": [
    "XRV = ot.RandomVector(X)\n",
    "Y = ot.CompositeRandomVector(g, XRV)\n",
    "Y.setDescription(['Y (cm)'])"
   ]
  },
  {
   "cell_type": "markdown",
   "metadata": {},
   "source": [
    "## Par Monte-Carlo simple avec un budget fixé\n",
    "\n",
    "La manière la plus simple de faire une telle étude consiste à fixer le nombre de simulations à l'avance. En d'autres termes, on fixe $n$ et on génère un échantillon de la variable de sortie $Y$ de taille $n$. C'est la méthode \"traditionnelle\"."
   ]
  },
  {
   "cell_type": "code",
   "execution_count": 6,
   "metadata": {},
   "outputs": [],
   "source": [
    "n = 10000"
   ]
  },
  {
   "cell_type": "code",
   "execution_count": 7,
   "metadata": {},
   "outputs": [],
   "source": [
    "Ysample = Y.getSample(n)"
   ]
  },
  {
   "cell_type": "code",
   "execution_count": 8,
   "metadata": {
    "scrolled": false
   },
   "outputs": [
    {
     "data": {
      "image/png": "[encoded data removed]",
      "text/plain": [
       "class=Graph name=Y (cm) PDF implementation=class=GraphImplementation name=Y (cm) PDF title=Y (cm) PDF xTitle=Y (cm) yTitle=PDF axes=ON grid=ON legendposition=topright legendFontSize=1 drawables=[class=Drawable name=Unnamed implementation=class=Curve name=Unnamed derived from class=DrawableImplementation name=Unnamed legend= data=class=Sample name=Unnamed implementation=class=SampleImplementation name=Unnamed size=384 dimension=2 data=[[4.78239,0],[5.06719,0],[5.06719,0],[5.06719,0.000877795],[5.6368,0.000877795],[5.6368,0],[5.6368,0],[5.6368,0.00368674],[6.20641,0.00368674],[6.20641,0],[6.20641,0],[6.20641,0.00912907],[6.77602,0.00912907],[6.77602,0],[6.77602,0],[6.77602,0.0231738],[7.34563,0.0231738],[7.34563,0],[7.34563,0],[7.34563,0.0380963],[7.91524,0.0380963],[7.91524,0],[7.91524,0],[7.91524,0.0610945],[8.48485,0.0610945],[8.48485,0],[8.48485,0],[8.48485,0.093924],[9.05445,0.093924],[9.05445,0],[9.05445,0],[9.05445,0.107969],[9.62406,0.107969],[9.62406,0],[9.62406,0],[9.62406,0.115869],[10.1937,0.115869],[10.1937,0],[10.1937,0],[10.1937,0.132196],[10.7633,0.132196],[10.7633,0],[10.7633,0],[10.7633,0.132547],[11.3329,0.132547],[11.3329,0],[11.3329,0],[11.3329,0.112709],[11.9025,0.112709],[11.9025,0],[11.9025,0],[11.9025,0.115693],[12.4721,0.115693],[12.4721,0],[12.4721,0],[12.4721,0.0988397],[13.0417,0.0988397],[13.0417,0],[13.0417,0],[13.0417,0.0930463],[13.6113,0.0930463],[13.6113,0],[13.6113,0],[13.6113,0.0809327],[14.1809,0.0809327],[14.1809,0],[14.1809,0],[14.1809,0.0735592],[14.7505,0.0735592],[14.7505,0],[14.7505,0],[14.7505,0.0661857],[15.3202,0.0661857],[15.3202,0],[15.3202,0],[15.3202,0.0575833],[15.8898,0.0575833],[15.8898,0],[15.8898,0],[15.8898,0.0454698],[16.4594,0.0454698],[16.4594,0],[16.4594,0],[16.4594,0.0410808],[17.029,0.0410808],[17.029,0],[17.029,0],[17.029,0.0317762],[17.5986,0.0317762],[17.5986,0],[17.5986,0],[17.5986,0.0294939],[18.1682,0.0294939],[18.1682,0],[18.1682,0],[18.1682,0.0235249],[18.7378,0.0235249],[18.7378,0],[18.7378,0],[18.7378,0.0247538],[19.3074,0.0247538],[19.3074,0],[19.3074,0],[19.3074,0.0193115],[19.877,0.0193115],[19.877,0],[19.877,0],[19.877,0.0158003],[20.4466,0.0158003],[20.4466,0],[20.4466,0],[20.4466,0.0108847],[21.0162,0.0108847],[21.0162,0],[21.0162,0],[21.0162,0.0112358],[21.5859,0.0112358],[21.5859,0],[21.5859,0],[21.5859,0.0133425],[22.1555,0.0133425],[22.1555,0],[22.1555,0],[22.1555,0.0108847],[22.7251,0.0108847],[22.7251,0],[22.7251,0],[22.7251,0.00667124],[23.2947,0.00667124],[23.2947,0],[23.2947,0],[23.2947,0.00772459],[23.8643,0.00772459],[23.8643,0],[23.8643,0],[23.8643,0.00456453],[24.4339,0.00456453],[24.4339,0],[24.4339,0],[24.4339,0.00456453],[25.0035,0.00456453],[25.0035,0],[25.0035,0],[25.0035,0.00368674],[25.5731,0.00368674],[25.5731,0],[25.5731,0],[25.5731,0.00421342],[26.1427,0.00421342],[26.1427,0],[26.1427,0],[26.1427,0.00368674],[26.7123,0.00368674],[26.7123,0],[26.7123,0],[26.7123,0.0038623],[27.2819,0.0038623],[27.2819,0],[27.2819,0],[27.2819,0.00193115],[27.8516,0.00193115],[27.8516,0],[27.8516,0],[27.8516,0.00175559],[28.4212,0.00175559],[28.4212,0],[28.4212,0],[28.4212,0.00245783],[28.9908,0.00245783],[28.9908,0],[28.9908,0],[28.9908,0.00228227],[29.5604,0.00228227],[29.5604,0],[29.5604,0],[29.5604,0.00140447],[30.13,0.00140447],[30.13,0],[30.13,0],[30.13,0.000877795],[30.6996,0.000877795],[30.6996,0],[30.6996,0],[30.6996,0.00140447],[31.2692,0.00140447],[31.2692,0],[31.2692,0],[31.2692,0.000702236],[31.8388,0.000702236],[31.8388,0],[31.8388,0],[31.8388,0.00105335],[32.4084,0.00105335],[32.4084,0],[32.4084,0],[32.4084,0.000702236],[32.978,0.000702236],[32.978,0],[32.978,0],[32.978,0.000702236],[33.5477,0.000702236],[33.5477,0],[33.5477,0],[33.5477,0.000877795],[34.1173,0.000877795],[34.1173,0],[34.1173,0],[34.1173,0.00158003],[34.6869,0.00158003],[34.6869,0],[34.6869,0],[34.6869,0.000702236],[35.2565,0.000702236],[35.2565,0],[35.2565,0],[35.2565,0.000351118],[35.8261,0.000351118],[35.8261,0],[35.8261,0],[35.8261,0.000526677],[36.3957,0.000526677],[36.3957,0],[36.3957,0],[36.3957,0.000175559],[36.9653,0.000175559],[36.9653,0],[36.9653,0],[36.9653,0.000175559],[37.5349,0.000175559],[37.5349,0],[37.5349,0],[37.5349,0.000702236],[38.1045,0.000702236],[38.1045,0],[38.1045,0],[38.1045,0.000526677],[38.6741,0.000526677],[38.6741,0],[38.6741,0],[38.6741,0],[39.2437,0],[39.2437,0],[39.2437,0],[39.2437,0],[39.8134,0],[39.8134,0],[39.8134,0],[39.8134,0],[40.383,0],[40.383,0],[40.383,0],[40.383,0],[40.9526,0],[40.9526,0],[40.9526,0],[40.9526,0],[41.5222,0],[41.5222,0],[41.5222,0],[41.5222,0.000175559],[42.0918,0.000175559],[42.0918,0],[42.0918,0],[42.0918,0],[42.6614,0],[42.6614,0],[42.6614,0],[42.6614,0],[43.231,0],[43.231,0],[43.231,0],[43.231,0.000175559],[43.8006,0.000175559],[43.8006,0],[43.8006,0],[43.8006,0],[44.3702,0],[44.3702,0],[44.3702,0],[44.3702,0],[44.9398,0],[44.9398,0],[44.9398,0],[44.9398,0],[45.5094,0],[45.5094,0],[45.5094,0],[45.5094,0],[46.0791,0],[46.0791,0],[46.0791,0],[46.0791,0.000351118],[46.6487,0.000351118],[46.6487,0],[46.6487,0],[46.6487,0],[47.2183,0],[47.2183,0],[47.2183,0],[47.2183,0],[47.7879,0],[47.7879,0],[47.7879,0],[47.7879,0],[48.3575,0],[48.3575,0],[48.3575,0],[48.3575,0],[48.9271,0],[48.9271,0],[48.9271,0],[48.9271,0],[49.4967,0],[49.4967,0],[49.4967,0],[49.4967,0],[50.0663,0],[50.0663,0],[50.0663,0],[50.0663,0],[50.6359,0],[50.6359,0],[50.6359,0],[50.6359,0],[51.2055,0],[51.2055,0],[51.2055,0],[51.2055,0],[51.7751,0],[51.7751,0],[51.7751,0],[51.7751,0],[52.3448,0],[52.3448,0],[52.3448,0],[52.3448,0],[52.9144,0],[52.9144,0],[52.9144,0],[52.9144,0],[53.484,0],[53.484,0],[53.484,0],[53.484,0],[54.0536,0],[54.0536,0],[54.0536,0],[54.0536,0],[54.6232,0],[54.6232,0],[54.6232,0],[54.6232,0.000175559],[55.1928,0.000175559],[55.1928,0],[55.1928,0],[55.1928,0],[55.7624,0],[55.7624,0],[55.7624,0],[55.7624,0],[56.332,0],[56.332,0],[56.332,0],[56.332,0],[56.9016,0],[56.9016,0],[56.9016,0],[56.9016,0],[57.4712,0],[57.4712,0],[57.4712,0],[57.4712,0],[58.0408,0],[58.0408,0],[58.0408,0],[58.0408,0],[58.6105,0],[58.6105,0],[58.6105,0],[58.6105,0.000175559],[59.1801,0.000175559],[59.1801,0],[59.1801,0],[59.4649,0]] color=red fillStyle=solid lineStyle=solid pointStyle=none lineWidth=2]"
      ]
     },
     "execution_count": 8,
     "metadata": {},
     "output_type": "execute_result"
    }
   ],
   "source": [
    "graph = ot.HistogramFactory().build(Ysample).drawPDF()\n",
    "graph.setXTitle(\"Y (cm)\")\n",
    "graph.setLegends([\"\"])\n",
    "graph"
   ]
  },
  {
   "cell_type": "markdown",
   "metadata": {},
   "source": [
    "La probabilité recherchée peut être calculée en évaluant la fonction de répartition complémentaire de l'échantillon."
   ]
  },
  {
   "cell_type": "code",
   "execution_count": 9,
   "metadata": {},
   "outputs": [
    {
     "data": {
      "text/plain": [
       "0.0069"
      ]
     },
     "execution_count": 9,
     "metadata": {},
     "output_type": "execute_result"
    }
   ],
   "source": [
    "pf = Ysample.computeEmpiricalCDF([30.],True)\n",
    "pf"
   ]
  },
  {
   "cell_type": "code",
   "execution_count": 10,
   "metadata": {},
   "outputs": [],
   "source": [
    "alpha = 0.05"
   ]
  },
  {
   "cell_type": "code",
   "execution_count": 11,
   "metadata": {},
   "outputs": [
    {
     "data": {
      "text/plain": [
       "0.0008277916404506632"
      ]
     },
     "execution_count": 11,
     "metadata": {},
     "output_type": "execute_result"
    }
   ],
   "source": [
    "sigmapf = np.sqrt(pf*(1-pf)/n)\n",
    "sigmapf"
   ]
  },
  {
   "cell_type": "code",
   "execution_count": 12,
   "metadata": {},
   "outputs": [
    {
     "data": {
      "text/html": [
       "<p>Normal(mu = 0.0069, sigma = 0.000827792)</p>"
      ],
      "text/plain": [
       "class=Normal name=Normal dimension=1 mean=class=Point name=Unnamed dimension=1 values=[0.0069] sigma=class=Point name=Unnamed dimension=1 values=[0.000827792] correlationMatrix=class=CorrelationMatrix dimension=1 implementation=class=MatrixImplementation name=Unnamed rows=1 columns=1 values=[1]"
      ]
     },
     "execution_count": 12,
     "metadata": {},
     "output_type": "execute_result"
    }
   ],
   "source": [
    "pf_dist = ot.Normal(pf,sigmapf)\n",
    "pf_dist"
   ]
  },
  {
   "cell_type": "code",
   "execution_count": 13,
   "metadata": {},
   "outputs": [
    {
     "name": "stdout",
     "output_type": "stream",
     "text": [
      "95.00% confidence interval = [0.005278,0.008522]\n"
     ]
    }
   ],
   "source": [
    "bounds = pf_dist.computeBilateralConfidenceInterval(1-alpha)\n",
    "lb = bounds.getLowerBound()[0]\n",
    "up = bounds.getUpperBound()[0]\n",
    "print(\"%.2f%% confidence interval = [%f,%f]\" % ((1-alpha)*100,lb,up))"
   ]
  },
  {
   "cell_type": "code",
   "execution_count": 14,
   "metadata": {},
   "outputs": [
    {
     "data": {
      "image/png": "[encoded data removed]",
      "text/plain": [
       "class=Graph name=pdf as a function of X0 implementation=class=GraphImplementation name=pdf as a function of X0 title=Pf estimate xTitle=Pf estimate yTitle=PDF axes=ON grid=ON legendposition=topright legendFontSize=1 drawables=[class=Drawable name=Unnamed implementation=class=Curve name=Unnamed derived from class=DrawableImplementation name=Unnamed legend= data=class=Sample name=Unnamed implementation=class=SampleImplementation name=Unnamed size=129 dimension=2 data=[[0.00381138,0.457048],[0.00385964,0.567144],[0.0039079,0.701372],[0.00395616,0.864426],[0.00400442,1.06177],[0.00405268,1.29975],[0.00410094,1.58566],[0.00414919,1.9279],[0.00419745,2.33606],[0.00424571,2.82102],[0.00429397,3.3951],[0.00434223,4.07215],[0.00439049,4.86764],[0.00443875,5.79878],[0.00448701,6.88461],[0.00453527,8.14603],[0.00458353,9.60585],[0.00463179,11.2889],[0.00468005,13.2217],[0.00472831,15.433],[0.00477657,17.953],[0.00482483,20.8135],[0.00487309,24.048],[0.00492135,27.6909],[0.00496961,31.7774],[0.00501787,36.3433],[0.00506613,41.4242],[0.00511439,47.0551],[0.00516265,53.2702],[0.00521091,60.1015],[0.00525917,67.5788],[0.00530743,75.7285],[0.00535569,84.5731],[0.00540395,94.1302],[0.00545221,104.412],[0.00550047,115.423],[0.00554873,127.164],[0.00559699,139.622],[0.00564525,152.782],[0.00569351,166.614],[0.00574177,181.082],[0.00579003,196.139],[0.00583829,211.727],[0.00588655,227.778],[0.00593481,244.215],[0.00598306,260.949],[0.00603132,277.884],[0.00607958,294.913],[0.00612784,311.925],[0.0061761,328.798],[0.00622436,345.408],[0.00627262,361.626],[0.00632088,377.321],[0.00636914,392.361],[0.0064174,406.616],[0.00646566,419.96],[0.00651392,432.269],[0.00656218,443.43],[0.00661044,453.335],[0.0066587,461.889],[0.00670696,469.008],[0.00675522,474.621],[0.00680348,478.671],[0.00685174,481.117],[0.0069,481.936],[0.00694826,481.117],[0.00699652,478.671],[0.00704478,474.621],[0.00709304,469.008],[0.0071413,461.889],[0.00718956,453.335],[0.00723782,443.43],[0.00728608,432.269],[0.00733434,419.96],[0.0073826,406.616],[0.00743086,392.361],[0.00747912,377.321],[0.00752738,361.626],[0.00757564,345.408],[0.0076239,328.798],[0.00767216,311.925],[0.00772042,294.913],[0.00776868,277.884],[0.00781694,260.949],[0.00786519,244.215],[0.00791345,227.778],[0.00796171,211.727],[0.00800997,196.139],[0.00805823,181.082],[0.00810649,166.614],[0.00815475,152.782],[0.00820301,139.622],[0.00825127,127.164],[0.00829953,115.423],[0.00834779,104.412],[0.00839605,94.1302],[0.00844431,84.5731],[0.00849257,75.7285],[0.00854083,67.5788],[0.00858909,60.1015],[0.00863735,53.2702],[0.00868561,47.0551],[0.00873387,41.4242],[0.00878213,36.3433],[0.00883039,31.7774],[0.00887865,27.6909],[0.00892691,24.048],[0.00897517,20.8135],[0.00902343,17.953],[0.00907169,15.433],[0.00911995,13.2217],[0.00916821,11.2889],[0.00921647,9.60585],[0.00926473,8.14603],[0.00931299,6.88461],[0.00936125,5.79878],[0.00940951,4.86764],[0.00945777,4.07215],[0.00950603,3.3951],[0.00955429,2.82102],[0.00960255,2.33606],[0.00965081,1.9279],[0.00969906,1.58566],[0.00974732,1.29975],[0.00979558,1.06177],[0.00984384,0.864426],[0.0098921,0.701372],[0.00994036,0.567144],[0.00998862,0.457048]] color=red fillStyle=solid lineStyle=solid pointStyle=none lineWidth=2]"
      ]
     },
     "execution_count": 14,
     "metadata": {},
     "output_type": "execute_result"
    }
   ],
   "source": [
    "graph = pf_dist.drawPDF()\n",
    "graph.setXTitle(\"Pf estimate\")\n",
    "graph.setTitle(\"Pf estimate\")\n",
    "graph.setLegends([\"\"])\n",
    "graph"
   ]
  },
  {
   "cell_type": "markdown",
   "metadata": {},
   "source": [
    "## Par Monte-Carlo avec un algorithme itératif\n",
    "\n",
    "La classe `ProbabilitySimulationAlgorithm` permet de calculer une probabilité avec une précision fixée par l'utilisateur en utilisant la taille d'échantillon $n$ la plus petite possible."
   ]
  },
  {
   "cell_type": "code",
   "execution_count": 15,
   "metadata": {},
   "outputs": [],
   "source": [
    "myEvent = ot.ThresholdEvent(Y, ot.Greater(), 30.0)"
   ]
  },
  {
   "cell_type": "code",
   "execution_count": 16,
   "metadata": {},
   "outputs": [],
   "source": [
    "blocksize = 1000\n",
    "experiment = ot.MonteCarloExperiment()\n",
    "myAlgo = ot.ProbabilitySimulationAlgorithm(myEvent, experiment)\n",
    "myAlgo.setMaximumOuterSampling(10000)\n",
    "myAlgo.setBlockSize(blocksize)\n",
    "myAlgo.setMaximumCoefficientOfVariation(0.01)"
   ]
  },
  {
   "cell_type": "code",
   "execution_count": 17,
   "metadata": {},
   "outputs": [],
   "source": [
    "myAlgo.run()"
   ]
  },
  {
   "cell_type": "code",
   "execution_count": 18,
   "metadata": {},
   "outputs": [],
   "source": [
    "result = myAlgo.getResult()"
   ]
  },
  {
   "cell_type": "code",
   "execution_count": 19,
   "metadata": {},
   "outputs": [
    {
     "data": {
      "text/plain": [
       "1499"
      ]
     },
     "execution_count": 19,
     "metadata": {},
     "output_type": "execute_result"
    }
   ],
   "source": [
    "outersampling = result.getOuterSampling()\n",
    "outersampling"
   ]
  },
  {
   "cell_type": "code",
   "execution_count": 20,
   "metadata": {},
   "outputs": [
    {
     "data": {
      "text/plain": [
       "1499000"
      ]
     },
     "execution_count": 20,
     "metadata": {},
     "output_type": "execute_result"
    }
   ],
   "source": [
    "funccalls = blocksize * outersampling\n",
    "funccalls"
   ]
  },
  {
   "cell_type": "code",
   "execution_count": 21,
   "metadata": {},
   "outputs": [
    {
     "data": {
      "text/plain": [
       "0.006634422948632383"
      ]
     },
     "execution_count": 21,
     "metadata": {},
     "output_type": "execute_result"
    }
   ],
   "source": [
    "pf = result.getProbabilityEstimate()\n",
    "pf"
   ]
  },
  {
   "cell_type": "code",
   "execution_count": 22,
   "metadata": {},
   "outputs": [],
   "source": [
    "alpha = 0.05"
   ]
  },
  {
   "cell_type": "code",
   "execution_count": 23,
   "metadata": {
    "scrolled": true
   },
   "outputs": [
    {
     "name": "stdout",
     "output_type": "stream",
     "text": [
      "95.00% confidence interval = [0.006504,0.006764]\n"
     ]
    }
   ],
   "source": [
    "pflen = result.getConfidenceLength(1-alpha)\n",
    "print(\"%.2f%% confidence interval = [%f,%f]\" % ((1-alpha)*100,pf-pflen/2,pf+pflen/2))"
   ]
  },
  {
   "cell_type": "markdown",
   "metadata": {},
   "source": [
    "## Exercice 1 : sensibilité aux paramètres\n",
    " \n",
    " L'objectif de cet exercice est d'utiliser la classe `ProbabilitySimulationAlgorithm`, de comprendre ses paramètres et interpréter ses résutlats.\n",
    " - Créer une fonction `calculePF` qui prend en argument le seuil `threshold` et le coefficient de variation `coeffofvar`. Dans le corps de la fonction, utiliser la classe `ProbabilitySimulationAlgorithm` et calculer, puis afficher :\n",
    "   - la probabilité de dépassement de seuil $p_f$, \n",
    "   - l'intervalle de confiance à 95% et \n",
    "   - le nombre d'appels à la fonction $g$.\n",
    "   \n",
    "Pour vous aider, vous pouvez vous inspirer du squelette suivant, dans lequel vous remplacerez les sections *TODO* par du code Python valide.\n",
    "\n",
    "```\n",
    "def calculePF(threshold,coeffofvar):\n",
    "    print(\"Seuil = %f, C.V. = %f\" % (threshold,coeffofvar))\n",
    "    myEvent = ot.Event(TODO)\n",
    "    experiment = ot.MonteCarloExperiment()\n",
    "    myAlgo = ot.ProbabilitySimulationAlgorithm(TODO)\n",
    "    myAlgo.setMaximumOuterSampling(TODO)\n",
    "    myAlgo.setBlockSize(TODO)\n",
    "    myAlgo.setMaximumCoefficientOfVariation(TODO)\n",
    "    myAlgo.run()\n",
    "    result = TODO\n",
    "    pf = TODO\n",
    "    alpha = TODO\n",
    "    pflen = result.TODO\n",
    "    outersampling = result.TODO\n",
    "    funccalls = TODO\n",
    "    print(\"    Outersampling = %d, Nb. function G calls = %d\" % (outersampling,funccalls))\n",
    "    print(\"    Pf = %f\" % (pf))\n",
    "    print(\"    %.2f%% confidence interval = [%f,%f]\" % ((1-alpha)*100,pf-pflen/2,pf+pflen/2))\n",
    "    return None\n",
    "```\n",
    "\n",
    " - Pour les valeurs du seuil égales à 10, 20 et 30 cm et CV=0.01, utiliser la fonction fonction `calculePF`. Pour interpréter vos résultats, présentez-les dans une table. Qu'observez-vous ? Expliquer le sens physique du résultat. \n",
    " - On considère un seuil égal à s=30 cm. Configurer le coefficient de variation à 0.1, 0.05 et 0.01 et calculer le nombre d'appel à la fonction $g$. Pour interpréter vos résultats, présentez-les dans une table. Qu'observez-vous ? Expliquer pourquoi ce résultat est en lien avec le fonctionnement de l'algorithme."
   ]
  },
  {
   "cell_type": "markdown",
   "metadata": {},
   "source": [
    "## Solution de l'exercice 1 : sensibilité aux paramètres"
   ]
  },
  {
   "cell_type": "code",
   "execution_count": 28,
   "metadata": {},
   "outputs": [],
   "source": [
    "def calculePF(threshold,coeffofvar):\n",
    "    print(\"Seuil = %f, C.V. = %f\" % (threshold,coeffofvar))\n",
    "    myEvent = ot.ThresholdEvent(Y, ot.Greater(), threshold)\n",
    "    experiment = ot.MonteCarloExperiment()\n",
    "    myAlgo = ot.ProbabilitySimulationAlgorithm(myEvent, experiment)\n",
    "    myAlgo.setMaximumOuterSampling(10000)\n",
    "    blocksize = 1000\n",
    "    myAlgo.setBlockSize(blocksize)\n",
    "    myAlgo.setMaximumCoefficientOfVariation(coeffofvar)\n",
    "    myAlgo.run()\n",
    "    result = myAlgo.getResult()\n",
    "    pf = result.getProbabilityEstimate()\n",
    "    alpha = 0.05\n",
    "    pflen = result.getConfidenceLength(1-alpha)\n",
    "    outersampling = result.getOuterSampling()\n",
    "    funccalls = blocksize * outersampling\n",
    "    print(\"    Outersampling = %d, Nb. function G calls = %d\" % (outersampling,funccalls))\n",
    "    print(\"    Pf = %f\" % (pf))\n",
    "    print(\"    %.2f%% confidence interval = [%f,%f]\" % ((1-alpha)*100,pf-pflen/2,pf+pflen/2))\n",
    "    return None"
   ]
  },
  {
   "cell_type": "code",
   "execution_count": 29,
   "metadata": {},
   "outputs": [
    {
     "name": "stdout",
     "output_type": "stream",
     "text": [
      "Seuil = 10.000000, C.V. = 0.010000\n",
      "    Outersampling = 4, Nb. function G calls = 4000\n",
      "    Pf = 0.768000\n",
      "    95.00% confidence interval = [0.754912,0.781088]\n",
      "Seuil = 20.000000, C.V. = 0.010000\n",
      "    Outersampling = 138, Nb. function G calls = 138000\n",
      "    Pf = 0.067884\n",
      "    95.00% confidence interval = [0.066556,0.069212]\n",
      "Seuil = 30.000000, C.V. = 0.010000\n",
      "    Outersampling = 1480, Nb. function G calls = 1480000\n",
      "    Pf = 0.006720\n",
      "    95.00% confidence interval = [0.006588,0.006851]\n"
     ]
    }
   ],
   "source": [
    "calculePF(10,0.01)\n",
    "calculePF(20,0.01)\n",
    "calculePF(30,0.01)"
   ]
  },
  {
   "cell_type": "markdown",
   "metadata": {},
   "source": [
    "La table suivante présente les résultats que l'on obtient avec CV=0.01 et différentes valeurs du seuil $s$. \n",
    "\n",
    "| s (cm) | CV | $p_f$ | I.C. à 95% | Nb. appels à g |\n",
    "|---|---|---|---|---|\n",
    "| 10 (cm) | 0.01 | 0.717800 | [0.7053,0.7303] | 5000 |\n",
    "| 20 (cm) | 0.01 | 0.058210 | [0.05707,0.05935] | 162000 |\n",
    "| 30 (cm) | 0.01 | 0.005519 | [0.005411,0.005628] | 1804000 |\n",
    "\n",
    "On observe que, lorsque le seuil augmente, \n",
    "- la probabilité diminue, \n",
    "- le nombre d'appels à la fonction $g$ augmente.\n",
    "\n",
    "Le fait que la probabilité diminue lorsque le seuil augmente est cohérent avec la queue droite de la distribution de la déviation $Y$, avec de rares grandes déviations. \n",
    "\n",
    "Le fait que le nombre d'appels à $g$ augmente lorsque le seuil augmente est une conséquence de l'algorithme utilisé par `ProbabilitySimulationAlgorithm`, dans lequel nous avons fixé le coefficient de variation à 0.01. Ainsi, puisque la probabilité est de plus en plus proche de zéro, l'algorithme est contraint d'augmenter la taille de l'échantillon pour atteindre le coefficient de variation imposé."
   ]
  },
  {
   "cell_type": "code",
   "execution_count": 30,
   "metadata": {},
   "outputs": [
    {
     "name": "stdout",
     "output_type": "stream",
     "text": [
      "Seuil = 30.000000, C.V. = 0.100000\n",
      "    Outersampling = 15, Nb. function G calls = 15000\n",
      "    Pf = 0.006867\n",
      "    95.00% confidence interval = [0.005544,0.008189]\n",
      "Seuil = 30.000000, C.V. = 0.050000\n",
      "    Outersampling = 62, Nb. function G calls = 62000\n",
      "    Pf = 0.006516\n",
      "    95.00% confidence interval = [0.005882,0.007150]\n",
      "Seuil = 30.000000, C.V. = 0.010000\n",
      "    Outersampling = 1524, Nb. function G calls = 1524000\n",
      "    Pf = 0.006531\n",
      "    95.00% confidence interval = [0.006403,0.006659]\n"
     ]
    }
   ],
   "source": [
    "calculePF(30,0.1)\n",
    "calculePF(30,0.05)\n",
    "calculePF(30,0.01)"
   ]
  },
  {
   "cell_type": "markdown",
   "metadata": {},
   "source": [
    "La table suivante présente les résultats que l'on obtient avec s=30 et différentes valeurs du coefficient de variation. \n",
    "\n",
    "| s (cm) | CV | $p_f$ | I.C. à 95% | Nb. appels à g |\n",
    "|---|---|---|---|---|\n",
    "| 30 (cm) | 0.1 | 0.005632 | [0.004567,0.006696] | 19000 |\n",
    "| 30 (cm) | 0.05 | 0.005556 | [0.005012,0.006099] | 72000 |\n",
    "| 30 (cm) | 0.01 | 0.005657 | [0.005546,0.005768] | 1760000 |\n",
    "\n",
    "On observe que, lorsque le coefficient de variation diminue, le nombre d'appels à $g$ augmente considérablement. On observe également que la largeur de l'intervalle de confiance diminue. \n",
    "\n",
    "Cela est cohérent avec le résultat que nous avons présenté et qui montre que le nombre d'appels à $g$ dépend de l'inverse du carré de CV. C'est la raison pour laquelle, même si $CV=0.01$ semble un minimum acceptable, on se contente souvent de $CV=0.1$."
   ]
  },
  {
   "cell_type": "markdown",
   "metadata": {},
   "source": [
    "## Exercice 2 : probabilité en fonction du seuil\n",
    "\n",
    "L'objectif de cet exercice est d'observer l'évolution de la probabilité lorsque le seuil augmente. Pour cela, on utilise un échantillon de taille fixé. \n",
    "- Créer la variable `Ysample` contenant un échantillon de $Y$ de taille 100000. \n",
    "- Créer la variable `thresholdarray` contenant 10 valeurs de $s$ entre 20 et 50. \n",
    "- Pour chaque valeur de seuil $s$, calculer \n",
    "  - la probabilité de dépassement de seuil,\n",
    "  - la borne inférieure de l'intervalle de confiance,\n",
    "  - la borne supérieure de l'intervalle de confiance.\n",
    "\n",
    "Pour vous aider, vous pouvez vous inspirer du squelette suivante, dans lequel vous remplacerez les sections *TODO* par du code Python valide.\n",
    "\n",
    "```\n",
    "alpha = 0.05\n",
    "nbthresholds = 10\n",
    "thresholdarray = ot.Sample(np.linspace(20.,50.,nbthresholds),1)\n",
    "pfarray = ot.Sample(nbthresholds,1)\n",
    "lbarray = ot.Sample(nbthresholds,1)\n",
    "ubarray = ot.Sample(nbthresholds,1)\n",
    "for i in range(nbthresholds):\n",
    "    s = thresholdarray[i,0]\n",
    "    pf = TODO\n",
    "    pfarray[i,0] = pf\n",
    "    sigmapf = TODO\n",
    "    pf_dist = TODO\n",
    "    bounds = pf_dist.computeBilateralConfidenceInterval(1-alpha)\n",
    "    lbarray[i,0] = bounds.getLowerBound()[0]\n",
    "    ubarray[i,0] = bounds.getUpperBound()[0]\n",
    "    print(\"s=%f, pf=%f in [%f,%f]\" % (s,pf,lbarray[i,0],ubarray[i,0]))\n",
    "```\n",
    "\n",
    "- Créer un graphique réprésentant en abscisse le seuil $s$, et en ordonnée la probabilité de dépassement de seuil et ses bornes inférieures et supérieures.\n",
    "  - Utiliser les méthodes `graph` et `curve` pour afficher les courbes (la syntaxe `myGraph.add(myCurve)` permet de rajouter des courbes au graph).\n",
    "  - Utiliser la méthode `setLogScale` pour dessiner l'axe des ordonnées en échelle logarithmique.\n",
    "  - Qu'observez-vous ? Expliquer-le sur le plan physique et sur le plan probabiliste.\n",
    "- On s'intéresse au coefficient de variation :\n",
    "$$\n",
    "CV = \\frac{\\sigma_{p_f}}{p_f}\n",
    "$$\n",
    "si $p_f>0$ et son approximation :\n",
    "$$\n",
    "\\widetilde{CV} = \\frac{\\tilde{\\sigma}_{p_f}}{\\tilde{p_f}}\n",
    "$$\n",
    "si $\\tilde{p_f}>0$. \n",
    "Le coefficient de variation représente la précision relative d'estimation de la probabilité $p_f$. \n",
    "  - Pour chaque valeur de seuil $s$, calculer le coefficient de variation approché. Qu'observez-vous ? Pourquoi ?\n",
    "\n",
    "Pour vous aider, vous pouvez vous inspirer du squelette suivante, dans lequel vous remplacerez les sections *TODO* par du code Python valide.\n",
    "\n",
    "```\n",
    "for i in range(nbthresholds):\n",
    "    s = thresholdarray[i,0]\n",
    "    pf = TODO\n",
    "    pfarray[i,0] = pf\n",
    "    sigmapf = TODO\n",
    "    cv = TODO\n",
    "    print(\"s=%f, pf=%f, C.V.=%f\" % (s,pf,cv))\n",
    "```"
   ]
  },
  {
   "cell_type": "markdown",
   "metadata": {},
   "source": [
    "## Solution de l'exercice 2 : probabilité en fonction du seuil"
   ]
  },
  {
   "cell_type": "code",
   "execution_count": 31,
   "metadata": {},
   "outputs": [],
   "source": [
    "n = 100000\n",
    "Ysample = Y.getSample(n)"
   ]
  },
  {
   "cell_type": "code",
   "execution_count": 47,
   "metadata": {},
   "outputs": [
    {
     "data": {
      "text/html": [
       "<table>\n",
       "  <tr><td></td><th>v0</th></tr>\n",
       "  <tr><th>0</th><td>20</td></tr>\n",
       "  <tr><th>1</th><td>23.33333</td></tr>\n",
       "  <tr><th>2</th><td>26.66667</td></tr>\n",
       "  <tr><th>3</th><td>30</td></tr>\n",
       "  <tr><th>4</th><td>33.33333</td></tr>\n",
       "  <tr><th>5</th><td>36.66667</td></tr>\n",
       "  <tr><th>6</th><td>40</td></tr>\n",
       "  <tr><th>7</th><td>43.33333</td></tr>\n",
       "  <tr><th>8</th><td>46.66667</td></tr>\n",
       "  <tr><th>9</th><td>50</td></tr>\n",
       "</table>"
      ],
      "text/plain": [
       "class=Sample name=Unnamed implementation=class=SampleImplementation name=Unnamed size=10 dimension=1 data=[[20],[23.3333],[26.6667],[30],[33.3333],[36.6667],[40],[43.3333],[46.6667],[50]]"
      ]
     },
     "execution_count": 47,
     "metadata": {},
     "output_type": "execute_result"
    }
   ],
   "source": [
    "nbthresholds = 10\n",
    "ff=np.linspace(20.,50.,nbthresholds)\n",
    "thresholdarray = ot.Sample(np.array([np.linspace(20.,50.,nbthresholds)]).transpose())\n",
    "thresholdarray"
   ]
  },
  {
   "cell_type": "code",
   "execution_count": 49,
   "metadata": {},
   "outputs": [
    {
     "name": "stdout",
     "output_type": "stream",
     "text": [
      "s=20.000000, pf=0.067840 in [0.066281,0.069399]\n",
      "s=23.333333, pf=0.029420 in [0.028373,0.030467]\n",
      "s=26.666667, pf=0.013630 in [0.012911,0.014349]\n",
      "s=30.000000, pf=0.006360 in [0.005867,0.006853]\n",
      "s=33.333333, pf=0.003020 in [0.002680,0.003360]\n",
      "s=36.666667, pf=0.001500 in [0.001260,0.001740]\n",
      "s=40.000000, pf=0.000950 in [0.000759,0.001141]\n",
      "s=43.333333, pf=0.000540 in [0.000396,0.000684]\n",
      "s=46.666667, pf=0.000350 in [0.000234,0.000466]\n",
      "s=50.000000, pf=0.000140 in [0.000067,0.000213]\n"
     ]
    }
   ],
   "source": [
    "alpha = 0.05\n",
    "nbthresholds = 10\n",
    "thresholdarray = ot.Sample(np.array([np.linspace(20.,50.,nbthresholds)]).transpose())\n",
    "pfarray = ot.Sample(nbthresholds,1)\n",
    "lbarray = ot.Sample(nbthresholds,1)\n",
    "ubarray = ot.Sample(nbthresholds,1)\n",
    "for i in range(nbthresholds):\n",
    "    s = thresholdarray[i,0]\n",
    "    pf = Ysample.computeEmpiricalCDF([s],True)\n",
    "    pfarray[i,0] = pf\n",
    "    sigmapf = np.sqrt(pf*(1-pf)/n)\n",
    "    pf_dist = ot.Normal(pf,sigmapf)\n",
    "    bounds = pf_dist.computeBilateralConfidenceInterval(1-alpha)\n",
    "    lbarray[i,0] = bounds.getLowerBound()[0]\n",
    "    ubarray[i,0] = bounds.getUpperBound()[0]\n",
    "    print(\"s=%f, pf=%f in [%f,%f]\" % (s,pf,lbarray[i,0],ubarray[i,0]))"
   ]
  },
  {
   "cell_type": "code",
   "execution_count": 50,
   "metadata": {},
   "outputs": [
    {
     "data": {
      "image/png": "[encoded data removed]",
      "text/plain": [
       "class=Graph name=Probability of failure n=100000 implementation=class=GraphImplementation name=Probability of failure n=100000 title=Probability of failure n=100000 xTitle=Threshold yTitle=Pf axes=ON grid=ON legendposition=topright legendFontSize=1 drawables=[class=Drawable name=Pf implementation=class=Curve name=Pf derived from class=DrawableImplementation name=Pf legend=Pf data=class=Sample name=Unnamed implementation=class=SampleImplementation name=Unnamed size=10 dimension=2 data=[[20,0.06784],[23.3333,0.02942],[26.6667,0.01363],[30,0.00636],[33.3333,0.00302],[36.6667,0.0015],[40,0.00095],[43.3333,0.00054],[46.6667,0.00035],[50,0.00014]] color=blue fillStyle=solid lineStyle=solid pointStyle=none lineWidth=1,class=Drawable name=Lower implementation=class=Curve name=Lower derived from class=DrawableImplementation name=Lower legend=95% Lower bound data=class=Sample name=Unnamed implementation=class=SampleImplementation name=Unnamed size=10 dimension=2 data=[[20,0.0662814],[23.3333,0.0283727],[26.6667,0.0129114],[30,0.00586729],[33.3333,0.00267991],[36.6667,0.00126013],[40,0.000759057],[43.3333,0.000396012],[46.6667,0.000234067],[50,6.667e-05]] color=green fillStyle=solid lineStyle=solid pointStyle=none lineWidth=1,class=Drawable name=Upper implementation=class=Curve name=Upper derived from class=DrawableImplementation name=Upper legend=95% Upper bound data=class=Sample name=Unnamed implementation=class=SampleImplementation name=Unnamed size=10 dimension=2 data=[[20,0.0693986],[23.3333,0.0304673],[26.6667,0.0143486],[30,0.00685271],[33.3333,0.00336009],[36.6667,0.00173987],[40,0.00114094],[43.3333,0.000683988],[46.6667,0.000465933],[50,0.00021333]] color=green fillStyle=solid lineStyle=solid pointStyle=none lineWidth=1]"
      ]
     },
     "execution_count": 50,
     "metadata": {},
     "output_type": "execute_result"
    }
   ],
   "source": [
    "myGraph = ot.Graph('Probability of failure n=%d' % (n), 'Threshold', 'Pf', True, 'topright')\n",
    "myPfCurve = ot.Curve(thresholdarray,pfarray, 'Pf')\n",
    "myLBCurve = ot.Curve(thresholdarray,lbarray, 'Lower')\n",
    "myLBCurve.setColor(\"green\")\n",
    "myUBCurve = ot.Curve(thresholdarray,ubarray, 'Upper')\n",
    "myUBCurve.setColor(\"green\")\n",
    "myGraph.add(myPfCurve)\n",
    "myGraph.add(myLBCurve)\n",
    "myGraph.add(myUBCurve)\n",
    "myGraph.setLegends([\"Pf\",\"95% Lower bound\",\"95% Upper bound\"])\n",
    "myGraph.setLogScale(ot.GraphImplementation.LOGY)\n",
    "myGraph"
   ]
  },
  {
   "cell_type": "markdown",
   "metadata": {},
   "source": [
    "On observe que, lorsque le seuil $s$ augmente, alors la probabilité $p_f$ diminue. Cela montre que l'évènement recherché est de plus en plus rare. C'est physiquement cohérent, puisque les grandes déviations verticales sont moins fréquentes. C'est cohérent avec la distribution des déviations verticales, qui sont moins fréquentes lorsque la déviation augmente. "
   ]
  },
  {
   "cell_type": "code",
   "execution_count": 51,
   "metadata": {},
   "outputs": [
    {
     "name": "stdout",
     "output_type": "stream",
     "text": [
      "s=20.000000, pf=0.067840, C.V.=0.011722\n",
      "s=23.333333, pf=0.029420, C.V.=0.018163\n",
      "s=26.666667, pf=0.013630, C.V.=0.026901\n",
      "s=30.000000, pf=0.006360, C.V.=0.039526\n",
      "s=33.333333, pf=0.003020, C.V.=0.057457\n",
      "s=36.666667, pf=0.001500, C.V.=0.081588\n",
      "s=40.000000, pf=0.000950, C.V.=0.102549\n",
      "s=43.333333, pf=0.000540, C.V.=0.136046\n",
      "s=46.666667, pf=0.000350, C.V.=0.169001\n",
      "s=50.000000, pf=0.000140, C.V.=0.267243\n"
     ]
    }
   ],
   "source": [
    "for i in range(nbthresholds):\n",
    "    s = thresholdarray[i,0]\n",
    "    pf = Ysample.computeEmpiricalCDF([s],True)\n",
    "    pfarray[i,0] = pf\n",
    "    sigmapf = np.sqrt(pf*(1-pf)/n)\n",
    "    cv = sigmapf/pf\n",
    "    print(\"s=%f, pf=%f, C.V.=%f\" % (s,pf,cv))"
   ]
  },
  {
   "cell_type": "markdown",
   "metadata": {},
   "source": [
    "On observe que le coefficient de variation augmente lorsque la probabilité se rapproche de zéro. Cela est cohérent avec le calcul théorique qui indique $CV \\approx \\sqrt{\\frac{1}{p_f n}}$ quand $p_f\\approx 0$."
   ]
  }
 ],
 "metadata": {
  "kernelspec": {
   "display_name": "Python 3 (ipykernel)",
   "language": "python",
   "name": "python3"
  },
  "language_info": {
   "codemirror_mode": {
    "name": "ipython",
    "version": 3
   },
   "file_extension": ".py",
   "mimetype": "text/x-python",
   "name": "python",
   "nbconvert_exporter": "python",
   "pygments_lexer": "ipython3",
   "version": "3.10.10"
  }
 },
 "nbformat": 4,
 "nbformat_minor": 2
}
