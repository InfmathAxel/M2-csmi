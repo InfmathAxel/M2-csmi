{
 "cells": [
  {
   "cell_type": "markdown",
   "metadata": {},
   "source": [
    "# 1.1 Openturns : Point, Sample\n",
    "\n"
   ]
  },
  {
   "cell_type": "markdown",
   "metadata": {},
   "source": [
    "## Résumé\n",
    "\n",
    "Dans cette page, nous présentons les classes `Point` et `Sample`, deux classes de base dans OpenTURNS. Nous présentons les concepts implémentés par ces classes, ainsi que la manière de créer et utiliser de tels objets. Nous montrons comment extraire une ligne ou une colonne avec l'opérateur de slicing. Nous montrons les interactions avec les types Python ainsi qu'avec le module Numpy."
   ]
  },
  {
   "cell_type": "markdown",
   "metadata": {},
   "source": [
    "## Références\n",
    "\n",
    "http://openturns.github.io/openturns/master/user_manual/_generated/openturns.Point.html\n",
    "\n",
    "http://openturns.github.io/openturns/master/user_manual/_generated/openturns.Sample.html"
   ]
  },
  {
   "cell_type": "markdown",
   "metadata": {},
   "source": [
    "## Introduction\n",
    "\n",
    "Deux types de données incontournables avec OpenTURNS sont :\n",
    "* `Point` : un point de dimension D ($\\in \\mathbb{R}^D$) ;\n",
    "* `Sample` : un échantillon de N points de dimension D.\n",
    "\n",
    "Objectifs de cette séquence :\n",
    "* extraire et insérer des valeurs,\n",
    "* interactions avec l’environnement Python."
   ]
  },
  {
   "cell_type": "code",
   "execution_count": 2,
   "metadata": {},
   "outputs": [
    {
     "name": "stdout",
     "output_type": "stream",
     "text": [
      "Requirement already satisfied: openturns in /home/administrateur/Bureau/M2/M2-csmi/.venv/lib/python3.10/site-packages (1.23)\n",
      "Requirement already satisfied: dill in /home/administrateur/Bureau/M2/M2-csmi/.venv/lib/python3.10/site-packages (from openturns) (0.3.8)\n",
      "Requirement already satisfied: psutil in /home/administrateur/Bureau/M2/M2-csmi/.venv/lib/python3.10/site-packages (from openturns) (6.0.0)\n"
     ]
    }
   ],
   "source": [
    "!pip install openturns\n",
    "import openturns as ot"
   ]
  },
  {
   "cell_type": "markdown",
   "metadata": {},
   "source": [
    "## Point\n",
    "\n",
    "Nous allons voir comment \n",
    "* créer un point de $\\mathbb{R}^3$, \n",
    "* accéder à ses composantes,\n",
    "* modifier ses composantes.\n",
    "\n",
    "Les points sont remplis par des zéros par défaut. "
   ]
  },
  {
   "cell_type": "code",
   "execution_count": 3,
   "metadata": {},
   "outputs": [
    {
     "data": {
      "text/html": [
       "class=Point name=Unnamed dimension=3 values=[0,0,0]"
      ],
      "text/plain": [
       "class=Point name=Unnamed dimension=3 values=[0,0,0]"
      ]
     },
     "execution_count": 3,
     "metadata": {},
     "output_type": "execute_result"
    }
   ],
   "source": [
    "p = ot.Point(3)\n",
    "p"
   ]
  },
  {
   "cell_type": "markdown",
   "metadata": {},
   "source": [
    "Accéder à la seconde composante (d'indice 1).\n",
    "\n",
    "Note : La numérotation des composantes commence à 0 en Python."
   ]
  },
  {
   "cell_type": "code",
   "execution_count": 4,
   "metadata": {},
   "outputs": [
    {
     "data": {
      "text/plain": [
       "0.0"
      ]
     },
     "execution_count": 4,
     "metadata": {},
     "output_type": "execute_result"
    }
   ],
   "source": [
    "p[1]"
   ]
  },
  {
   "cell_type": "markdown",
   "metadata": {},
   "source": [
    "Modifier la seconde composante."
   ]
  },
  {
   "cell_type": "code",
   "execution_count": 5,
   "metadata": {},
   "outputs": [
    {
     "data": {
      "text/html": [
       "class=Point name=Unnamed dimension=3 values=[0,2,0]"
      ],
      "text/plain": [
       "class=Point name=Unnamed dimension=3 values=[0,2,0]"
      ]
     },
     "execution_count": 5,
     "metadata": {},
     "output_type": "execute_result"
    }
   ],
   "source": [
    "p[1] = 2\n",
    "p"
   ]
  },
  {
   "cell_type": "code",
   "execution_count": 6,
   "metadata": {},
   "outputs": [
    {
     "data": {
      "text/plain": [
       "3"
      ]
     },
     "execution_count": 6,
     "metadata": {},
     "output_type": "execute_result"
    }
   ],
   "source": [
    "p.getDimension ()"
   ]
  },
  {
   "cell_type": "markdown",
   "metadata": {},
   "source": [
    "## Sample\n",
    "\n",
    "Il s’agit d’un échantillon de N points de $\\mathbb{R}^D$.\n",
    "* D est la dimension de l’échantillon.\n",
    "* N est sa taille (en anglais \"*size*\").\n",
    "\n",
    "Un `Sample` peut donc être vu comme une matrice (à N lignes et D colonnes plutôt que D lignes et N colonnes en général par les statisticiens).\n",
    "\n",
    "*Remarque.* Il existe aussi un objet `ProcessSample` (échantillon de champs, typiquement des fonctions de l’espace ou du temps)."
   ]
  },
  {
   "cell_type": "markdown",
   "metadata": {},
   "source": [
    "Créer et manipuler un Sample (N=5, D=3)."
   ]
  },
  {
   "cell_type": "code",
   "execution_count": 7,
   "metadata": {},
   "outputs": [
    {
     "data": {
      "text/html": [
       "<table>\n",
       "  <tr><td></td><th>v0</th><th>v1</th><th>v2</th></tr>\n",
       "  <tr><th>0</th><td>0</td><td>0</td><td>0</td></tr>\n",
       "  <tr><th>1</th><td>0</td><td>0</td><td>0</td></tr>\n",
       "  <tr><th>2</th><td>0</td><td>0</td><td>0</td></tr>\n",
       "  <tr><th>3</th><td>0</td><td>0</td><td>0</td></tr>\n",
       "  <tr><th>4</th><td>0</td><td>0</td><td>0</td></tr>\n",
       "</table>"
      ],
      "text/plain": [
       "class=Sample name=Unnamed implementation=class=SampleImplementation name=Unnamed size=5 dimension=3 data=[[0,0,0],[0,0,0],[0,0,0],[0,0,0],[0,0,0]]"
      ]
     },
     "execution_count": 7,
     "metadata": {},
     "output_type": "execute_result"
    }
   ],
   "source": [
    "data = ot.Sample(5, 3)\n",
    "data"
   ]
  },
  {
   "cell_type": "code",
   "execution_count": 8,
   "metadata": {},
   "outputs": [
    {
     "data": {
      "text/plain": [
       "5"
      ]
     },
     "execution_count": 8,
     "metadata": {},
     "output_type": "execute_result"
    }
   ],
   "source": [
    "data.getSize()"
   ]
  },
  {
   "cell_type": "code",
   "execution_count": 9,
   "metadata": {},
   "outputs": [
    {
     "data": {
      "text/plain": [
       "3"
      ]
     },
     "execution_count": 9,
     "metadata": {},
     "output_type": "execute_result"
    }
   ],
   "source": [
    "data.getDimension()"
   ]
  },
  {
   "cell_type": "markdown",
   "metadata": {},
   "source": [
    "Modifier un Sample."
   ]
  },
  {
   "cell_type": "code",
   "execution_count": 10,
   "metadata": {
    "scrolled": true
   },
   "outputs": [
    {
     "data": {
      "text/html": [
       "<table>\n",
       "  <tr><td></td><th>v0</th><th>v1</th><th>v2</th></tr>\n",
       "  <tr><th>0</th><td>0</td><td>0</td><td>0</td></tr>\n",
       "  <tr><th>1</th><td>0</td><td>0</td><td>0</td></tr>\n",
       "  <tr><th>2</th><td>0</td><td>0</td><td>0</td></tr>\n",
       "  <tr><th>3</th><td>0</td><td>0</td><td>32</td></tr>\n",
       "  <tr><th>4</th><td>0</td><td>0</td><td>0</td></tr>\n",
       "</table>"
      ],
      "text/plain": [
       "class=Sample name=Unnamed implementation=class=SampleImplementation name=Unnamed size=5 dimension=3 data=[[0,0,0],[0,0,0],[0,0,0],[0,0,32],[0,0,0]]"
      ]
     },
     "execution_count": 10,
     "metadata": {},
     "output_type": "execute_result"
    }
   ],
   "source": [
    "data [3, 2] = 32\n",
    "data"
   ]
  },
  {
   "cell_type": "markdown",
   "metadata": {},
   "source": [
    "## Sample : extraire une ligne ou une colonne\n",
    "\n",
    "* Comme avec les tableaux Numpy, extraire une ligne ou une colonne : opérateur de slicing `:`.\n",
    "* En Python, le *slicing* est l’acte d’extraire une partie d’un tableau en une seule instruction.\n",
    "* Objectif : éviter les boucles `for` par vectorisation pour améliorer la performance et la lisibilité"
   ]
  },
  {
   "cell_type": "code",
   "execution_count": 11,
   "metadata": {},
   "outputs": [
    {
     "data": {
      "text/html": [
       "class=Point name=Unnamed dimension=3 values=[0,0,32]"
      ],
      "text/plain": [
       "class=Point name=Unnamed dimension=3 values=[0,0,32]"
      ]
     },
     "execution_count": 11,
     "metadata": {},
     "output_type": "execute_result"
    }
   ],
   "source": [
    "ligne = data [3, :]\n",
    "ligne"
   ]
  },
  {
   "cell_type": "code",
   "execution_count": 12,
   "metadata": {
    "scrolled": true
   },
   "outputs": [
    {
     "data": {
      "text/plain": [
       "openturns.typ.Point"
      ]
     },
     "execution_count": 12,
     "metadata": {},
     "output_type": "execute_result"
    }
   ],
   "source": [
    "type(ligne)"
   ]
  },
  {
   "cell_type": "code",
   "execution_count": 13,
   "metadata": {},
   "outputs": [
    {
     "data": {
      "text/html": [
       "<table>\n",
       "  <tr><td></td><th>v2</th></tr>\n",
       "  <tr><th>0</th><td>0</td></tr>\n",
       "  <tr><th>1</th><td>0</td></tr>\n",
       "  <tr><th>2</th><td>0</td></tr>\n",
       "  <tr><th>3</th><td>32</td></tr>\n",
       "  <tr><th>4</th><td>0</td></tr>\n",
       "</table>"
      ],
      "text/plain": [
       "class=Sample name=Unnamed implementation=class=SampleImplementation name=Unnamed size=5 dimension=1 description=[v2] data=[[0],[0],[0],[32],[0]]"
      ]
     },
     "execution_count": 13,
     "metadata": {},
     "output_type": "execute_result"
    }
   ],
   "source": [
    "colonne = data [:, 2]\n",
    "colonne"
   ]
  },
  {
   "cell_type": "code",
   "execution_count": 14,
   "metadata": {},
   "outputs": [
    {
     "data": {
      "text/plain": [
       "openturns.typ.Sample"
      ]
     },
     "execution_count": 14,
     "metadata": {},
     "output_type": "execute_result"
    }
   ],
   "source": [
    "type(colonne)"
   ]
  },
  {
   "cell_type": "markdown",
   "metadata": {},
   "source": [
    "On observe que \n",
    "* la `ligne` est de type `Point`\n",
    "* la `colonne` est de type `Sample`\n",
    "\n",
    "C'est cohérent : dans un `Sample` en dimension D, une ligne est bien un `Point` en dimension D."
   ]
  },
  {
   "cell_type": "markdown",
   "metadata": {},
   "source": [
    "Extraire plusieurs colonnes dans un nouveau `Sample`."
   ]
  },
  {
   "cell_type": "code",
   "execution_count": 15,
   "metadata": {},
   "outputs": [
    {
     "data": {
      "text/html": [
       "<table>\n",
       "  <tr><td></td><th>v0</th><th>v1</th></tr>\n",
       "  <tr><th>0</th><td>0</td><td>0</td></tr>\n",
       "  <tr><th>1</th><td>0</td><td>0</td></tr>\n",
       "  <tr><th>2</th><td>0</td><td>0</td></tr>\n",
       "  <tr><th>3</th><td>0</td><td>32</td></tr>\n",
       "  <tr><th>4</th><td>0</td><td>0</td></tr>\n",
       "</table>"
      ],
      "text/plain": [
       "class=Sample name=Unnamed implementation=class=SampleImplementation name=Unnamed size=5 dimension=2 data=[[0,0],[0,0],[0,0],[0,32],[0,0]]"
      ]
     },
     "execution_count": 15,
     "metadata": {},
     "output_type": "execute_result"
    }
   ],
   "source": [
    "data.getMarginal([0, 2])"
   ]
  },
  {
   "cell_type": "markdown",
   "metadata": {},
   "source": [
    "## Créer des Points ou Samples à partir d’une liste Python\n",
    "\n",
    "Créer un `Point` à partir d’une liste"
   ]
  },
  {
   "cell_type": "code",
   "execution_count": 16,
   "metadata": {},
   "outputs": [
    {
     "data": {
      "text/html": [
       "class=Point name=Unnamed dimension=2 values=[2,3]"
      ],
      "text/plain": [
       "class=Point name=Unnamed dimension=2 values=[2,3]"
      ]
     },
     "execution_count": 16,
     "metadata": {},
     "output_type": "execute_result"
    }
   ],
   "source": [
    "p1 = ot.Point([2, 3])\n",
    "p1"
   ]
  },
  {
   "cell_type": "code",
   "execution_count": 17,
   "metadata": {},
   "outputs": [
    {
     "data": {
      "text/html": [
       "class=Point name=Unnamed dimension=2 values=[0,1]"
      ],
      "text/plain": [
       "class=Point name=Unnamed dimension=2 values=[0,1]"
      ]
     },
     "execution_count": 17,
     "metadata": {},
     "output_type": "execute_result"
    }
   ],
   "source": [
    "p2 = ot.Point(range(2))\n",
    "p2"
   ]
  },
  {
   "cell_type": "markdown",
   "metadata": {},
   "source": [
    "Un *Pythonisme* utile : la *list comprehension*. Elle permet de créer une liste en réalisant une boucle `for`. Cette construction est souvent utilisée dans la documentation d'OpenTURNS, dans le but d'obtenir des exemples concis."
   ]
  },
  {
   "cell_type": "code",
   "execution_count": 18,
   "metadata": {},
   "outputs": [
    {
     "data": {
      "text/html": [
       "class=Point name=Unnamed dimension=2 values=[4,9]"
      ],
      "text/plain": [
       "class=Point name=Unnamed dimension=2 values=[4,9]"
      ]
     },
     "execution_count": 18,
     "metadata": {},
     "output_type": "execute_result"
    }
   ],
   "source": [
    "p3 = ot.Point([i*i for i in p1 ])\n",
    "p3"
   ]
  },
  {
   "cell_type": "markdown",
   "metadata": {},
   "source": [
    "Un *Pythonisme* utile : la répétition avec l'opérateur `*`."
   ]
  },
  {
   "cell_type": "code",
   "execution_count": 19,
   "metadata": {},
   "outputs": [
    {
     "data": {
      "text/plain": [
       "[5, 5, 5]"
      ]
     },
     "execution_count": 19,
     "metadata": {},
     "output_type": "execute_result"
    }
   ],
   "source": [
    "p4 = [5] * 3\n",
    "p4"
   ]
  },
  {
   "cell_type": "markdown",
   "metadata": {},
   "source": [
    "Créer un `Sample` à partir d’une liste de `Point`s."
   ]
  },
  {
   "cell_type": "code",
   "execution_count": 20,
   "metadata": {},
   "outputs": [
    {
     "data": {
      "text/html": [
       "<table>\n",
       "  <tr><td></td><th>v0</th><th>v1</th></tr>\n",
       "  <tr><th>0</th><td>2</td><td>3</td></tr>\n",
       "  <tr><th>1</th><td>0</td><td>1</td></tr>\n",
       "  <tr><th>2</th><td>4</td><td>9</td></tr>\n",
       "</table>"
      ],
      "text/plain": [
       "class=Sample name=Unnamed implementation=class=SampleImplementation name=Unnamed size=3 dimension=2 data=[[2,3],[0,1],[4,9]]"
      ]
     },
     "execution_count": 20,
     "metadata": {},
     "output_type": "execute_result"
    }
   ],
   "source": [
    "data = ot.Sample([p1, p2, p3 ])\n",
    "data"
   ]
  },
  {
   "cell_type": "markdown",
   "metadata": {},
   "source": [
    "Créer un `Sample` à partir d'un `Point`, répété trois fois."
   ]
  },
  {
   "cell_type": "code",
   "execution_count": 21,
   "metadata": {},
   "outputs": [
    {
     "data": {
      "text/html": [
       "<table>\n",
       "  <tr><td></td><th>v0</th><th>v1</th><th>v2</th></tr>\n",
       "  <tr><th>0</th><td>5</td><td>5</td><td>5</td></tr>\n",
       "  <tr><th>1</th><td>5</td><td>5</td><td>5</td></tr>\n",
       "  <tr><th>2</th><td>5</td><td>5</td><td>5</td></tr>\n",
       "</table>"
      ],
      "text/plain": [
       "class=Sample name=Unnamed implementation=class=SampleImplementation name=Unnamed size=3 dimension=3 data=[[5,5,5],[5,5,5],[5,5,5]]"
      ]
     },
     "execution_count": 21,
     "metadata": {},
     "output_type": "execute_result"
    }
   ],
   "source": [
    "data = ot.Sample([p4] * 3)\n",
    "data"
   ]
  },
  {
   "cell_type": "markdown",
   "metadata": {},
   "source": [
    "Créer un `Sample` à partir d’une liste (imbriquée)."
   ]
  },
  {
   "cell_type": "code",
   "execution_count": 22,
   "metadata": {},
   "outputs": [
    {
     "data": {
      "text/html": [
       "<table>\n",
       "  <tr><td></td><th>v0</th><th>v1</th></tr>\n",
       "  <tr><th>0</th><td>0</td><td>1</td></tr>\n",
       "  <tr><th>1</th><td>2</td><td>3</td></tr>\n",
       "  <tr><th>2</th><td>4</td><td>5</td></tr>\n",
       "</table>"
      ],
      "text/plain": [
       "class=Sample name=Unnamed implementation=class=SampleImplementation name=Unnamed size=3 dimension=2 data=[[0,1],[2,3],[4,5]]"
      ]
     },
     "execution_count": 22,
     "metadata": {},
     "output_type": "execute_result"
    }
   ],
   "source": [
    "data = ot.Sample([[0, 1], [2, 3], [4, 5]])\n",
    "data"
   ]
  },
  {
   "cell_type": "markdown",
   "metadata": {},
   "source": [
    "## Interactions avec Numpy\n",
    "\n",
    "* Les classes Python extérieures à OpenTURNS ne connaissent pas les classes OpenTURNS. \n",
    "* C'est pourquoi il est utile de savoir convertir vers des types Python plus classiques, en particulier les tableaux (arrays) de Numpy."
   ]
  },
  {
   "cell_type": "markdown",
   "metadata": {},
   "source": [
    "Créer un `Sample`, puis le convertir en `array` Numpy 2D."
   ]
  },
  {
   "cell_type": "code",
   "execution_count": 25,
   "metadata": {},
   "outputs": [
    {
     "name": "stdout",
     "output_type": "stream",
     "text": [
      "Collecting numpy\n",
      "  Downloading numpy-2.1.1-cp310-cp310-manylinux_2_17_x86_64.manylinux2014_x86_64.whl.metadata (60 kB)\n",
      "Downloading numpy-2.1.1-cp310-cp310-manylinux_2_17_x86_64.manylinux2014_x86_64.whl (16.3 MB)\n",
      "\u001b[2K   \u001b[90m━━━━━━━━━━━━━━━━━━━━━━━━━━━━━━━━━━━━━━━━\u001b[0m \u001b[32m16.3/16.3 MB\u001b[0m \u001b[31m16.0 MB/s\u001b[0m eta \u001b[36m0:00:00\u001b[0m00:01\u001b[0m00:01\u001b[0m\n",
      "\u001b[?25hInstalling collected packages: numpy\n",
      "Successfully installed numpy-2.1.1\n"
     ]
    }
   ],
   "source": [
    "!pip install numpy"
   ]
  },
  {
   "cell_type": "code",
   "execution_count": 26,
   "metadata": {},
   "outputs": [
    {
     "data": {
      "text/plain": [
       "array([[0., 0., 0.],\n",
       "       [0., 0., 0.],\n",
       "       [0., 0., 0.],\n",
       "       [0., 0., 0.],\n",
       "       [0., 0., 0.]])"
      ]
     },
     "execution_count": 26,
     "metadata": {},
     "output_type": "execute_result"
    }
   ],
   "source": [
    "X = ot.Sample(5, 3)\n",
    "import numpy as np\n",
    "Xarray = np.array(X)\n",
    "Xarray"
   ]
  },
  {
   "cell_type": "code",
   "execution_count": null,
   "metadata": {},
   "outputs": [
    {
     "data": {
      "text/plain": [
       "numpy.ndarray"
      ]
     },
     "execution_count": 23,
     "metadata": {},
     "output_type": "execute_result"
    }
   ],
   "source": [
    "type(Xarray)"
   ]
  },
  {
   "cell_type": "markdown",
   "metadata": {},
   "source": [
    "Dans l’autre sens : créer un `array` Numpy, puis le convertir en `Sample`."
   ]
  },
  {
   "cell_type": "code",
   "execution_count": 27,
   "metadata": {},
   "outputs": [
    {
     "data": {
      "text/html": [
       "<table>\n",
       "  <tr><td></td><th>v0</th><th>v1</th><th>v2</th></tr>\n",
       "  <tr><th>0</th><td>3.14</td><td>3.14</td><td>3.14</td></tr>\n",
       "  <tr><th>1</th><td>3.14</td><td>3.14</td><td>3.14</td></tr>\n",
       "  <tr><th>2</th><td>3.14</td><td>3.14</td><td>3.14</td></tr>\n",
       "  <tr><th>3</th><td>3.14</td><td>3.14</td><td>3.14</td></tr>\n",
       "  <tr><th>4</th><td>3.14</td><td>3.14</td><td>3.14</td></tr>\n",
       "</table>"
      ],
      "text/plain": [
       "class=Sample name=Unnamed implementation=class=SampleImplementation name=Unnamed size=5 dimension=3 data=[[3.14,3.14,3.14],[3.14,3.14,3.14],[3.14,3.14,3.14],[3.14,3.14,3.14],[3.14,3.14,3.14]]"
      ]
     },
     "execution_count": 27,
     "metadata": {},
     "output_type": "execute_result"
    }
   ],
   "source": [
    "Xarray = 3.14 * np.ones((5, 3))\n",
    "X = ot.Sample(Xarray )\n",
    "X"
   ]
  },
  {
   "cell_type": "code",
   "execution_count": 28,
   "metadata": {},
   "outputs": [
    {
     "data": {
      "text/plain": [
       "5"
      ]
     },
     "execution_count": 28,
     "metadata": {},
     "output_type": "execute_result"
    }
   ],
   "source": [
    "X.getSize()"
   ]
  },
  {
   "cell_type": "code",
   "execution_count": 29,
   "metadata": {},
   "outputs": [
    {
     "data": {
      "text/plain": [
       "3"
      ]
     },
     "execution_count": 29,
     "metadata": {},
     "output_type": "execute_result"
    }
   ],
   "source": [
    "X.getDimension()"
   ]
  },
  {
   "cell_type": "markdown",
   "metadata": {},
   "source": [
    "Créer un `Sample` à partir de 5 valeurs est ambigüe. En effet, est-ce :\n",
    "* un échantillon de taille 5 en dimension 1 ou\n",
    "* un échantillon de taille 1 en dimension 5 ?\n",
    "\n",
    "Pour retirer l'ambiguïté, on utilise le second argument du constructeur de `Sample`, qui permet de spécifier la dimension."
   ]
  },
  {
   "cell_type": "code",
   "execution_count": 32,
   "metadata": {},
   "outputs": [
    {
     "data": {
      "text/plain": [
       "array([0.  , 0.25, 0.5 , 0.75, 1.  ])"
      ]
     },
     "execution_count": 32,
     "metadata": {},
     "output_type": "execute_result"
    }
   ],
   "source": [
    "u = np.linspace(0, 1, 5)\n",
    "u"
   ]
  },
  {
   "cell_type": "markdown",
   "metadata": {},
   "source": [
    "Choix A : on créée un `Sample` de taille 5 en dimension 1."
   ]
  },
  {
   "cell_type": "code",
   "execution_count": 33,
   "metadata": {},
   "outputs": [
    {
     "data": {
      "text/html": [
       "<table>\n",
       "  <tr><td></td><th>v0</th><th>v1</th><th>v2</th><th>v3</th><th>v4</th></tr>\n",
       "  <tr><th>0</th><td>0</td><td>0.25</td><td>0.5</td><td>0.75</td><td>1</td></tr>\n",
       "</table>"
      ],
      "text/plain": [
       "class=Sample name=Unnamed implementation=class=SampleImplementation name=Unnamed size=1 dimension=5 data=[[0,0.25,0.5,0.75,1]]"
      ]
     },
     "execution_count": 33,
     "metadata": {},
     "output_type": "execute_result"
    }
   ],
   "source": [
    "X = ot.Sample(1,u)\n",
    "X"
   ]
  },
  {
   "cell_type": "markdown",
   "metadata": {},
   "source": [
    "Choix B : on créée un `Sample` de taille 5 en dimension 5."
   ]
  },
  {
   "cell_type": "code",
   "execution_count": 34,
   "metadata": {},
   "outputs": [
    {
     "data": {
      "text/html": [
       "<table>\n",
       "  <tr><td></td><th>v0</th><th>v1</th><th>v2</th><th>v3</th><th>v4</th></tr>\n",
       "  <tr><th>0</th><td>0</td><td>0.25</td><td>0.5</td><td>0.75</td><td>1</td></tr>\n",
       "  <tr><th>1</th><td>0</td><td>0.25</td><td>0.5</td><td>0.75</td><td>1</td></tr>\n",
       "  <tr><th>2</th><td>0</td><td>0.25</td><td>0.5</td><td>0.75</td><td>1</td></tr>\n",
       "  <tr><th>3</th><td>0</td><td>0.25</td><td>0.5</td><td>0.75</td><td>1</td></tr>\n",
       "  <tr><th>4</th><td>0</td><td>0.25</td><td>0.5</td><td>0.75</td><td>1</td></tr>\n",
       "</table>"
      ],
      "text/plain": [
       "class=Sample name=Unnamed implementation=class=SampleImplementation name=Unnamed size=5 dimension=5 data=[[0,0.25,0.5,0.75,1],[0,0.25,0.5,0.75,1],[0,0.25,0.5,0.75,1],[0,0.25,0.5,0.75,1],[0,0.25,0.5,0.75,1]]"
      ]
     },
     "execution_count": 34,
     "metadata": {},
     "output_type": "execute_result"
    }
   ],
   "source": [
    "X= ot.Sample(5,u)\n",
    "X"
   ]
  },
  {
   "cell_type": "code",
   "execution_count": 37,
   "metadata": {},
   "outputs": [
    {
     "ename": "TypeError",
     "evalue": "InvalidArgumentException : Invalid array dimension 1 is ambiguous, please set the dimension explicitly",
     "output_type": "error",
     "traceback": [
      "\u001b[0;31m---------------------------------------------------------------------------\u001b[0m",
      "\u001b[0;31mTypeError\u001b[0m                                 Traceback (most recent call last)",
      "\u001b[0;32m/tmp/ipykernel_57757/2625462024.py\u001b[0m in \u001b[0;36m?\u001b[0;34m()\u001b[0m\n\u001b[1;32m      1\u001b[0m \u001b[0;31m# Génère une exception attendue\u001b[0m\u001b[0;34m\u001b[0m\u001b[0;34m\u001b[0m\u001b[0m\n\u001b[0;32m----> 2\u001b[0;31m \u001b[0mX\u001b[0m \u001b[0;34m=\u001b[0m \u001b[0mot\u001b[0m\u001b[0;34m.\u001b[0m\u001b[0mSample\u001b[0m\u001b[0;34m(\u001b[0m\u001b[0mu\u001b[0m\u001b[0;34m)\u001b[0m\u001b[0;34m\u001b[0m\u001b[0;34m\u001b[0m\u001b[0m\n\u001b[0m",
      "\u001b[0;32m~/Bureau/M2/M2-csmi/.venv/lib/python3.10/site-packages/openturns/typ.py\u001b[0m in \u001b[0;36m?\u001b[0;34m(self, *args)\u001b[0m\n\u001b[1;32m   9355\u001b[0m     \u001b[0;32mdef\u001b[0m \u001b[0m__init__\u001b[0m\u001b[0;34m(\u001b[0m\u001b[0mself\u001b[0m\u001b[0;34m,\u001b[0m \u001b[0;34m*\u001b[0m\u001b[0margs\u001b[0m\u001b[0;34m)\u001b[0m\u001b[0;34m:\u001b[0m\u001b[0;34m\u001b[0m\u001b[0;34m\u001b[0m\u001b[0m\n\u001b[0;32m-> 9356\u001b[0;31m         \u001b[0m_typ\u001b[0m\u001b[0;34m.\u001b[0m\u001b[0mSample_swiginit\u001b[0m\u001b[0;34m(\u001b[0m\u001b[0mself\u001b[0m\u001b[0;34m,\u001b[0m \u001b[0m_typ\u001b[0m\u001b[0;34m.\u001b[0m\u001b[0mnew_Sample\u001b[0m\u001b[0;34m(\u001b[0m\u001b[0;34m*\u001b[0m\u001b[0margs\u001b[0m\u001b[0;34m)\u001b[0m\u001b[0;34m)\u001b[0m\u001b[0;34m\u001b[0m\u001b[0;34m\u001b[0m\u001b[0m\n\u001b[0m",
      "\u001b[0;31mTypeError\u001b[0m: InvalidArgumentException : Invalid array dimension 1 is ambiguous, please set the dimension explicitly"
     ]
    }
   ],
   "source": [
    "# Génère une exception attendue\n",
    "#X = ot.Sample(u)"
   ]
  },
  {
   "cell_type": "markdown",
   "metadata": {},
   "source": [
    "## Point/Sample : exercices\n",
    "\n",
    "### Exercice 1 : point et norme 1\n",
    "Créer la variable X contenant un `Point` en dimension 12 contenant les\n",
    "valeurs numériques suivantes : 0., 1., ..., 11. \n",
    "* Utiliser la méthode `norm` pour calculer la norme Euclidienne de X. \n",
    "* Comment calculer la norme 1 de X ?"
   ]
  },
  {
   "cell_type": "code",
   "execution_count": 50,
   "metadata": {},
   "outputs": [
    {
     "name": "stdout",
     "output_type": "stream",
     "text": [
      "[0,1,2,3,4,5,6,7,8,9,10,11]#12\n",
      "norm avec ot.norm  22.494443758403985\n"
     ]
    }
   ],
   "source": [
    "X = ot.Point([float(i) for i in range(12)])\n",
    "print(X)\n",
    "\n",
    "print(\"norm avec ot.norm \",X.norm())"
   ]
  },
  {
   "cell_type": "markdown",
   "metadata": {},
   "source": [
    "### Exercice 2 : moyenne et minimum\n",
    "Créer la variable X contenant un Sample correspondant à l’échantillon\n",
    "en dimension 2 suivant :\n",
    "$$\n",
    "X=\n",
    "\\begin{pmatrix}\n",
    "0 & 1 \\\\\n",
    "2 & 3 \\\\\n",
    "4 & 5\n",
    "\\end{pmatrix}\n",
    "$$\n",
    "* Utiliser la méthode `computeMean` pour calculer la moyenne empirique.\n",
    "* Utiliser la méthode `getMin` pour calculer le minimum.\n",
    "\n"
   ]
  },
  {
   "cell_type": "code",
   "execution_count": 62,
   "metadata": {},
   "outputs": [
    {
     "name": "stdout",
     "output_type": "stream",
     "text": [
      "0 : [ 0 1 ]\n",
      "1 : [ 2 3 ]\n",
      "2 : [ 4 5 ]\n"
     ]
    },
    {
     "data": {
      "text/html": [
       "<table>\n",
       "  <tr><td></td><th>v0</th><th>v1</th></tr>\n",
       "  <tr><th>0</th><td>0</td><td>1</td></tr>\n",
       "  <tr><th>1</th><td>2</td><td>3</td></tr>\n",
       "  <tr><th>2</th><td>4</td><td>5</td></tr>\n",
       "</table>"
      ],
      "text/plain": [
       "class=Sample name=Unnamed implementation=class=SampleImplementation name=Unnamed size=3 dimension=2 data=[[0,1],[2,3],[4,5]]"
      ]
     },
     "execution_count": 62,
     "metadata": {},
     "output_type": "execute_result"
    }
   ],
   "source": [
    "X= ot.Sample(3,2)\n",
    "X\n",
    "X2=ot.Sample([[0,1],[2,3],[4,5]])\n",
    "print(X2)\n",
    "p1 = ot.Point([0,1])\n",
    "p2 = ot.Point([2,3])\n",
    "p3 = ot.Point([4,5])\n",
    "X3 = ot.Sample([p1,p2,p3])\n",
    "X3"
   ]
  },
  {
   "cell_type": "code",
   "execution_count": 63,
   "metadata": {},
   "outputs": [
    {
     "name": "stdout",
     "output_type": "stream",
     "text": [
      "[2,3]\n",
      "[0,1]\n"
     ]
    }
   ],
   "source": [
    "print(X3.computeMean())\n",
    "print(X3.getMin())"
   ]
  },
  {
   "cell_type": "markdown",
   "metadata": {},
   "source": [
    "### Exercice 3 : différents échantillons\n",
    "\n",
    "Quel est le résultat des instructions suivantes ?\n",
    "\n",
    "`\n",
    "u= np.linspace(0, 1, 10)\n",
    "ot.Sample(2,u)\n",
    "ot.Sample(3,u)\n",
    "ot.Sample(12,u)\n",
    "`\n",
    "\n"
   ]
  },
  {
   "cell_type": "code",
   "execution_count": 70,
   "metadata": {},
   "outputs": [
    {
     "name": "stdout",
     "output_type": "stream",
     "text": [
      "[0.         0.11111111 0.22222222 0.33333333 0.44444444 0.55555556\n",
      " 0.66666667 0.77777778 0.88888889 1.        ]\n"
     ]
    },
    {
     "data": {
      "text/html": [
       "<table>\n",
       "  <tr><td></td><th>v0</th><th>v1</th><th>v2</th><th>v3</th><th>v4</th><th>v5</th><th>v6</th><th>v7</th><th>v8</th><th>v9</th></tr>\n",
       "  <tr><th>0</th><td>0</td><td>0.1111111</td><td>0.2222222</td><td>0.3333333</td><td>0.4444444</td><td>0.5555556</td><td>0.6666667</td><td>0.7777778</td><td>0.8888889</td><td>1</td></tr>\n",
       "  <tr><th>1</th><td>0</td><td>0.1111111</td><td>0.2222222</td><td>0.3333333</td><td>0.4444444</td><td>0.5555556</td><td>0.6666667</td><td>0.7777778</td><td>0.8888889</td><td>1</td></tr>\n",
       "  <tr><th>2</th><td>0</td><td>0.1111111</td><td>0.2222222</td><td>0.3333333</td><td>0.4444444</td><td>0.5555556</td><td>0.6666667</td><td>0.7777778</td><td>0.8888889</td><td>1</td></tr>\n",
       "</table>"
      ],
      "text/plain": [
       "class=Sample name=Unnamed implementation=class=SampleImplementation name=Unnamed size=3 dimension=10 data=[[0,0.111111,0.222222,0.333333,0.444444,0.555556,0.666667,0.777778,0.888889,1],[0,0.111111,0.222222,0.333333,0.444444,0.555556,0.666667,0.777778,0.888889,1],[0,0.111111,0.222222,0.333333,0.444444,0.555556,0.666667,0.777778,0.888889,1]]"
      ]
     },
     "execution_count": 70,
     "metadata": {},
     "output_type": "execute_result"
    }
   ],
   "source": [
    "u = np.linspace(0,1,10)\n",
    "print(u)\n",
    "\n",
    "X1 = ot.Sample(2,u)\n",
    "X1 # 2 fois le vectuer u\n",
    "\n",
    "X2 = ot.Sample(3,u)\n",
    "X2 #3 fois u et 12 fois u pour le dernier"
   ]
  },
  {
   "cell_type": "markdown",
   "metadata": {},
   "source": [
    "### Exercice 4 : un pythonisme\n",
    "\n",
    "Experimentez le pythonisme suivant, qui permet d’extraire les quatre\n",
    "champs d’un `Point` en une seule ligne :\n",
    "\n",
    "`\n",
    "X= ot.Point([12, 1.680, 3.1416, 2.718])\n",
    "[ apotres, golden, pi, euler ]=X\n",
    "`\n",
    "\n",
    "* Afficher les valeurs de `apotres`, `golden`, `pi` et `euler` et vérifier les valeurs. \n",
    "* Que se passe-t-il si on ajoute une dimension dans le `Point` ?\n",
    "\n"
   ]
  },
  {
   "cell_type": "code",
   "execution_count": 78,
   "metadata": {},
   "outputs": [
    {
     "name": "stdout",
     "output_type": "stream",
     "text": [
      "12.0 1.68 3.1416 2.718\n"
     ]
    },
    {
     "ename": "ValueError",
     "evalue": "too many values to unpack (expected 4)",
     "output_type": "error",
     "traceback": [
      "\u001b[0;31m---------------------------------------------------------------------------\u001b[0m",
      "\u001b[0;31mValueError\u001b[0m                                Traceback (most recent call last)",
      "Cell \u001b[0;32mIn[78], line 6\u001b[0m\n\u001b[1;32m      4\u001b[0m X\u001b[38;5;241m.\u001b[39madd(\u001b[38;5;241m5\u001b[39m)\n\u001b[1;32m      5\u001b[0m X\n\u001b[0;32m----> 6\u001b[0m [apotres,golden,pi,euler]\u001b[38;5;241m=\u001b[39mX\n",
      "\u001b[0;31mValueError\u001b[0m: too many values to unpack (expected 4)"
     ]
    }
   ],
   "source": [
    "X = ot.Point([12,1.680,3.1416,2.718])\n",
    "[apotres,golden,pi,euler]=X\n",
    "print(apotres,golden,pi,euler)\n",
    "X.add(5)\n",
    "X\n",
    "#[apotres,golden,pi,euler]=X erreur\n"
   ]
  },
  {
   "cell_type": "markdown",
   "metadata": {},
   "source": [
    "### Exercice 5 : matrice de corrélation\n",
    "\n",
    "Créer la `CorrelationMatrix` correspondant à la matrice de\n",
    "corrélation suivante :\n",
    "$$\n",
    "A=\n",
    "\\begin{pmatrix}\n",
    "1   & 0.1 \\\\\n",
    "0.1 & 1\n",
    "\\end{pmatrix}\n",
    "$$\n",
    "de deux manières différentes : \n",
    "* à partir d’une liste Python, \n",
    "* à partir  d’un array Numpy.\n",
    "\n"
   ]
  },
  {
   "cell_type": "code",
   "execution_count": 88,
   "metadata": {},
   "outputs": [
    {
     "data": {
      "text/plain": [
       "array([[ True,  True],\n",
       "       [ True,  True]])"
      ]
     },
     "execution_count": 88,
     "metadata": {},
     "output_type": "execute_result"
    }
   ],
   "source": [
    "corM = np.eye(2)\n",
    "corM[0,1] = 0.1  \n",
    "corM[1,0] = 0.1\n",
    "\n",
    "corM\n",
    "\n",
    "corM_py  = [[1,0.1],[0.1,1]]\n",
    "corM_py == corM\n"
   ]
  },
  {
   "cell_type": "markdown",
   "metadata": {},
   "source": [
    "\n",
    "### Exercice 6 : types\n",
    "\n",
    "Lorsqu'on utilise par exemple la classe `Normal`, les méthodes associées peuvent renvoyer des `Sample`, des `Point` ou des `float` en fonction des cas. Il faut donc être capable de faire cohabiter ces objets. \n",
    "\n",
    "* Utiliser l'instruction suivante pour calculer la moyenne d'une variable gaussienne avec les paramètres par défaut :\n",
    "```\n",
    "moyenne = ot.Normal().getMean()\n",
    "```\n",
    "* Quel est le type de la variable `moyenne` ?\n",
    "* Extraire la première composante de `moyenne` : quel est son type ?\n",
    "* Créer un échantillon de 5 réalisations en dimension 3 d'une variable gaussienne centrée-réduite avec l'instruction :\n",
    "```\n",
    "X = ot.Normal(3).getSample(5)\n",
    "```\n",
    "* Quel est le type de `X` ?"
   ]
  },
  {
   "cell_type": "code",
   "execution_count": 94,
   "metadata": {},
   "outputs": [
    {
     "data": {
      "text/plain": [
       "openturns.typ.Sample"
      ]
     },
     "execution_count": 94,
     "metadata": {},
     "output_type": "execute_result"
    }
   ],
   "source": [
    "moyenne = ot.Normal().getMean()\n",
    "type(moyenne) #openturns.typ.Point\n",
    "type(moyenne[0]) #float\n",
    "X = ot.Normal(3).getSample(5)\n",
    "type(X) #openturns.typ.Sample"
   ]
  },
  {
   "cell_type": "markdown",
   "metadata": {},
   "source": [
    "### Exercice 7 : split\n",
    "\n",
    "La méthode `split` de la classe `Sample` permet de découper un échantillon en deux parties. Par exemple, dans le contexte de la validation d'un méta-modèle, on découpe un échantillon en deux sous-échantillon :\n",
    "* un sous-échantillon d'apprentissage,\n",
    "* un sous-échantillon de validation.\n",
    "\n",
    "L'objectif de cet exercice est de faire des essais avec cette méthode. \n",
    "* Créer la variable `data` contenant un échantillon de taille 5 issu d'une loi gaussienne en dimension 2.\n",
    "* Utiliser la méthode `split` pour créer la variable `reste` contenant un sous-échantillon de taille 2. \n",
    "* Observer le contenu de la variable `data`.\n"
   ]
  },
  {
   "cell_type": "code",
   "execution_count": 102,
   "metadata": {},
   "outputs": [
    {
     "name": "stdout",
     "output_type": "stream",
     "text": [
      "    [ X0        X1        ]\n",
      "0 : [ -0.506925 -1.66086  ]\n",
      "1 : [  2.24623   0.759602 ]\n",
      "2 : [ -0.510764 -0.633066 ]\n",
      "    [ X0        X1        ]\n",
      "0 : [ -0.483642  0.677958 ]\n",
      "1 : [  1.70938   1.07062  ]\n"
     ]
    }
   ],
   "source": [
    "data= ot.Normal(2).getSample(5)\n",
    "data\n",
    "\n",
    "reste = data.split(2)\n",
    "print(reste)\n",
    "\n",
    "print(data)\n"
   ]
  }
 ],
 "metadata": {
  "kernelspec": {
   "display_name": "Python 3 (ipykernel)",
   "language": "python",
   "name": "python3"
  },
  "language_info": {
   "codemirror_mode": {
    "name": "ipython",
    "version": 3
   },
   "file_extension": ".py",
   "mimetype": "text/x-python",
   "name": "python",
   "nbconvert_exporter": "python",
   "pygments_lexer": "ipython3",
   "version": "3.10.12"
  }
 },
 "nbformat": 4,
 "nbformat_minor": 2
}
