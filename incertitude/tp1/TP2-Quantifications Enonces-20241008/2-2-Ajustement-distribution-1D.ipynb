{
 "cells": [
  {
   "cell_type": "markdown",
   "metadata": {
    "slideshow": {
     "slide_type": "slide"
    }
   },
   "source": [
    "# Ajustement d'une loi de distribution unidimensionnelle\n",
    "\n",
    "## Résumé\n",
    "\n",
    "Dans ce notebook, nous présentons comment estimer les paramètres d'une loi à partir d'un échantillon.\n",
    "\n",
    "En particulier, nous explorons les thèmes suivants :\n",
    "- les classes `Factory`; exemple des classes `NormalFactory` et `WeibullMinFactory`,\n",
    "- test graphique; la classe `DrawQQplot`,\n",
    "- tests statistiques; les classes `Kolmogorov` et `BIC`,\n",
    "- les méthodes non paramétriques\n",
    " - l'histogramme et la classe `HistogramFactory`\n",
    " - les méthodes à noyau et la classe `KernelSmoothing`"
   ]
  },
  {
   "cell_type": "markdown",
   "metadata": {
    "slideshow": {
     "slide_type": "slide"
    }
   },
   "source": [
    "## Création de l'échantillon"
   ]
  },
  {
   "cell_type": "code",
   "execution_count": 1,
   "metadata": {
    "slideshow": {
     "slide_type": "-"
    }
   },
   "outputs": [],
   "source": [
    "import openturns as ot\n",
    "import numpy as np"
   ]
  },
  {
   "cell_type": "markdown",
   "metadata": {
    "slideshow": {
     "slide_type": "-"
    }
   },
   "source": [
    "Nous commençons par créer un échantillon, en utilisant une variable gaussienne centrée-réduite. Nous générons un échantillon de taille $n=100$."
   ]
  },
  {
   "cell_type": "code",
   "execution_count": 2,
   "metadata": {
    "slideshow": {
     "slide_type": "fragment"
    }
   },
   "outputs": [],
   "source": [
    "n = 100\n",
    "data = ot.Normal().getSample(n)"
   ]
  },
  {
   "cell_type": "markdown",
   "metadata": {
    "slideshow": {
     "slide_type": "-"
    }
   },
   "source": [
    "On observe que, à cause de la taille finie de l'échantillon, la moyenne empirique et l'écart-type ne sont pas exactement égaux à l'espérance et l'écart-type de la variable aléatoire."
   ]
  },
  {
   "cell_type": "code",
   "execution_count": 3,
   "metadata": {
    "slideshow": {
     "slide_type": "fragment"
    }
   },
   "outputs": [
    {
     "name": "stdout",
     "output_type": "stream",
     "text": [
      "[0.0647826]\n",
      "[0.991286]\n"
     ]
    }
   ],
   "source": [
    "print(data.computeMean())\n",
    "print(data.computeStandardDeviation())"
   ]
  },
  {
   "cell_type": "markdown",
   "metadata": {
    "slideshow": {
     "slide_type": "slide"
    }
   },
   "source": [
    "## Estimation paramétrique"
   ]
  },
  {
   "cell_type": "markdown",
   "metadata": {
    "slideshow": {
     "slide_type": "-"
    }
   },
   "source": [
    "On considère une variable aléatoire associée au vecteur de paramètres $\\theta\\in\\mathbb{R}^p$, où $p$ est le nombre de paramètres. Les méthodes d'estimation paramétriques ont pour objectif d'estimer la valeur du vecteur $\\theta$ qui s'ajuste le mieux à un échantillon donné. \n",
    "\n",
    "Dans OpenTURNS, deux méthodes sont utilisées pour estimer les paramètres d'une loi en fonction d'un échantillon.\n",
    "- la classe `MethodOfMomentsFactory` utilise la méthode des moments qui consiste à rechercher la valeur de $\\theta$ qui minimise l'écart entre les moments de la distribution et les moments centrés de l'échantillon,\n",
    "- la classe `MaximumLikelihoodFactory` utilise la méthode du maximum de vraisemblance qui consiste à rechercher la valeur de $\\theta$ qui maximise la vraisemblance."
   ]
  },
  {
   "cell_type": "markdown",
   "metadata": {
    "slideshow": {
     "slide_type": "slide"
    }
   },
   "source": [
    "En fonction des distributions, la librairie peut utiliser une combinaison de ces deux méthodes, c'est à dire que certains paramètres peuvent être calculés par la méthode des moments et d'autres peuvent être calculés par la méthode du maximum de vraisemblance. Une autre situation qui peut également arriver est que, dans le but d'aider à la convergence de la méthode du maximum de vraisemblance, on utilise la méthode des moments pour initialiser le calcul.\n",
    "\n",
    "En pratique, la technique la plus courante consiste à utiliser la `Factory` associée à la distribution dont on souhaite estimer les paramètres. Par exemple, pour la distribution `Normal`, la classe correspondante est la classe `NormalFactory`. Cette classe utilise la méthode des moments ; la théorie montre que, pour la distribution gaussienne la méthode des moments et la méthode du maximum de vraisemblance sont équivalentes. "
   ]
  },
  {
   "cell_type": "code",
   "execution_count": 4,
   "metadata": {
    "slideshow": {
     "slide_type": "slide"
    }
   },
   "outputs": [
    {
     "data": {
      "text/html": [
       "<p>Normal(mu = 0.0647826, sigma = 0.991286)</p>"
      ],
      "text/plain": [
       "class=Normal name=Normal dimension=1 mean=class=Point name=Unnamed dimension=1 values=[0.0647826] sigma=class=Point name=Unnamed dimension=1 values=[0.991286] correlationMatrix=class=CorrelationMatrix dimension=1 implementation=class=MatrixImplementation name=Unnamed rows=1 columns=1 values=[1]"
      ]
     },
     "execution_count": 4,
     "metadata": {},
     "output_type": "execute_result"
    }
   ],
   "source": [
    "X = ot.NormalFactory().build(data)\n",
    "X"
   ]
  },
  {
   "cell_type": "markdown",
   "metadata": {},
   "source": [
    "Dans l'exemple suivant, on créée la variable `Y` par ajustement avec la distribution de Weibull."
   ]
  },
  {
   "cell_type": "code",
   "execution_count": 5,
   "metadata": {},
   "outputs": [
    {
     "data": {
      "text/html": [
       "<p>WeibullMin(beta = 3.54791, alpha = 3.62101, gamma = -3.13189)</p>"
      ],
      "text/plain": [
       "class=WeibullMin name=WeibullMin dimension=1 beta=3.54791 alpha=3.62101 gamma=-3.13189"
      ]
     },
     "execution_count": 5,
     "metadata": {},
     "output_type": "execute_result"
    }
   ],
   "source": [
    "Y = ot.WeibullMinFactory().build(data)\n",
    "Y"
   ]
  },
  {
   "cell_type": "markdown",
   "metadata": {
    "slideshow": {
     "slide_type": "slide"
    }
   },
   "source": [
    "## Validation graphique de l'ajustement"
   ]
  },
  {
   "cell_type": "markdown",
   "metadata": {
    "slideshow": {
     "slide_type": "-"
    }
   },
   "source": [
    "Une méthode fréquemment utilisée pour valider les paramètres de la distribution consiste à créer le QQ-Plot. Il s'agit d'un graphique dans lequel \n",
    "- l'axe des abscisses présente les quantiles empiriques de l'échantillon,\n",
    "- l'axe des ordonnées présente les quantiles de la distribution.\n",
    "\n",
    "Si les points sont proches de la première bissectrice, alors on considère que l'ajustement est correct. Il arrive fréquemment que l'ajustement est acceptable dans le centre de la distribution (i.e. au milieu du graphique), mais de qualité moindre dans les queues de la distribution. En fonction des objectifs de l'étude, cela peut être acceptable ou non."
   ]
  },
  {
   "cell_type": "code",
   "execution_count": 6,
   "metadata": {
    "scrolled": true,
    "slideshow": {
     "slide_type": "slide"
    }
   },
   "outputs": [
    {
     "data": {
      "image/png": "[encoded data removed]",
      "text/plain": [
       "class=Graph name=Sample versus model QQ-plot implementation=class=GraphImplementation name=Sample versus model QQ-plot title=Sample versus model QQ-plot xTitle=X0 yTitle=Normal(mu = 0.0647826, sigma = 0.991286) axes=ON grid=ON legendposition=topleft legendFontSize=1 drawables=[class=Drawable name=Test line implementation=class=Curve name=Test line derived from class=DrawableImplementation name=Test line legend=Test line data=class=Sample name=Unnamed implementation=class=SampleImplementation name=Unnamed size=2 dimension=2 data=[[-2.29006,-2.29006],[2.11968,2.11968]] color=red fillStyle=solid lineStyle=dashed pointStyle=none lineWidth=1,class=Drawable name=Data implementation=class=Cloud name=Data derived from class=DrawableImplementation name=Data legend=Data data=class=Sample name=Unnamed implementation=class=SampleImplementation name=Unnamed size=99 dimension=2 data=[[-2.29006,-2.24129],[-2.18139,-1.97107],[-1.96869,-1.79962],[-1.78796,-1.67065],[-1.66086,-1.56574],[-1.53073,-1.47644],[-1.36853,-1.39815],[-1.31178,-1.32805],[-1.28289,-1.26429],[-1.26617,-1.2056],[-1.03896,-1.15106],[-1.03808,-1.09997],[-0.958722,-1.05179],[-0.957072,-1.00612],[-0.938771,-0.962619],[-0.901581,-0.92101],[-0.89182,-0.881068],[-0.856712,-0.842606],[-0.855886,-0.805464],[-0.781366,-0.769505],[-0.777033,-0.734612],[-0.752817,-0.700682],[-0.743622,-0.667626],[-0.734708,-0.635365],[-0.721533,-0.60383],[-0.671291,-0.572957],[-0.657603,-0.54269],[-0.633066,-0.51298],[-0.560206,-0.48378],[-0.510764,-0.455048],[-0.506925,-0.426747],[-0.485112,-0.398841],[-0.483642,-0.371297],[-0.470526,-0.344086],[-0.438266,-0.31718],[-0.382992,-0.290553],[-0.355007,-0.264179],[-0.353552,-0.238036],[-0.241223,-0.212102],[-0.238253,-0.186357],[-0.181004,-0.16078],[-0.160625,-0.135352],[-0.139453,-0.110055],[-0.125498,-0.0848711],[-0.111461,-0.0597838],[-0.0907838,-0.034776],[-0.0899071,-0.00983138],[-0.0436123,0.015066],[0.0521593,0.0399321],[0.0702074,0.0647826],[0.103474,0.089633],[0.184356,0.114499],[0.257926,0.139397],[0.261018,0.164341],[0.29995,0.189349],[0.322925,0.214436],[0.334794,0.23962],[0.338751,0.264917],[0.350042,0.290345],[0.351418,0.315922],[0.377922,0.341668],[0.40136,0.367601],[0.407717,0.393744],[0.44549,0.420118],[0.445785,0.446745],[0.473617,0.473652],[0.538071,0.500862],[0.539345,0.528406],[0.544047,0.556312],[0.608202,0.584613],[0.637167,0.613345],[0.655027,0.642545],[0.677958,0.672256],[0.716353,0.702522],[0.741548,0.733395],[0.759602,0.76493],[0.790446,0.797191],[0.793156,0.830247],[0.810668,0.864177],[0.814561,0.89907],[0.905602,0.935029],[0.994482,0.972171],[0.995793,1.01063],[1.00434,1.05057],[1.01556,1.09218],[1.07062,1.13569],[1.20548,1.18136],[1.21381,1.22953],[1.27128,1.28062],[1.3263,1.33517],[1.36783,1.39385],[1.43725,1.45761],[1.67297,1.52771],[1.70938,1.60601],[1.73821,1.6953],[1.78236,1.80021],[1.85579,1.92919],[1.96876,2.10064],[2.11968,2.37086]] color=blue fillStyle=solid lineStyle=solid pointStyle=fcircle lineWidth=1]"
      ]
     },
     "execution_count": 6,
     "metadata": {},
     "output_type": "execute_result"
    }
   ],
   "source": [
    "ot.VisualTest.DrawQQplot(data, X)"
   ]
  },
  {
   "cell_type": "markdown",
   "metadata": {
    "slideshow": {
     "slide_type": "slide"
    }
   },
   "source": [
    "Dans la boucle `for` suivante, nous comparons l'ajustement avec les distributions uniformes et beta."
   ]
  },
  {
   "cell_type": "code",
   "execution_count": 7,
   "metadata": {
    "scrolled": true
   },
   "outputs": [
    {
     "data": {
      "image/png": "[encoded data removed]",
      "text/plain": [
       "<Figure size 864x288 with 2 Axes>"
      ]
     },
     "metadata": {
      "needs_background": "light"
     },
     "output_type": "display_data"
    }
   ],
   "source": [
    "import openturns.viewer\n",
    "import pylab as pl\n",
    "fig = pl.figure(figsize=(12, 4))\n",
    "distributionList = [ot.UniformFactory(),ot.BetaFactory()]\n",
    "for i in range(len(distributionList)):\n",
    "    F = distributionList[i]\n",
    "    T = F.build(data)\n",
    "    graph = ot.VisualTest.DrawQQplot(data, T)\n",
    "    graph.setYTitle(T.getName())\n",
    "    ax_pdf = fig.add_subplot(1, len(distributionList), i + 1)\n",
    "    _ = ot.viewer.View(graph, figure=fig, axes=[ax_pdf])"
   ]
  },
  {
   "cell_type": "markdown",
   "metadata": {},
   "source": [
    "L'ajustement pour la loi uniforme est inacceptable, mais la loi beta pourrait convenir."
   ]
  },
  {
   "cell_type": "markdown",
   "metadata": {
    "slideshow": {
     "slide_type": "slide"
    }
   },
   "source": [
    "## Tests statistiques\n"
   ]
  },
  {
   "cell_type": "markdown",
   "metadata": {
    "slideshow": {
     "slide_type": "-"
    }
   },
   "source": [
    "Les méthodes de tests statistiques permettent de quantifier l'écart entre l'échantillon et la loi estimée. Plusieurs méthodes sont disponibles dans la librairie, mais les deux méthodes les plus fréquemment utilisées sont :\n",
    "- le test de Kolmogorov-Smirnov (KS), qui quantifie l'écart maximal entre la fonction de répartition empirique et la fonction de répartition théorique,\n",
    "- le critère BIC, qui permet de pénaliser les distributions associées à un plus grand nombre de paramètres."
   ]
  },
  {
   "cell_type": "markdown",
   "metadata": {
    "slideshow": {
     "slide_type": "slide"
    }
   },
   "source": [
    "## Test de Kolmogorov-Smirnov\n",
    "\n",
    "Soit $n$ la taille de l'échantillon. Soit $\\{x_i\\}_{i=1,...,n}$ un échantillon i.i.d. de la variable aléatoire réelle $X$. Soit $F$ la fonction de répartition que l'on souhaite tester. Le test de Kolmogorov-Smirnov est fondé sur la statistique suivante :\n",
    "$$\n",
    "\\hat{D}_n = \\max_{i=1,...,n} \\left|F(x_i) - \\frac{i-1}{n}, \\frac{i}{n} - F(x_i)\\right|.\n",
    "$$\n",
    "Cette statistique mesure l'écart entre la fonction de répartition théorique et la fonction de répartition empirique. \n",
    "\n",
    "Faisons l'hypothèse que l'échantillon est issu de la fonction de répartition $F$. Soit $D$ la variable aléatoire associée à la statistique de KS. Soit $p\\in[0,1]$ la probabilité d'observer un tel écart :\n",
    "$$\n",
    "P\\left(D \\geq \\hat{D}_n\\right) = p.\n",
    "$$\n",
    "La probabilité $p$ est la *p-valeur* du test. Si $p$ est trop proche de zéro (par exemple si $p<0.05$), alors on considère que l'échantillon n'est pas issu de $F$ et on rejette la loi. Sinon, on ne peut pas rejeter l'hypothèse. "
   ]
  },
  {
   "cell_type": "markdown",
   "metadata": {
    "slideshow": {
     "slide_type": "slide"
    }
   },
   "source": [
    "Deux situations doivent être opposées. \n",
    "- Si l'on connait les paramètres de la loi à tester, alors la distribution de la statistique de KS est connue tant pour $n$ grand (distribution asymptotique) que pour $n$ fini. \n",
    "- Si les paramètres de la loi sont estimés sur l'échantillon alors la distribution de la statistique de KS est inconnue en général. Dans ce cas, on procède par échantillonnage. \n",
    "\n",
    "Si les paramètres de la loi sont estimés sur l'échantillon, alors l'adéquation est meilleure avec les données. Cela qui diminue la valeur de la statistique de test, d'autant plus  que la distribution possède plus de paramètres à ajuster. En d'autres termes, les faibles valeurs de la statistique de test sont plus fréquentes. "
   ]
  },
  {
   "cell_type": "markdown",
   "metadata": {
    "slideshow": {
     "slide_type": "slide"
    }
   },
   "source": [
    "## Cas 1 : les paramètres de la loi sont connus\n",
    "\n",
    "Selon la situation dans laquelle on se situe, ce n'est pas le même constructeur de la classe `FittingTest.Kolmogorov` qui doit être utilisé.\n",
    "\n",
    "Premièrement, plaçons nous dans la situation où les paramètres sont connus. Dans cette situation, le second argument de la classe `Kolmogorov` est la distribution testée, c'est à dire un objet de type `Distribution`.\n",
    "\n",
    "Le script suivant teste l'hypothèse \n",
    "\n",
    "H0 = \"l'échantillon est issu de la distribution gaussienne de paramètres $\\mu=0$ et $\\sigma=1$\""
   ]
  },
  {
   "cell_type": "code",
   "execution_count": 8,
   "metadata": {
    "slideshow": {
     "slide_type": "slide"
    }
   },
   "outputs": [
    {
     "data": {
      "text/html": [
       "<p>class=TestResult name=Unnamed type=Kolmogorov Normal binaryQualityMeasure=true p-value threshold=0.05 p-value=0.490259 statistic=0.0817682 description=[Normal(mu = 0, sigma = 1) vs sample Normal]</p>"
      ],
      "text/plain": [
       "class=TestResult name=Unnamed type=Kolmogorov Normal binaryQualityMeasure=true p-value threshold=0.05 p-value=0.490259 statistic=0.0817682 description=[Normal(mu = 0, sigma = 1) vs sample Normal]"
      ]
     },
     "execution_count": 8,
     "metadata": {},
     "output_type": "execute_result"
    }
   ],
   "source": [
    "T = ot.Normal()\n",
    "ksresult = ot.FittingTest.Kolmogorov(data, T)\n",
    "ksresult"
   ]
  },
  {
   "cell_type": "code",
   "execution_count": 9,
   "metadata": {},
   "outputs": [
    {
     "data": {
      "text/plain": [
       "0.49025908234293103"
      ]
     },
     "execution_count": 9,
     "metadata": {},
     "output_type": "execute_result"
    }
   ],
   "source": [
    "ksresult.getPValue()"
   ]
  },
  {
   "cell_type": "code",
   "execution_count": 10,
   "metadata": {
    "scrolled": true
   },
   "outputs": [
    {
     "data": {
      "text/plain": [
       "0.05"
      ]
     },
     "execution_count": 10,
     "metadata": {},
     "output_type": "execute_result"
    }
   ],
   "source": [
    "ksresult.getThreshold()"
   ]
  },
  {
   "cell_type": "markdown",
   "metadata": {},
   "source": [
    "La méthode `getBinaryQualityMeasure` renvoit vrai si on ne peut pas rejeter l'hypothèse H0. Les esprits les plus téméraires affirmeraient qu'on \"accepte l'hypothèse\", mais les statisticiens sont de tempérament prudent."
   ]
  },
  {
   "cell_type": "code",
   "execution_count": 11,
   "metadata": {
    "scrolled": true
   },
   "outputs": [
    {
     "data": {
      "text/plain": [
       "True"
      ]
     },
     "execution_count": 11,
     "metadata": {},
     "output_type": "execute_result"
    }
   ],
   "source": [
    "ksresult.getBinaryQualityMeasure()"
   ]
  },
  {
   "cell_type": "markdown",
   "metadata": {
    "slideshow": {
     "slide_type": "slide"
    }
   },
   "source": [
    "## Cas 2 : les paramètres de la loi sont estimés\n",
    "\n",
    "Deuxièmement, on se place dans la situation où les paramètres sont estimés sur l'échantillon. Dans cette situation, on doit utiliser le second argument de la classe `Kolmogorov` est la méthode d'estimation de la distribution à tester, c'est à dire un objet de type `Factory`.\n",
    "\n",
    "Pour estimer la distribution de la statistique de test, nous commençons par configurer la taille de l'échantillon utilisé par l'algorithme."
   ]
  },
  {
   "cell_type": "code",
   "execution_count": 12,
   "metadata": {},
   "outputs": [],
   "source": [
    "ot.ResourceMap.SetAsUnsignedInteger(\"FittingTest-LillieforsMaximumSamplingSize\",1000)"
   ]
  },
  {
   "cell_type": "code",
   "execution_count": 13,
   "metadata": {
    "slideshow": {
     "slide_type": "slide"
    }
   },
   "outputs": [],
   "source": [
    "fact = ot.NormalFactory()\n",
    "dist, result = ot.FittingTest.Lilliefors(data, fact, 0.01)"
   ]
  },
  {
   "cell_type": "code",
   "execution_count": 14,
   "metadata": {},
   "outputs": [
    {
     "data": {
      "text/plain": [
       "0.558"
      ]
     },
     "execution_count": 14,
     "metadata": {},
     "output_type": "execute_result"
    }
   ],
   "source": [
    "result.getPValue()"
   ]
  },
  {
   "cell_type": "markdown",
   "metadata": {},
   "source": [
    "La p-valeur est proche de 0.345, ce qui implique que l'hypothèse ne peut pas être rejetée."
   ]
  },
  {
   "cell_type": "code",
   "execution_count": 15,
   "metadata": {},
   "outputs": [
    {
     "data": {
      "text/plain": [
       "True"
      ]
     },
     "execution_count": 15,
     "metadata": {},
     "output_type": "execute_result"
    }
   ],
   "source": [
    "result.getBinaryQualityMeasure()"
   ]
  },
  {
   "cell_type": "markdown",
   "metadata": {
    "slideshow": {
     "slide_type": "slide"
    }
   },
   "source": [
    "## Cas 3 : les paramètres de la loi sont estimés, mais l'utilisateur commet une erreur\n",
    "\n",
    "Troisièmement, on se place dans la situation où les paramètres sont estimés sur l'échantillon mais l'utilisateur fait comme si les paramètres étaient connus. Dans cette situation, la p-valeur calculée par la librairie sera fausse et plus grande que la p-valeur correcte : on risque d'accepter à tort. C'est une erreur de la part de l'utilisateur."
   ]
  },
  {
   "cell_type": "code",
   "execution_count": 16,
   "metadata": {},
   "outputs": [
    {
     "data": {
      "text/html": [
       "<p>class=TestResult name=Unnamed type=Kolmogorov Normal binaryQualityMeasure=true p-value threshold=0.05 p-value=0.879738 statistic=0.0572416 description=[Normal(mu = 0.0647826, sigma = 0.991286) vs sample Normal]</p>"
      ],
      "text/plain": [
       "class=TestResult name=Unnamed type=Kolmogorov Normal binaryQualityMeasure=true p-value threshold=0.05 p-value=0.879738 statistic=0.0572416 description=[Normal(mu = 0.0647826, sigma = 0.991286) vs sample Normal]"
      ]
     },
     "execution_count": 16,
     "metadata": {},
     "output_type": "execute_result"
    }
   ],
   "source": [
    "dist = ot.NormalFactory().build(data)\n",
    "test_result = ot.FittingTest.Kolmogorov(data, dist)\n",
    "test_result"
   ]
  },
  {
   "cell_type": "code",
   "execution_count": 17,
   "metadata": {},
   "outputs": [
    {
     "data": {
      "text/plain": [
       "0.8797383423677565"
      ]
     },
     "execution_count": 17,
     "metadata": {},
     "output_type": "execute_result"
    }
   ],
   "source": [
    "test_result.getPValue()"
   ]
  },
  {
   "cell_type": "markdown",
   "metadata": {},
   "source": [
    "On observe que la p-valeur, fausse, vaut 0.88 alors que la p-valeur correcte est 0.8."
   ]
  },
  {
   "cell_type": "code",
   "execution_count": 18,
   "metadata": {},
   "outputs": [
    {
     "data": {
      "text/plain": [
       "True"
      ]
     },
     "execution_count": 18,
     "metadata": {},
     "output_type": "execute_result"
    }
   ],
   "source": [
    "test_result.getBinaryQualityMeasure()"
   ]
  },
  {
   "cell_type": "markdown",
   "metadata": {
    "slideshow": {
     "slide_type": "slide"
    }
   },
   "source": [
    "## Critère BIC\n",
    "\n",
    "Le critère Bayesian Information Criterion est un critère qui permet de sélectionner la distribution parmi une collection de $K$ distributions à tester. \n",
    "\n",
    "Pour $i=1,...,K$, soit $L_i$ la valeur du maximum de vraisemblance du i-ème modèle et soit $p_i$ le nombre de paramètres du i-ème modèle. Par exemple, si l'on considère la loi gaussienne, alors $p_i=2$, puisque cette loi est déterminée par les deux paramètres $\\mu$ et $\\sigma$. Le critère BIC implémenté dans la librairie est \n",
    "$$\n",
    "BIC_i = -2 \\frac{\\log(L_i)}{n} + \\frac{p_i \\log(n)}{n} \n",
    "$$\n",
    "où $n$ est la taille de l'échantillon. \n",
    "\n",
    "Le critère consiste à préférer la distribution associée à la plus petite valeur du critère BIC. \n",
    "\n",
    "D'une part, lorsque la distribution dépend d'un grand nombre de paramètres (i.e. lorsque $p_i$ est grand, alors l'ajustement est meilleur ce qui implique que la log-vraisemblance est plus grande et donc $-\\log(L_i)$ est plus petit. D'autre part, puisque le critère dépend du nombre de paramètres $p_i$, ce critère défavorise les distributions ayant un nombre de paramètres élevé. D'une manière globale, le critère réalise une pondération entre la qualité de l'ajustement et le nombre de paramètres. "
   ]
  },
  {
   "cell_type": "markdown",
   "metadata": {
    "slideshow": {
     "slide_type": "slide"
    }
   },
   "source": [
    "Dans la session suivante, on évalue le critère BIC pour la distribution gaussienne. "
   ]
  },
  {
   "cell_type": "code",
   "execution_count": 19,
   "metadata": {},
   "outputs": [
    {
     "data": {
      "text/plain": [
       "2.8148953639402152"
      ]
     },
     "execution_count": 19,
     "metadata": {},
     "output_type": "execute_result"
    }
   ],
   "source": [
    "ot.FittingTest.BIC(data, ot.Normal())"
   ]
  },
  {
   "cell_type": "markdown",
   "metadata": {
    "slideshow": {
     "slide_type": "-"
    }
   },
   "source": [
    "Dans l'absolu, ce critère n'est pas utile ; il n'est utile que par comparaison avec les autres distributions. "
   ]
  },
  {
   "cell_type": "markdown",
   "metadata": {
    "slideshow": {
     "slide_type": "slide"
    }
   },
   "source": [
    "Dans la boucle `for` suivante, on teste les lois gaussienne, uniforme, beta et log-normale et on évalue le critère BIC."
   ]
  },
  {
   "cell_type": "code",
   "execution_count": 20,
   "metadata": {
    "scrolled": true,
    "slideshow": {
     "slide_type": "-"
    }
   },
   "outputs": [
    {
     "name": "stdout",
     "output_type": "stream",
     "text": [
      "Name, BIC\n",
      "Normal: 2.8104\n",
      "Uniform: 3.0631\n",
      "Beta: 2.8490\n",
      "LogNormal: 2.8103\n"
     ]
    }
   ],
   "source": [
    "print(\"Name, BIC\")\n",
    "for F in [ot.NormalFactory(),ot.UniformFactory(),ot.BetaFactory(),ot.LogNormalFactory()]:\n",
    "    T = F.build(data)\n",
    "    name = T.getName()\n",
    "    bic = ot.FittingTest.BIC(data, T)\n",
    "    print(\"%s: %.4f\" % (name, bic))"
   ]
  },
  {
   "cell_type": "markdown",
   "metadata": {},
   "source": [
    "On observe que la plus petite valeur de BIC est atteinte pour les lois gaussienne et log-normale. La valeur pour la loi beta est significativement plus grande et la loi uniforme est disqualifiée."
   ]
  },
  {
   "cell_type": "markdown",
   "metadata": {
    "slideshow": {
     "slide_type": "slide"
    }
   },
   "source": [
    "## Estimation non paramétrique : l'histogramme"
   ]
  },
  {
   "cell_type": "markdown",
   "metadata": {
    "slideshow": {
     "slide_type": "-"
    }
   },
   "source": [
    "Soit $\\{x_i\\}_{i=1,...,n}$ un échantillon unidimensionnel de taille $n$. La méthode la plus simple pour créer un histogramme consiste à créer des classes dont la largeur $h$ est fixée et constante. On note $a$ et $b$ les valeurs minimales et maximales dans l'échantillon :\n",
    "\n",
    "$$\n",
    "a = \\min_{i=1,...,n} x_i, \\qquad b = \\max_{i=1,...,n} x_i.\n",
    "$$\n",
    "\n",
    "Pour $i=1,...,m$, on note $t_i\\in\\mathbb{R}$ les bords des classes où $m$ est le nombre de classes et on fait l'hypothèse que le bords sont triés par ordre strictement croissants :\n",
    "\n",
    "$$\n",
    "t_1 < t_2 < \\ldots < t_m.\n",
    "$$\n",
    "\n",
    "Dans le cas particulier où les classes sont de largeur constante, on a :\n",
    "\n",
    "$$\n",
    "h = t_i - t_{i-1} \n",
    "$$\n",
    "\n",
    "pour $i=2,...,m$. "
   ]
  },
  {
   "cell_type": "markdown",
   "metadata": {
    "slideshow": {
     "slide_type": "slide"
    }
   },
   "source": [
    "Les classes sont les intervalles $[t_{i-1},t_i[\\subset\\mathbb{R}$ pour $i=2,...,m$. \n",
    "\n",
    "Soit $n_i$ le nombre de valeurs de l'échantillon dans la classe $[t_{i-1},t_i]$ :\n",
    "\n",
    "$$\n",
    "n_i = \\#\\left\\{x_j\\in [t_{i-1},t_i[, \\, j=1,...,n\\right\\}\n",
    "$$\n",
    "\n",
    "pour $i=1,...,m-1$. \n",
    "\n",
    "Soit \n",
    "\n",
    "$$\n",
    "y_i = \\frac{n_i}{w_i},\n",
    "$$\n",
    "\n",
    "où $w_i$ est un poids permettant d'assurer la normalisation de l'histogramme : \n",
    "\n",
    "$$\n",
    "\\sum_{i=1}^{m-1} y_i (t_{i+1} - t_{i}) = 1.\n",
    "$$"
   ]
  },
  {
   "cell_type": "markdown",
   "metadata": {
    "slideshow": {
     "slide_type": "slide"
    }
   },
   "source": [
    "Par exemple, avec une largeur de classe constante égale à $h$, on a \n",
    "\n",
    "$$\n",
    "w_i = \\frac{n}{h}.\n",
    "$$\n",
    "\n",
    "L'histogramme est la densité de probabilité définie par l'équation :\n",
    "\n",
    "$$\n",
    "f_X(x) = \\sum_{i=1}^{m-1} y_i\\;\\mathbb{1}_{[t_i,t_{i+1}]}(x)\n",
    "$$\n",
    "\n",
    "pour tout $x\\in[a,b]$. \n",
    "\n",
    "La valeur par défaut de la largeur de classe $h$ est la règle de Silverman qui minimise le critère AMISE :\n",
    "\n",
    "$$\n",
    "h = \\left(\\frac{24 \\sqrt{\\pi}}{n}\\right)^{1/3}  \\sigma_n\n",
    "$$\n",
    "\n",
    "où $\\sigma_n$ est l'écart-type empirique non biaisé de l'échantillon."
   ]
  },
  {
   "cell_type": "code",
   "execution_count": 21,
   "metadata": {
    "slideshow": {
     "slide_type": "slide"
    }
   },
   "outputs": [
    {
     "data": {
      "text/html": [
       "<p>Histogram(origin = -2.29006, {w0 = 0.648042, h0 = 0.0771555}, {w1 = 0.648042, h1 = 0.108018}, {w2 = 0.648042, h2 = 0.401209}, {w3 = 0.648042, h3 = 0.262329}, {w4 = 0.648042, h4 = 0.401209}, {w5 = 0.648042, h5 = 0.169742}, {w6 = 0.648042, h6 = 0.123449})</p>"
      ],
      "text/plain": [
       "class=Histogram name=Histogram dimension=1 first=-2.29006 width=class=Point name=Unnamed dimension=7 values=[0.648042,0.648042,0.648042,0.648042,0.648042,0.648042,0.648042] height=class=Point name=Unnamed dimension=7 values=[0.0771555,0.108018,0.401209,0.262329,0.401209,0.169742,0.123449]"
      ]
     },
     "execution_count": 21,
     "metadata": {},
     "output_type": "execute_result"
    }
   ],
   "source": [
    "histo = ot.HistogramFactory().build(data)\n",
    "histo"
   ]
  },
  {
   "cell_type": "code",
   "execution_count": 22,
   "metadata": {},
   "outputs": [
    {
     "data": {
      "image/png": "[encoded data removed]",
      "text/plain": [
       "class=Graph name=X0 PDF implementation=class=GraphImplementation name=X0 PDF title=X0 PDF xTitle=X0 yTitle=PDF axes=ON grid=ON legendposition=topright legendFontSize=1 drawables=[class=Drawable name=Unnamed implementation=class=Curve name=Unnamed derived from class=DrawableImplementation name=Unnamed legend=X0 PDF data=class=Sample name=Unnamed implementation=class=SampleImplementation name=Unnamed size=32 dimension=2 data=[[-2.61408,0],[-2.29006,0],[-2.29006,0],[-2.29006,0.0771555],[-1.64202,0.0771555],[-1.64202,0],[-1.64202,0],[-1.64202,0.108018],[-0.993979,0.108018],[-0.993979,0],[-0.993979,0],[-0.993979,0.401209],[-0.345937,0.401209],[-0.345937,0],[-0.345937,0],[-0.345937,0.262329],[0.302104,0.262329],[0.302104,0],[0.302104,0],[0.302104,0.401209],[0.950146,0.401209],[0.950146,0],[0.950146,0],[0.950146,0.169742],[1.59819,0.169742],[1.59819,0],[1.59819,0],[1.59819,0.123449],[2.24623,0.123449],[2.24623,0],[2.24623,0],[2.57025,0]] color=red fillStyle=solid lineStyle=solid pointStyle=none lineWidth=2]"
      ]
     },
     "execution_count": 22,
     "metadata": {},
     "output_type": "execute_result"
    }
   ],
   "source": [
    "histo.drawPDF()"
   ]
  },
  {
   "cell_type": "markdown",
   "metadata": {
    "slideshow": {
     "slide_type": "slide"
    }
   },
   "source": [
    "## Méthodes à noyau\n",
    "\n",
    "Soit $k$ une loi de distribution univariée. Par définition, cela implique :\n",
    "\n",
    "$$\n",
    "\\int_{-\\infty}^{+\\infty} k(x) dx = 1.\n",
    "$$\n",
    "\n",
    "L'estimateur à noyau est la densité de probabilité définie par :\n",
    "\n",
    "$$\n",
    "f_{KS}(x) = \\frac{1}{n\\,h} \\sum_{i=1}^n k \\left( \\frac{x-x_i}{h} \\right)\n",
    "$$\n",
    "\n",
    "où $h$ est la largeur de bande et $n$ est la taille de l'échantillon."
   ]
  },
  {
   "cell_type": "markdown",
   "metadata": {
    "slideshow": {
     "slide_type": "slide"
    }
   },
   "source": [
    "En pratique, les deux noyaux les plus utilisés sont :\n",
    "- le noyau gaussien, i.e. \n",
    "\n",
    "$$\n",
    "k(x) = \\varphi(x) = \\frac{1}{\\sqrt{2\\pi}} \\exp\\left(-\\frac{x^2}{2}\\right)\n",
    "$$\n",
    "\n",
    "pour tout $x\\in\\mathbb{R}$.\n",
    "\n",
    "- le noyau d'Epanechnikov :\n",
    "$$\n",
    "k(x) = \\frac{3}{4} (1-x^2)\n",
    "$$\n",
    "\n",
    "pour tout $x\\in[-1,1]$ et $k(x) = 0$ sinon.\n",
    "\n",
    "Le noyau d'Epanechnikov est optimal au sens de l'erreur moyenne quadratique. "
   ]
  },
  {
   "cell_type": "code",
   "execution_count": 23,
   "metadata": {
    "slideshow": {
     "slide_type": "slide"
    }
   },
   "outputs": [
    {
     "data": {
      "text/html": [
       "<p>KernelSmoothing</p>"
      ],
      "text/plain": [
       "<openturns.dist_bundle2.KernelSmoothing; proxy of <Swig Object of type 'OT::KernelSmoothing *' at 0x7fdd104db810> >"
      ]
     },
     "execution_count": 23,
     "metadata": {},
     "output_type": "execute_result"
    }
   ],
   "source": [
    "ksfactory = ot.KernelSmoothing()\n",
    "ksfactory"
   ]
  },
  {
   "cell_type": "code",
   "execution_count": 24,
   "metadata": {},
   "outputs": [],
   "source": [
    "KS = ksfactory.build(data)"
   ]
  },
  {
   "cell_type": "code",
   "execution_count": 25,
   "metadata": {
    "scrolled": true
   },
   "outputs": [
    {
     "data": {
      "image/png": "[encoded data removed]",
      "text/plain": [
       "class=Graph name=pdf as a function of X0 implementation=class=GraphImplementation name=pdf as a function of X0 title= xTitle=X0 yTitle=PDF axes=ON grid=ON legendposition=topright legendFontSize=1 drawables=[class=Drawable name=Unnamed implementation=class=Curve name=Unnamed derived from class=DrawableImplementation name=Unnamed legend=X0 PDF data=class=Sample name=Unnamed implementation=class=SampleImplementation name=Unnamed size=129 dimension=2 data=[[-3.96445,2.67511e-06],[-3.90141,5.08342e-06],[-3.83837,9.43627e-06],[-3.77532,1.7112e-05],[-3.71228,3.03172e-05],[-3.64923,5.24799e-05],[-3.58619,8.87673e-05],[-3.52315,0.000146727],[-3.4601,0.000237033],[-3.39706,0.00037429],[-3.33402,0.000577788],[-3.27097,0.000872089],[-3.20793,0.00128726],[-3.14489,0.00185858],[-3.08184,0.00262552],[-3.0188,0.0036299],[-2.95575,0.00491321],[-2.89271,0.00651327],[-2.82967,0.00846045],[-2.76662,0.0107741],[-2.70358,0.0134594],[-2.64054,0.0165059],[-2.57749,0.0198877],[-2.51445,0.0235655],[-2.45141,0.027491],[-2.38836,0.0316133],[-2.32532,0.0358861],[-2.26228,0.0402755],[-2.19923,0.0447672],[-2.13619,0.0493719],[-2.07314,0.0541293],[-2.0101,0.059109],[-1.94706,0.0644093],[-1.88401,0.0701531],[-1.82097,0.0764823],[-1.75793,0.0835496],[-1.69488,0.0915087],[-1.63184,0.100503],[-1.5688,0.110654],[-1.50575,0.122043],[-1.44271,0.134704],[-1.37966,0.148605],[-1.31662,0.16364],[-1.25358,0.179623],[-1.19053,0.196286],[-1.12749,0.213294],[-1.06445,0.230256],[-1.0014,0.246751],[-0.93836,0.262361],[-0.875316,0.2767],[-0.812273,0.289449],[-0.749229,0.300383],[-0.686185,0.309387],[-0.623142,0.316466],[-0.560098,0.321745],[-0.497055,0.32545],[-0.434011,0.327889],[-0.370967,0.329423],[-0.307924,0.330429],[-0.24488,0.331266],[-0.181837,0.332246],[-0.118793,0.3336],[-0.0557494,0.335457],[0.00729421,0.337832],[0.0703378,0.340624],[0.133381,0.343619],[0.196425,0.346512],[0.259469,0.348936],[0.322512,0.350493],[0.385556,0.350795],[0.448599,0.349498],[0.511643,0.346337],[0.574687,0.341146],[0.63773,0.333874],[0.700774,0.324585],[0.763817,0.313447],[0.826861,0.300723],[0.889905,0.286739],[0.952948,0.271863],[1.01599,0.256476],[1.07904,0.24095],[1.14208,0.225625],[1.20512,0.210787],[1.26817,0.196663],[1.33121,0.183408],[1.39425,0.171102],[1.4573,0.159756],[1.52034,0.149318],[1.58338,0.139683],[1.64643,0.130712],[1.70947,0.122245],[1.77251,0.114123],[1.83556,0.106203],[1.8986,0.0983708],[1.96165,0.0905509],[2.02469,0.0827122],[2.08773,0.0748666],[2.15078,0.0670642],[2.21382,0.0593847],[2.27686,0.0519264],[2.33991,0.0447951],[2.40295,0.0380928],[2.46599,0.0319079],[2.52904,0.0263089],[2.59208,0.0213396],[2.65513,0.0170174],[2.71817,0.0133349],[2.78121,0.0102625],[2.84426,0.00775309],[2.9073,0.00574726],[2.97034,0.00417855],[3.03339,0.0029785],[3.09643,0.00208072],[3.15947,0.00142405],[3.22252,0.000954543],[3.28556,0.000626461],[3.3486,0.000402443],[3.41165,0.000253],[3.47469,0.000155612],[3.53774,9.36237e-05],[3.60078,5.50892e-05],[3.66382,3.16966e-05],[3.72687,1.78303e-05],[3.78991,9.80499e-06],[3.85295,5.27015e-06],[3.916,2.76846e-06],[3.97904,1.42118e-06],[4.04208,7.12885e-07],[4.10513,3.4939e-07]] color=red fillStyle=solid lineStyle=solid pointStyle=none lineWidth=2]"
      ]
     },
     "execution_count": 25,
     "metadata": {},
     "output_type": "execute_result"
    }
   ],
   "source": [
    "KS.drawPDF()"
   ]
  },
  {
   "cell_type": "markdown",
   "metadata": {
    "slideshow": {
     "slide_type": "slide"
    }
   },
   "source": [
    "Dans la boucle `for` suivante, on compare le noyau gaussien et le noyau d'Epanechnikov en termes de test de Kolmogorov-Smirnov et de critère BIC."
   ]
  },
  {
   "cell_type": "code",
   "execution_count": 26,
   "metadata": {
    "slideshow": {
     "slide_type": "-"
    }
   },
   "outputs": [
    {
     "data": {
      "image/png": "[encoded data removed]",
      "text/plain": [
       "<Figure size 864x216 with 2 Axes>"
      ]
     },
     "metadata": {
      "needs_background": "light"
     },
     "output_type": "display_data"
    }
   ],
   "source": [
    "kernels = [ot.Normal(), ot.Epanechnikov()]\n",
    "fig = pl.figure(figsize = (12,3))\n",
    "for i in range(len(kernels)):\n",
    "    kernel = kernels[i]\n",
    "    name = kernel.getName()\n",
    "    distribution = ot.KernelSmoothing(kernel).build(data)\n",
    "    pval = ot.FittingTest.Kolmogorov(data, distribution).getPValue()\n",
    "    bic = ot.FittingTest.BIC(data, distribution)\n",
    "    graph = distribution.drawPDF()\n",
    "    ax_pdf = fig.add_subplot(1, len(kernels), i + 1)\n",
    "    ax_pdf.set_title(\"%s, p-value=%.4f, BIC = %.3f\" % (name, pval, bic))\n",
    "    _ = ot.viewer.View(graph, figure=fig, axes=[ax_pdf])"
   ]
  },
  {
   "cell_type": "markdown",
   "metadata": {
    "slideshow": {
     "slide_type": "slide"
    }
   },
   "source": [
    "## Références\n",
    "\n",
    "- http://openturns.github.io/openturns/master/theory/data_analysis/maximum_likelihood.html\n",
    "- http://openturns.github.io/openturns/master/theory/data_analysis/kolmogorov_test.html\n",
    "- http://openturns.github.io/openturns/master/theory/data_analysis/bic.html\n",
    "- https://en.wikipedia.org/wiki/Kernel_%28statistics%29"
   ]
  }
 ],
 "metadata": {
  "anaconda-cloud": {},
  "celltoolbar": "Slideshow",
  "kernelspec": {
   "display_name": "Python 3 (ipykernel)",
   "language": "python",
   "name": "python3"
  },
  "language_info": {
   "codemirror_mode": {
    "name": "ipython",
    "version": 3
   },
   "file_extension": ".py",
   "mimetype": "text/x-python",
   "name": "python",
   "nbconvert_exporter": "python",
   "pygments_lexer": "ipython3",
   "version": "3.10.12"
  }
 },
 "nbformat": 4,
 "nbformat_minor": 1
}
